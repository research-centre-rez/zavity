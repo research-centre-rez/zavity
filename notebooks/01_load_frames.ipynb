{
 "cells": [
  {
   "metadata": {
    "ExecuteTime": {
     "end_time": "2025-04-09T06:31:20.443561Z",
     "start_time": "2025-04-09T06:31:19.583669Z"
    }
   },
   "cell_type": "code",
   "source": [
    "import subprocess\n",
    "import time\n",
    "\n",
    "import numpy as np\n",
    "from matplotlib import pyplot as plt\n",
    "\n",
    "Y1 = 550\n",
    "Y2 = 1850\n",
    "X1 = 1350\n",
    "X2 = 2650\n",
    "DEVERNAY_DOWNSCALE = 4"
   ],
   "id": "be043e8d1a22c70c",
   "execution_count": 1,
   "outputs": []
  },
  {
   "cell_type": "code",
   "id": "initial_id",
   "metadata": {
    "collapsed": true,
    "ExecuteTime": {
     "end_time": "2025-04-09T06:31:30.537720Z",
     "start_time": "2025-04-09T06:31:22.090099Z"
    }
   },
   "source": [
    "start_time = time.time()\n",
    "w = X2 - X1\n",
    "h = Y2 - Y1\n",
    "total_frames = 300\n",
    "step = 28\n",
    "command = [\n",
    "            \"ffmpeg\",\n",
    "            \"-y\",\n",
    "            \"-i\", \"/Users/fathe/OneDrive/Documents/UK/MFF/Thesis/input/srp_GX010027.MP4\",\n",
    "            # \"-vf\",f\"crop={w}:{h}:{X1}:{Y1},scale={w // DEVERNAY_DOWNSCALE}:{h // DEVERNAY_DOWNSCALE},format=gray,select='not(mod(n\\\\,{step}))'\",\n",
    "            # \"-vsync\", \"vfr\",  # very important for select to work\n",
    "            \"-vframes\", str(total_frames),\n",
    "            \"-pix_fmt\", \"gray\",\n",
    "            \"-f\", \"rawvideo\",\n",
    "            \"pipe:1\"\n",
    "        ]\n",
    "pipe = subprocess.Popen(command, stdout=subprocess.PIPE, stderr=subprocess.DEVNULL)\n",
    "\n",
    "# frame_size = int((w // DEVERNAY_DOWNSCALE) * (h // DEVERNAY_DOWNSCALE))\n",
    "frame_size = 3840 * 2160\n",
    "frames = []\n",
    "\n",
    "while True:\n",
    "    raw = pipe.stdout.read(frame_size)\n",
    "    if not raw or len(raw) < frame_size:\n",
    "        break\n",
    "    # frame = np.frombuffer(raw, dtype=np.uint8).reshape(\n",
    "    #     (h // DEVERNAY_DOWNSCALE, w // DEVERNAY_DOWNSCALE)\n",
    "    # )\n",
    "    frame = np.frombuffer(raw, dtype=np.uint8).reshape((3840, 2160))\n",
    "    frames.append(frame)\n",
    "\n",
    "pipe.stdout.close()\n",
    "pipe.wait()\n",
    "\n",
    "print(time.time() - start_time)\n",
    "frames = np.array(frames)"
   ],
   "execution_count": 2,
   "outputs": []
  },
  {
   "metadata": {
    "ExecuteTime": {
     "end_time": "2025-04-09T06:30:00.895951Z",
     "start_time": "2025-04-09T06:30:00.889786Z"
    }
   },
   "cell_type": "code",
   "source": "frames.shape",
   "id": "4c777a552b8fb6a2",
   "execution_count": 10,
   "outputs": []
  },
  {
   "metadata": {
    "ExecuteTime": {
     "end_time": "2025-04-08T13:31:30.169847Z",
     "start_time": "2025-04-08T13:31:30.024947Z"
    }
   },
   "cell_type": "code",
   "source": [
    "plt.figure(figsize=(10, 5))\n",
    "plt.imshow(frames[0]-frames[4], cmap='gray')\n",
    "plt.axis('off')\n",
    "plt.show()"
   ],
   "id": "eae7db196c4ca885",
   "execution_count": 4,
   "outputs": []
  },
  {
   "metadata": {
    "ExecuteTime": {
     "end_time": "2025-04-09T06:42:57.070946Z",
     "start_time": "2025-04-09T06:42:57.051024Z"
    }
   },
   "cell_type": "code",
   "source": [
    "import psutil\n",
    "\n",
    "ram_bytes = psutil.virtual_memory().total\n",
    "ram_gb = ram_bytes / (1024 ** 3)\n",
    "\n",
    "print(f\"Total RAM: {ram_gb:.2f} GB\")\n"
   ],
   "id": "33f0d6b0b7c2a0bf",
   "execution_count": 3,
   "outputs": []
  },
  {
   "metadata": {},
   "cell_type": "code",
   "execution_count": null,
   "source": "",
   "id": "1dbcbb8e7f17d7e6",
   "outputs": []
  }
 ],
 "metadata": {
  "kernelspec": {
   "display_name": "Python 3",
   "language": "python",
   "name": "python3"
  },
  "language_info": {
   "codemirror_mode": {
    "name": "ipython",
    "version": 2
   },
   "file_extension": ".py",
   "mimetype": "text/x-python",
   "name": "python",
   "nbconvert_exporter": "python",
   "pygments_lexer": "ipython2",
   "version": "2.7.6"
  }
 },
 "nbformat": 4,
 "nbformat_minor": 5
}
