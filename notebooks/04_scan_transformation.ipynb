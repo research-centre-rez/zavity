{
 "cells": [
  {
   "cell_type": "code",
   "id": "2e9ecb582f9489f9",
   "metadata": {
    "collapsed": true,
    "ExecuteTime": {
     "end_time": "2024-12-04T10:54:03.013774Z",
     "start_time": "2024-12-04T10:53:59.477121Z"
    }
   },
   "source": [
    "import os\n",
    "from scipy.optimize import least_squares, curve_fit\n",
    "from stl import mesh\n",
    "import math\n",
    "import numpy as np\n",
    "from matplotlib import pyplot, pyplot as plt\n",
    "from mpl_toolkits import mplot3d\n",
    "from tqdm.auto import tqdm"
   ],
   "execution_count": 1,
   "outputs": []
  },
  {
   "metadata": {
    "ExecuteTime": {
     "end_time": "2024-12-04T10:54:04.465960Z",
     "start_time": "2024-12-04T10:54:04.413668Z"
    }
   },
   "cell_type": "code",
   "source": [
    "def get3DDistance(point1, point2):\n",
    "    return math.sqrt((point1[0] - point2[0])**2 + (point1[1] - point2[1])**2 + (point1[2] - point2[2])**2)\n",
    "\n",
    "def get2DDistance(point1, point2):\n",
    "    return math.sqrt((point1[0] - point2[0])**2 + (point1[1] - point2[1])**2)\n",
    "\n",
    "def residuals(params, points):\n",
    "    a, b, R = params\n",
    "    return np.sqrt((points[:, 0] - a)**2 + (points[:, 1] - b)**2) - R\n",
    "\n",
    "def line(x, A, B):\n",
    "    return A * x + B\n",
    "\n",
    "def sinusoid(x, A, B, C, D):\n",
    "    return A * np.sin(B * (x - C)) + D\n",
    "\n",
    "def rotated_sinusoid(xy, A, B, C, D, theta):\n",
    "    x, y = xy\n",
    "    # Rotate the coordinates\n",
    "    x_prime = x * np.cos(theta) + y * np.sin(theta)\n",
    "    y_prime = -x * np.sin(theta) + y * np.cos(theta)\n",
    "    \n",
    "    # Apply the sinusoidal function in the rotated frame\n",
    "    return A * np.sin(B * x_prime + C) + D\n",
    "\n",
    "def tangent_curve(x, A, B, C, D):\n",
    "    return A * np.tan(B * (x - C)) + D\n",
    "\n",
    "def getView(model, axis):\n",
    "    view = []\n",
    "    for triangle in tqdm(model.vectors, desc='Making view'):\n",
    "        for point in triangle:\n",
    "            if axis == 2:\n",
    "                view.append([point[0], point[1]])\n",
    "            elif axis == 1:\n",
    "                view.append([point[0], point[2]])\n",
    "            elif axis == 0:\n",
    "                view.append([point[1], point[2]])\n",
    "    return np.array(view)\n",
    "\n",
    "def getCircleApprox(points):\n",
    "    # Initial guess for the circle's center (a, b) and radius R\n",
    "    x_m = np.mean(points[:, 0])\n",
    "    y_m = np.mean(points[:, 1])\n",
    "    R_m = np.mean(np.sqrt((points[:, 0] - x_m)**2 + (points[:, 1] - y_m)**2))\n",
    "    initial_guess = [x_m, y_m, R_m]\n",
    "    \n",
    "    # Perform the least squares optimization\n",
    "    result = least_squares(residuals, initial_guess, args=(points,))\n",
    "    \n",
    "    a_opt, b_opt, R_opt = result.x\n",
    "    \n",
    "    return a_opt, b_opt, R_opt\n",
    "\n",
    "def getSinusoidApprox(points, initial_guess):\n",
    "    # Separate the points into x and y coordinates\n",
    "    x_data = points[:, 0]\n",
    "    y_data = points[:, 1]\n",
    "    \n",
    "    # initial_guess = [0.7, 1/20, 0, -11]\n",
    "    \n",
    "    # Perform the curve fitting\n",
    "    params, params_covariance = curve_fit(sinusoid, x_data, y_data, p0=initial_guess)\n",
    "    \n",
    "    # Extract the optimal parameters\n",
    "    A_opt, B_opt, C_opt, D_opt = params\n",
    "    \n",
    "    return A_opt, B_opt, C_opt, D_opt\n",
    "\n",
    "def getTangentApprox(points, initial_guess):\n",
    "    # Separate the points into x and y coordinates\n",
    "    x_data = points[:, 1]\n",
    "    y_data = points[:, 0]\n",
    "    \n",
    "    # initial_guess = [0.7, 1/20, 0, -11]\n",
    "    \n",
    "    # Perform the curve fitting\n",
    "    params, params_covariance = curve_fit(tangent_curve, x_data, y_data, p0=initial_guess)\n",
    "    \n",
    "    # Extract the optimal parameters\n",
    "    A_opt, B_opt, C_opt, D_opt = params\n",
    "    \n",
    "    return A_opt, B_opt, C_opt, D_opt\n",
    "\n",
    "def getRotatedSinusoidApprox(points, initial_guess):\n",
    "    # Separate the points into x and y coordinates\n",
    "    x_data = points[:, 0]\n",
    "    y_data = points[:, 1]\n",
    "    \n",
    "    # initial_guess = [0.7, 1/20, 0, -11]\n",
    "    \n",
    "    # Perform the curve fitting\n",
    "    params, params_covariance = curve_fit(rotated_sinusoid, (x_data, y_data), y_data, p0=initial_guess, maxfev=50000)\n",
    "    \n",
    "    # Extract the optimal parameters\n",
    "    A_opt, B_opt, C_opt, D_opt, theta_opt = params\n",
    "    \n",
    "    return A_opt, B_opt, C_opt, D_opt, theta_opt\n",
    "\n",
    "def getLineApprox(points, initial_guess):\n",
    "    x_data = points[:, 0]\n",
    "    y_data = points[:, 1]\n",
    "    params, params_covariance = curve_fit(line, x_data, y_data, p0=initial_guess)\n",
    "    A, B = params\n",
    "    return A, B\n",
    "\n",
    "def getAngle(center, beginning, coord):\n",
    "    a = get2DDistance(center, beginning)\n",
    "    b = get2DDistance(center, coord)\n",
    "    c = get2DDistance(beginning, coord)\n",
    "    val = (a*a + b*b - c*c) / (2*a*b)\n",
    "    angle = 0\n",
    "    if val < -1:\n",
    "        print(val)\n",
    "        val = val+2\n",
    "        angle = math.pi\n",
    "    if val > 1:\n",
    "        print(val)\n",
    "        val = val-2\n",
    "        angle = -math.pi\n",
    "    angle += math.acos(val)\n",
    "    if coord[0] > beginning[0]:\n",
    "        angle = 2*math.pi - angle\n",
    "    return angle\n",
    "\n",
    "def transformCoordinate(coord, center, beginning, radius):\n",
    "    # print(coord, center, beginning, radius)\n",
    "    angle = getAngle(center, beginning, coord)\n",
    "    if angle is not None:\n",
    "        return [angle * radius, radius - get2DDistance(center, coord), coord[2]]\n",
    "    else:\n",
    "        return None\n",
    "    \n",
    "def getVector(A, B):\n",
    "    return [B[0] - A[0], B[1] - A[1], B[2] - A[2]]\n",
    "    \n",
    "def getCenterFromLine(A, B, z):\n",
    "    v = getVector(A, B)\n",
    "    t = (z - A[2]) / v[2]\n",
    "    return A[0] + t * v[0], A[1] + t * v[1], A[2] + t * v[2]\n",
    "\n",
    "def transform3DModel(model, layer_from, layer_mid, layer_to, sin_a, sin_b, sin_c, sin_d):\n",
    "    model_layer = getModelLayer(model, 2, layer_from, layer_mid)\n",
    "    # print(model_layer)\n",
    "    view = getView(model_layer, 2)\n",
    "    # print(view.shape)\n",
    "    x, y, radius = getCircleApprox(view)\n",
    "    center_a = [x, y, (5+2)/2]\n",
    "    print(f\"Lower part center: {center_a} and radius: {radius}\")\n",
    "    \n",
    "    model_layer = getModelLayer(model, 2, layer_mid, layer_to)\n",
    "    # print(model_layer)\n",
    "    view = getView(model_layer, 2)\n",
    "    # print(view.shape)\n",
    "    x, y, _ = getCircleApprox(view)\n",
    "    \n",
    "    center_b = [x, y, (63+5)/2]\n",
    "    print(f\"Thread part center: {center_b}\")\n",
    "    # center = getCenter(model)\n",
    "    # centers = getCenters(model)\n",
    "    # center = centers[np.where(centers[:, 2] == point[2])][0]\n",
    "    # radius = getRadius(model)\n",
    "    data_transformed = np.zeros(model.data.shape[0], dtype=mesh.Mesh.dtype)\n",
    "    for i, triangle in tqdm(enumerate(model.data), total=model.data.shape[0], desc=f\"Transforming 3D model\"):\n",
    "        vectors = []\n",
    "        for point in triangle[1]:\n",
    "            center = getCenterFromLine(center_a, center_b, point[2])\n",
    "            # print(center)\n",
    "            vectors.append(transformCoordinate(point, center, getBeginning(radius, center), radius))\n",
    "        if None not in vectors and np.std(vectors, axis=0)[0] < 10:\n",
    "            data_transformed['vectors'][i] = np.array(vectors)\n",
    "            \n",
    "    return mesh.Mesh(data_transformed)\n",
    "    \n",
    "def removeSinusoidErrorY(model, layer_from, layer_mid, layer_to, sin_a, sin_b, sin_c, sin_d):\n",
    "    print(\"Starting to remove sinusoid error on Y axis\")\n",
    "    model_layer = getModelLayer(model, 2, layer_from, layer_mid)\n",
    "    view = getView(model_layer, 2)\n",
    "    A, B = getLineApprox(view, [-0.001, 0])\n",
    "    print(f\"Line approx params: {A, B}\")\n",
    "    for i, coord in enumerate(view):\n",
    "        view[i, 1] -= line(view[i, 0], A, B)\n",
    "    \n",
    "    A, B, C, D = getSinusoidApprox(view, [sin_a, sin_b, sin_c, sin_d])\n",
    "    print(f\"Sinusoid approx params: {A, B, C, D}\")\n",
    "    \n",
    "    data_transformed = np.zeros(model.data.shape[0], dtype=mesh.Mesh.dtype)\n",
    "    for i, triangle in tqdm(enumerate(model.data), total=model.data.shape[0], desc=f\"Removing Sinusoid Error on Y\") :\n",
    "        vectors = []\n",
    "        for point in triangle[1]:\n",
    "            vectors.append([point[0], point[1]-sinusoid(point[0], A, B, C, D), point[2]])\n",
    "        data_transformed['vectors'][i] = np.array(vectors)\n",
    "    return mesh.Mesh(data_transformed)\n",
    "\n",
    "def removeSinusoidErrorZ(model, layer_from, layer_to, sin_a, sin_b, sin_c, sin_d, left_up, right_down):\n",
    "    print(\"Starting to remove sinusoid error on Z axis\")\n",
    "    model_layer = getModelLayer(unrolled_scan, 2, layer_from, layer_to)\n",
    "    model_layer = getModelLayer(model_layer, 1, 0, 2)\n",
    "    view = getView(model_layer, 1)\n",
    "    new_view = []\n",
    "    for coord in view:\n",
    "        if not((coord[0] < left_up[0] and coord[1] > left_up[1]) or (coord[0] > right_down[0] and coord[1] < right_down[1])):\n",
    "            new_view.append(coord)\n",
    "    view = np.array(new_view)\n",
    "    A, B = getLineApprox(view, [0.001, 14])\n",
    "    print(f\"Line approx params: {A, B}\")\n",
    "    for i, coord in enumerate(view):\n",
    "        view[i, 1] -= line(view[i, 0], A, B)\n",
    "    view = np.round(view, 1)\n",
    "    unique_x = np.unique(view[:, 0])\n",
    "    avg_y_for_x = np.array([\n",
    "        [x, np.mean(view[view[:, 0] == x, 1])]\n",
    "        for x in unique_x\n",
    "    ])\n",
    "    A, B, C, D = getSinusoidApprox(avg_y_for_x, [sin_a, sin_b, sin_c, sin_d])\n",
    "    print(f\"Sinusoid approx params: {A, B, C, D}\")\n",
    "    \n",
    "    data_transformed = np.zeros(model.data.shape[0], dtype=mesh.Mesh.dtype)\n",
    "    for i, triangle in tqdm(enumerate(model.data), total=model.data.shape[0], desc=f\"Removing Sinusoid Error on Z\"):\n",
    "        vectors = []\n",
    "        for point in triangle[1]:\n",
    "            vectors.append([point[0], point[1], point[2]-sinusoid(point[0], A, B, C, D)])\n",
    "        data_transformed['vectors'][i] = np.array(vectors)\n",
    "    return mesh.Mesh(data_transformed)\n",
    "\n",
    "def visualizeModel(model):\n",
    "    # Create a new plot\n",
    "    figure = pyplot.figure(figsize=(15, 15))\n",
    "    axes = figure.add_subplot(projection='3d')\n",
    "    axes.set_xlabel('X')\n",
    "    axes.set_ylabel('Y')\n",
    "    axes.set_zlabel('Z')\n",
    "    \n",
    "    # Render the cube\n",
    "    axes.add_collection3d(mplot3d.art3d.Poly3DCollection(model.vectors))\n",
    "    \n",
    "    # Auto scale to the mesh size\n",
    "    scale = model.points.flatten()\n",
    "    axes.auto_scale_xyz(scale, scale, scale)\n",
    "    \n",
    "    # Show the plot to the screen\n",
    "    pyplot.show()\n",
    "    \n",
    "def getModelLayer(model, axis, from_, to):\n",
    "    vertices = model.vectors  # shape (n, 3, 3) where n is the number of triangles\n",
    "    centroids = np.mean(vertices, axis=1)  # shape (n, 3)\n",
    "    mask = (centroids[:, axis] >= from_) & (centroids[:, axis] <= to)\n",
    "    data = np.zeros(vertices[mask].shape[0], dtype=mesh.Mesh.dtype)\n",
    "    data['vectors'] = vertices[mask]\n",
    "    return mesh.Mesh(data)\n",
    "    \n",
    "    \n",
    "def visualizeModelLayer(model, axis, from_, to):\n",
    "    \n",
    "    vertices = model.vectors  # shape (n, 3, 3) where n is the number of triangles\n",
    "    centroids = np.mean(vertices, axis=1)  # shape (n, 3)\n",
    "    mask = (centroids[:, axis] >= from_) & (centroids[:, axis] <= to)\n",
    "    filtered_vertices = vertices[mask]\n",
    "    \n",
    "    \n",
    "    # Create a new plot\n",
    "    figure = pyplot.figure(figsize=(15, 15))\n",
    "    axes = figure.add_subplot(projection='3d')\n",
    "    axes.set_xlabel('X')\n",
    "    axes.set_ylabel('Y')\n",
    "    axes.set_zlabel('Z')\n",
    "    \n",
    "    # Render the cube\n",
    "    axes.add_collection3d(mplot3d.art3d.Poly3DCollection(filtered_vertices))\n",
    "    \n",
    "    # Auto scale to the mesh size\n",
    "    scale = model.points.flatten()\n",
    "    axes.auto_scale_xyz(scale, scale, scale)\n",
    "    \n",
    "    # Show the plot to the screen\n",
    "    pyplot.show()\n",
    "\n",
    "def getCenter(model):\n",
    "    vertices = model.vectors  \n",
    "    \n",
    "    centroids = np.mean(vertices, axis=1)  \n",
    "    \n",
    "    cross_products = np.cross(vertices[:, 1] - vertices[:, 0], vertices[:, 2] - vertices[:, 0])\n",
    "    areas = np.linalg.norm(cross_products, axis=1) / 2  \n",
    "    \n",
    "    weighted_sum = np.sum(centroids * areas[:, np.newaxis], axis=0)  \n",
    "    \n",
    "    total_area = np.sum(areas)\n",
    "    \n",
    "    center_of_mass = weighted_sum / total_area\n",
    "    \n",
    "    return center_of_mass\n",
    "\n",
    "def getCenterAlt(model, axis, from_, to):\n",
    "    vertices = model.vectors  # shape (n, 3, 3) where n is the number of triangles\n",
    "    centroids = np.mean(vertices, axis=1)  # shape (n, 3)\n",
    "    mask = (centroids[:, axis] >= from_) & (centroids[:, axis] <= to)\n",
    "    filtered_centroids = centroids[mask]\n",
    "    filtered_vertices = vertices[mask]\n",
    "    \n",
    "    cross_products = np.cross(filtered_vertices[:, 1] - filtered_vertices[:, 0], filtered_vertices[:, 2] - filtered_vertices[:, 0])\n",
    "    areas = np.linalg.norm(cross_products, axis=1) / 2  # shape (n,)\n",
    "    \n",
    "    # Calculate the weighted sum of centroids\n",
    "    weighted_sum = np.sum(filtered_centroids * areas[:, np.newaxis], axis=0)  # shape (3,)\n",
    "    \n",
    "    # Calculate the total area\n",
    "    total_area = np.sum(areas)\n",
    "    \n",
    "    # Compute the center of mass\n",
    "    center_of_mass = weighted_sum / total_area\n",
    "    \n",
    "    return center_of_mass\n",
    "\n",
    "def getCenters(model):\n",
    "    # Extract the vertices and their z-coordinates\n",
    "    vertices = model.vectors.reshape(-1, 3)\n",
    "    z_coords = vertices[:, 2]\n",
    "    \n",
    "    # Identify the unique z-coordinates and their indices\n",
    "    unique_z_coords, inverse_indices = np.unique(z_coords, return_inverse=True)\n",
    "    \n",
    "    # Initialize arrays to store sums and counts for each layer\n",
    "    sums_x = np.zeros(len(unique_z_coords))\n",
    "    sums_y = np.zeros(len(unique_z_coords))\n",
    "    counts = np.zeros(len(unique_z_coords))\n",
    "    \n",
    "    # Sum the x and y coordinates and count the number of points in each layer\n",
    "    np.add.at(sums_x, inverse_indices, vertices[:, 0])\n",
    "    np.add.at(sums_y, inverse_indices, vertices[:, 1])\n",
    "    np.add.at(counts, inverse_indices, 1)\n",
    "    \n",
    "    # Calculate the center of mass for each layer\n",
    "    com_x = sums_x / counts\n",
    "    com_y = sums_y / counts\n",
    "    com_z = unique_z_coords\n",
    "    \n",
    "    # Combine the results into a single array\n",
    "    centers_of_mass = np.vstack((com_x, com_y, com_z)).T\n",
    "    \n",
    "    return centers_of_mass\n",
    "\n",
    "def getBeginning(radius, center):\n",
    "    return [center[0], center[1] + radius, center[2]]\n",
    "    \n",
    "def getYMax(model):\n",
    "    loc = np.argmax(model.vectors[:, :, 1])\n",
    "    return model.vectors[loc//3][loc%3]\n",
    "\n",
    "def getYMin(model):\n",
    "    loc = np.argmin(model.vectors[:, :, 1])\n",
    "    return model.vectors[loc//3][loc%3]\n",
    "\n",
    "def getXMax(model):\n",
    "    loc = np.argmax(model.vectors[:, :, 0])\n",
    "    return model.vectors[loc//3][loc%3]\n",
    "\n",
    "def getXMin(model):\n",
    "    loc = np.argmin(model.vectors[:, :, 0])\n",
    "    return model.vectors[loc//3][loc%3]\n",
    "\n",
    "def getZMax(model):\n",
    "    loc = np.argmax(model.vectors[:, :, 2])\n",
    "    return model.vectors[loc//3][loc%3]\n",
    "\n",
    "def getZMin(model):\n",
    "    loc = np.argmin(model.vectors[:, :, 2])\n",
    "    return model.vectors[loc//3][loc%3]\n",
    "\n",
    "def getRadius(model):\n",
    "    vertices = model.vectors  # shape (n, 3, 3) where n is the number of triangles\n",
    "    # centroids = np.mean(vertices, axis=1)  # shape (n, 3)\n",
    "    # mask = (centroids[:, 2] >= 15) & (centroids[:, 2] <= 70)\n",
    "    # vertices = vertices[mask]\n",
    "    loc_y_max = np.argmax(vertices[:, :, 1])\n",
    "    loc_x_max = np.argmax(vertices[:, :, 0])\n",
    "    loc_x_min = np.argmin(vertices[:, :, 0])\n",
    "    loc_y_min = np.argmin(vertices[:, :, 1])\n",
    "    # print(loc_x_max, loc_x_min, loc_y_max, loc_y_min)\n",
    "    \n",
    "    return (get2DDistance(model.vectors[loc_y_min//3][loc_y_min%3], model.vectors[loc_y_max//3][loc_y_max%3]) + get2DDistance(model.vectors[loc_x_min//3][loc_x_min%3], model.vectors[loc_x_max//3][loc_x_max%3]))/4"
   ],
   "id": "initial_id",
   "execution_count": 2,
   "outputs": []
  },
  {
   "metadata": {
    "ExecuteTime": {
     "end_time": "2024-12-04T10:54:12.959286Z",
     "start_time": "2024-12-04T10:54:12.953192Z"
    }
   },
   "cell_type": "code",
   "source": [
    "SRC = '/Users/fathe/OneDrive/Documents/UK/MFF/Thesis/input'\n",
    "folders = [file for file in os.listdir(SRC) if file.startswith(\"H_\")]\n",
    "scans = []\n",
    "for folder in folders:\n",
    "    scans.append(\n",
    "        os.path.join(folder, [file for file in os.listdir(os.path.join(SRC, folder)) if file.endswith(\".stl\")][0]))"
   ],
   "id": "1b5ce8538d16f477",
   "execution_count": 3,
   "outputs": []
  },
  {
   "metadata": {
    "ExecuteTime": {
     "end_time": "2024-12-04T10:54:16.472076Z",
     "start_time": "2024-12-04T10:54:16.458965Z"
    }
   },
   "cell_type": "code",
   "source": [
    "scan_models = []\n",
    "for scan in scans:\n",
    "    scan_models.append(mesh.Mesh.from_file(os.path.join(SRC, scan)))"
   ],
   "id": "45ff9889e6787f75",
   "execution_count": 4,
   "outputs": []
  },
  {
   "metadata": {
    "ExecuteTime": {
     "end_time": "2024-09-08T07:58:42.308146Z",
     "start_time": "2024-09-08T07:58:42.303932Z"
    }
   },
   "cell_type": "code",
   "source": [
    "pipes = [[True, True, True], \n",
    "        [True, True, True],\n",
    "         [True, False, True], \n",
    "         [False, True, True],\n",
    "         [True, True, True],\n",
    "         [True, True, True]]"
   ],
   "id": "ed77ef16b7b9a468",
   "execution_count": 67,
   "outputs": []
  },
  {
   "metadata": {
    "ExecuteTime": {
     "end_time": "2024-09-08T07:58:42.701558Z",
     "start_time": "2024-09-08T07:58:42.687963Z"
    }
   },
   "cell_type": "code",
   "source": [
    "params = [[dict(layer_from=2,\n",
    "                layer_mid=5,\n",
    "                layer_to=63,\n",
    "                sin_a=1/10,\n",
    "                sin_b=1/20,\n",
    "                sin_c=0,\n",
    "                sin_d=0), \n",
    "           dict(layer_from=14,\n",
    "                layer_to=22,\n",
    "                sin_a=1/5,\n",
    "                sin_b=1/40,\n",
    "                sin_c=0,\n",
    "                sin_d=0,\n",
    "                left_up=(100, 19), \n",
    "                right_down=(125, 16))],\n",
    "          [dict(layer_from=3,\n",
    "               layer_mid=5,\n",
    "               layer_to=63,\n",
    "               sin_a=1/10,\n",
    "               sin_b=1/16,\n",
    "               sin_c=0,\n",
    "               sin_d=0), \n",
    "           dict(layer_from=14,\n",
    "                layer_to=22,\n",
    "                sin_a=1/5,\n",
    "                sin_b=1/40,\n",
    "                sin_c=0,\n",
    "                sin_d=0,\n",
    "                left_up=(100, 19), \n",
    "                right_down=(125, 16))],\n",
    "          [dict(layer_from=3,\n",
    "               layer_mid=5,\n",
    "               layer_to=63,\n",
    "               sin_a=1/10,\n",
    "               sin_b=1/16,\n",
    "               sin_c=75,\n",
    "               sin_d=0), \n",
    "           dict(layer_from=14,\n",
    "                layer_to=22,\n",
    "                sin_a=1/5,\n",
    "                sin_b=1/40,\n",
    "                sin_c=0,\n",
    "                sin_d=0,\n",
    "                left_up=(100, 19), \n",
    "                right_down=(125, 16))],\n",
    "          [dict(layer_from=5,\n",
    "               layer_mid=7,\n",
    "               layer_to=60,\n",
    "               sin_a=1/10,\n",
    "               sin_b=1/16,\n",
    "               sin_c=0,\n",
    "               sin_d=0), \n",
    "           dict(layer_from=14,\n",
    "                layer_to=22,\n",
    "                sin_a=1/5,\n",
    "                sin_b=1/40,\n",
    "                sin_c=0,\n",
    "                sin_d=0,\n",
    "                left_up=(100, 19), \n",
    "                right_down=(125, 16))],\n",
    "          [dict(layer_from=5,\n",
    "               layer_mid=6,\n",
    "               layer_to=55,\n",
    "               sin_a=1/10,\n",
    "               sin_b=1/16,\n",
    "               sin_c=0,\n",
    "               sin_d=0), \n",
    "           dict(layer_from=12,\n",
    "                layer_to=20,\n",
    "                sin_a=1/5,\n",
    "                sin_b=1/40,\n",
    "                sin_c=0,\n",
    "                sin_d=0,\n",
    "                left_up=(50, 18), \n",
    "                right_down=(125, 14))],\n",
    "          [dict(layer_from=6,\n",
    "               layer_mid=7,\n",
    "               layer_to=60,\n",
    "               sin_a=1/10,\n",
    "               sin_b=1/16,\n",
    "               sin_c=0,\n",
    "               sin_d=0), \n",
    "           dict(layer_from=14,\n",
    "                layer_to=22,\n",
    "                sin_a=1/5,\n",
    "                sin_b=1/40,\n",
    "                sin_c=0,\n",
    "                sin_d=0,\n",
    "                left_up=(75, 20), \n",
    "                right_down=(100, 17))]]"
   ],
   "id": "d64ffe9bbd28f21",
   "execution_count": 68,
   "outputs": []
  },
  {
   "metadata": {
    "ExecuteTime": {
     "end_time": "2024-09-08T08:03:59.614701Z",
     "start_time": "2024-09-08T07:58:43.923500Z"
    }
   },
   "cell_type": "code",
   "source": [
    "for scan_model, scan, param, pipe in zip(scan_models, scans, params, pipes):\n",
    "    if not os.path.isfile(os.path.join(SRC, scan).replace('.stl', '_unrolled_final.stl')):\n",
    "        print(f\"Transforming scan: {scan}\")\n",
    "        if os.path.isfile(os.path.join(SRC, scan).replace('.stl', '_unrolled.stl')):\n",
    "            unrolled_scan = mesh.Mesh.from_file(os.path.join(SRC, scan).replace('.stl', '_unrolled.stl'))\n",
    "        else:\n",
    "            unrolled_scan = transform3DModel(scan_model, **param[0])\n",
    "            unrolled_scan.save(os.path.join(SRC, scan).replace('.stl', '_unrolled.stl'))\n",
    "            \n",
    "        if pipe[0]:\n",
    "            if os.path.isfile(os.path.join(SRC, scan).replace('.stl', '_unrolled_sin_y.stl')):\n",
    "                unrolled_scan = mesh.Mesh.from_file(os.path.join(SRC, scan).replace('.stl', '_unrolled_sin_y.stl'))\n",
    "            else:\n",
    "                unrolled_scan = removeSinusoidErrorY(unrolled_scan, **param[0])\n",
    "                unrolled_scan.save(os.path.join(SRC, scan).replace('.stl', '_unrolled_sin_y.stl'))\n",
    "                \n",
    "        if pipe[1]:    \n",
    "            if os.path.isfile(os.path.join(SRC, scan).replace('.stl', '_unrolled_sin_y_z.stl')):\n",
    "                unrolled_scan = mesh.Mesh.from_file(os.path.join(SRC, scan).replace('.stl', '_unrolled_sin_y_z.stl'))\n",
    "            else:\n",
    "                unrolled_scan = removeSinusoidErrorZ(unrolled_scan, **param[1])\n",
    "                unrolled_scan.save(os.path.join(SRC, scan).replace('.stl', '_unrolled_sin_y_z.stl'))\n",
    "            \n",
    "        if pipe[2]:\n",
    "            if os.path.isfile(os.path.join(SRC, scan).replace('.stl', '_unrolled_final.stl')):\n",
    "                unrolled_scan = mesh.Mesh.from_file(os.path.join(SRC, scan).replace('.stl', '_unrolled_final.stl'))\n",
    "            else:\n",
    "                unrolled_scan = getModelLayer(unrolled_scan, 1, -1, 6.2)\n",
    "                unrolled_scan.save(os.path.join(SRC, scan).replace('.stl', '_unrolled_final.stl'))"
   ],
   "id": "fe9ac0cc7ea9e730",
   "execution_count": 69,
   "outputs": []
  },
  {
   "metadata": {},
   "cell_type": "code",
   "source": "visualizeModel(scan_model)",
   "id": "bebe34993b7e1ac8",
   "execution_count": null,
   "outputs": []
  },
  {
   "metadata": {
    "ExecuteTime": {
     "end_time": "2024-08-01T11:54:02.426797Z",
     "start_time": "2024-08-01T11:54:01.630591Z"
    }
   },
   "cell_type": "code",
   "source": "getCenter(scan_model)",
   "id": "5e0c782d81742234",
   "execution_count": 36,
   "outputs": []
  },
  {
   "metadata": {
    "ExecuteTime": {
     "end_time": "2024-08-01T13:20:27.014291Z",
     "start_time": "2024-08-01T13:20:26.558441Z"
    }
   },
   "cell_type": "code",
   "source": "getCenterAlt(scan_model, 2, 2, 7)",
   "id": "eb7f901a3d573ce3",
   "execution_count": 62,
   "outputs": []
  },
  {
   "metadata": {
    "ExecuteTime": {
     "end_time": "2024-08-01T13:28:20.005418Z",
     "start_time": "2024-08-01T13:28:19.426743Z"
    }
   },
   "cell_type": "code",
   "source": "getRadius(scan_model)",
   "id": "f75ecf97ef3c933",
   "execution_count": 66,
   "outputs": []
  },
  {
   "metadata": {
    "ExecuteTime": {
     "end_time": "2024-08-01T12:39:09.520400Z",
     "start_time": "2024-08-01T12:39:09.456003Z"
    }
   },
   "cell_type": "code",
   "source": "getXMax(scan_model),getXMin(scan_model)",
   "id": "724890353cad458f",
   "execution_count": 14,
   "outputs": []
  },
  {
   "metadata": {
    "ExecuteTime": {
     "end_time": "2024-08-01T12:39:19.974536Z",
     "start_time": "2024-08-01T12:39:19.907245Z"
    }
   },
   "cell_type": "code",
   "source": "getYMax(scan_model),getYMin(scan_model)",
   "id": "f3e063e5241805a7",
   "execution_count": 15,
   "outputs": []
  },
  {
   "metadata": {
    "ExecuteTime": {
     "end_time": "2024-08-01T12:39:35.379546Z",
     "start_time": "2024-08-01T12:39:35.318204Z"
    }
   },
   "cell_type": "code",
   "source": "getZMax(scan_model),getZMin(scan_model)",
   "id": "47c1f38e7c7813fd",
   "execution_count": 18,
   "outputs": []
  },
  {
   "metadata": {
    "ExecuteTime": {
     "end_time": "2024-08-01T12:40:43.553748Z",
     "start_time": "2024-08-01T12:40:43.515729Z"
    }
   },
   "cell_type": "code",
   "source": "loc = np.argmin(scan_model.vectors[:, :, 2])",
   "id": "a9a8e421adc70436",
   "execution_count": 20,
   "outputs": []
  },
  {
   "metadata": {
    "ExecuteTime": {
     "end_time": "2024-08-01T12:40:58.247294Z",
     "start_time": "2024-08-01T12:40:58.240679Z"
    }
   },
   "cell_type": "code",
   "source": "loc//3",
   "id": "5c790f03c48be947",
   "execution_count": 21,
   "outputs": []
  },
  {
   "metadata": {
    "ExecuteTime": {
     "end_time": "2024-08-01T12:48:47.154251Z",
     "start_time": "2024-08-01T12:48:47.089005Z"
    }
   },
   "cell_type": "code",
   "source": "scan_model.vectors[scan_model.vectors[:, :, 2] > 80]",
   "id": "3d274c88beb553f4",
   "execution_count": 31,
   "outputs": []
  },
  {
   "metadata": {
    "ExecuteTime": {
     "end_time": "2024-08-01T08:17:49.358492Z",
     "start_time": "2024-08-01T08:17:49.351354Z"
    }
   },
   "cell_type": "code",
   "source": "# getXMax(scan_model)",
   "id": "bbe24764c508092a",
   "execution_count": 24,
   "outputs": []
  },
  {
   "metadata": {
    "ExecuteTime": {
     "end_time": "2024-08-01T10:42:08.454282Z",
     "start_time": "2024-08-01T10:42:08.447495Z"
    }
   },
   "cell_type": "code",
   "source": "np.std(scan_model.vectors[0], axis=0)[0]",
   "id": "ab6fbeb98bc52540",
   "execution_count": 46,
   "outputs": []
  },
  {
   "metadata": {
    "ExecuteTime": {
     "end_time": "2024-08-01T11:41:09.915811Z",
     "start_time": "2024-08-01T11:41:06.879282Z"
    }
   },
   "cell_type": "code",
   "source": "coms = getCenters(scan_model)",
   "id": "a6e64fd8739b6cfd",
   "execution_count": 11,
   "outputs": []
  },
  {
   "metadata": {
    "ExecuteTime": {
     "end_time": "2024-08-01T11:44:57.879404Z",
     "start_time": "2024-08-01T11:44:57.875059Z"
    }
   },
   "cell_type": "code",
   "source": "coms[0][2]",
   "id": "11630badd9a49c35",
   "execution_count": 20,
   "outputs": []
  },
  {
   "metadata": {
    "ExecuteTime": {
     "end_time": "2024-08-01T11:48:24.978407Z",
     "start_time": "2024-08-01T11:48:24.968772Z"
    }
   },
   "cell_type": "code",
   "source": "coms[np.where(coms[:, 2] == -0.6549979448318481)][0]",
   "id": "86b8592147ffe29e",
   "execution_count": 30,
   "outputs": []
  },
  {
   "metadata": {
    "ExecuteTime": {
     "end_time": "2024-08-07T09:35:45.052180Z",
     "start_time": "2024-08-07T09:35:44.961126Z"
    }
   },
   "cell_type": "code",
   "source": "np.mean(coms, axis=0), np.std(coms, axis=0)",
   "id": "94a66a6497247a05",
   "execution_count": 26,
   "outputs": []
  },
  {
   "metadata": {
    "ExecuteTime": {
     "end_time": "2024-08-07T09:42:47.454471Z",
     "start_time": "2024-08-07T09:40:24.905013Z"
    }
   },
   "cell_type": "code",
   "source": [
    "scan_model = mesh.Mesh.from_file(os.path.join(SRC, scans[0]))\n",
    "unrolled_scan = transform3DModel(scan_model)\n",
    "unrolled_scan.save(os.path.join(SRC, scans[0]).replace('.stl', '_unrolledv4.stl'))"
   ],
   "id": "374e059056ec5d58",
   "execution_count": 39,
   "outputs": []
  },
  {
   "metadata": {
    "ExecuteTime": {
     "end_time": "2024-09-07T15:13:34.445754Z",
     "start_time": "2024-09-07T15:13:34.422507Z"
    }
   },
   "cell_type": "code",
   "source": "scans[3]",
   "id": "bc630c2dac3972b4",
   "execution_count": 169,
   "outputs": []
  },
  {
   "metadata": {
    "ExecuteTime": {
     "end_time": "2024-09-08T07:37:49.338406Z",
     "start_time": "2024-09-08T07:37:46.133015Z"
    }
   },
   "cell_type": "code",
   "source": "unrolled_scan = mesh.Mesh.from_file(os.path.join(SRC, scans[5]).replace('.stl', '_unrolled.stl'))",
   "id": "135c47b174a7adfc",
   "execution_count": 40,
   "outputs": []
  },
  {
   "metadata": {
    "ExecuteTime": {
     "end_time": "2024-09-08T07:37:56.376320Z",
     "start_time": "2024-09-08T07:37:54.021835Z"
    }
   },
   "cell_type": "code",
   "source": [
    "model_layer = getModelLayer(unrolled_scan, 2, 6, 7)\n",
    "model_layer = getModelLayer(model_layer, 1, -1, 1)"
   ],
   "id": "3e30b8c73484c9f4",
   "execution_count": 42,
   "outputs": []
  },
  {
   "metadata": {
    "ExecuteTime": {
     "end_time": "2024-09-08T07:37:56.825134Z",
     "start_time": "2024-09-08T07:37:56.378337Z"
    }
   },
   "cell_type": "code",
   "source": "view = getView(model_layer, 2)",
   "id": "9ff3816e71e3a0f7",
   "execution_count": 43,
   "outputs": []
  },
  {
   "metadata": {
    "ExecuteTime": {
     "end_time": "2024-09-08T07:37:57.088642Z",
     "start_time": "2024-09-08T07:37:56.827144Z"
    }
   },
   "cell_type": "code",
   "source": [
    "plt.scatter(view[:, 0], view[:, 1], s=1)\n",
    "# plt.axis('equal')\n",
    "plt.show()"
   ],
   "id": "8f1fa6daf3bcacf1",
   "execution_count": 44,
   "outputs": []
  },
  {
   "metadata": {
    "ExecuteTime": {
     "end_time": "2024-09-08T07:38:01.396328Z",
     "start_time": "2024-09-08T07:38:01.342827Z"
    }
   },
   "cell_type": "code",
   "source": "A, B = getLineApprox(view, [-0.001, 0])",
   "id": "86b5bcaba8770d64",
   "execution_count": 45,
   "outputs": []
  },
  {
   "metadata": {
    "ExecuteTime": {
     "end_time": "2024-09-08T07:38:01.532760Z",
     "start_time": "2024-09-08T07:38:01.526789Z"
    }
   },
   "cell_type": "code",
   "source": "A, B",
   "id": "ae40c2dddda44c29",
   "execution_count": 46,
   "outputs": []
  },
  {
   "metadata": {
    "ExecuteTime": {
     "end_time": "2024-09-08T07:38:02.928755Z",
     "start_time": "2024-09-08T07:38:02.135880Z"
    }
   },
   "cell_type": "code",
   "source": [
    "for i, coord in enumerate(view):\n",
    "    view[i, 1] -= line(view[i, 0], A, B)"
   ],
   "id": "2b5eb079a1bb403e",
   "execution_count": 47,
   "outputs": []
  },
  {
   "metadata": {
    "ExecuteTime": {
     "end_time": "2024-09-08T07:38:03.976962Z",
     "start_time": "2024-09-08T07:38:03.706994Z"
    }
   },
   "cell_type": "code",
   "source": [
    "plt.scatter(view[:, 0], view[:, 1], s=1)\n",
    "# plt.axis('equal')\n",
    "plt.show()"
   ],
   "id": "d7fa8579b82a1092",
   "execution_count": 48,
   "outputs": []
  },
  {
   "metadata": {
    "ExecuteTime": {
     "end_time": "2024-09-08T07:38:12.058313Z",
     "start_time": "2024-09-08T07:38:11.067873Z"
    }
   },
   "cell_type": "code",
   "source": "getSinusoidApprox(view, [1/10, 1/16, 0, 0])",
   "id": "cb07296fc056e836",
   "execution_count": 51,
   "outputs": []
  },
  {
   "metadata": {
    "ExecuteTime": {
     "end_time": "2024-08-14T07:20:49.758717Z",
     "start_time": "2024-08-14T07:20:16.338806Z"
    }
   },
   "cell_type": "code",
   "source": "removeSinusoidErrorY(unrolled_scan, [1/10, 1/20, 25, 0]).save(os.path.join(SRC, scans[0]).replace('.stl', '_unrolled_siny.stl'))",
   "id": "aac37894040373b",
   "execution_count": 232,
   "outputs": []
  },
  {
   "metadata": {
    "ExecuteTime": {
     "end_time": "2024-09-08T06:54:02.170422Z",
     "start_time": "2024-09-08T06:54:02.164631Z"
    }
   },
   "cell_type": "code",
   "source": "scans[4]",
   "id": "7e061d4fa71ce3c8",
   "execution_count": 31,
   "outputs": []
  },
  {
   "metadata": {
    "ExecuteTime": {
     "end_time": "2024-09-08T07:57:39.333553Z",
     "start_time": "2024-09-08T07:57:35.083558Z"
    }
   },
   "cell_type": "code",
   "source": "unrolled_scan = mesh.Mesh.from_file(os.path.join(SRC, scans[5]).replace('.stl', '_unrolled_sin_y.stl'))",
   "id": "2fb3cf70dea42802",
   "execution_count": 59,
   "outputs": []
  },
  {
   "metadata": {
    "ExecuteTime": {
     "end_time": "2024-09-08T07:57:54.521274Z",
     "start_time": "2024-09-08T07:57:51.382117Z"
    }
   },
   "cell_type": "code",
   "source": [
    "model_layer = getModelLayer(unrolled_scan, 2, 14, 22)\n",
    "model_layer = getModelLayer(model_layer, 1, 0, 2)"
   ],
   "id": "a158e0768e0b2434",
   "execution_count": 63,
   "outputs": []
  },
  {
   "metadata": {
    "ExecuteTime": {
     "end_time": "2024-09-08T07:57:55.207402Z",
     "start_time": "2024-09-08T07:57:54.523283Z"
    }
   },
   "cell_type": "code",
   "source": "view = getView(model_layer, 1)",
   "id": "7d8c118dae3f2e2c",
   "execution_count": 64,
   "outputs": []
  },
  {
   "metadata": {
    "ExecuteTime": {
     "end_time": "2024-09-08T07:57:55.589034Z",
     "start_time": "2024-09-08T07:57:55.208497Z"
    }
   },
   "cell_type": "code",
   "source": [
    "plt.scatter(view[:, 0], view[:, 1], s=1)\n",
    "# plt.axis('equal')\n",
    "plt.show()"
   ],
   "id": "ba0a3515cc3a620f",
   "execution_count": 65,
   "outputs": []
  },
  {
   "metadata": {
    "ExecuteTime": {
     "end_time": "2024-09-08T06:38:42.391550Z",
     "start_time": "2024-09-08T06:38:40.722713Z"
    }
   },
   "cell_type": "code",
   "source": [
    "new_view = []\n",
    "for coord in view:\n",
    "    if not((coord[0] <= 50 and coord[1] > 18) or (coord[0] > 125 and coord[1] < 14)):\n",
    "        new_view.append(coord)\n",
    "view = np.array(new_view)"
   ],
   "id": "267c016cd474b844",
   "execution_count": 17,
   "outputs": []
  },
  {
   "metadata": {
    "ExecuteTime": {
     "end_time": "2024-09-08T06:38:42.564702Z",
     "start_time": "2024-09-08T06:38:42.393589Z"
    }
   },
   "cell_type": "code",
   "source": [
    "plt.scatter(view[:, 0], view[:, 1], s=1)\n",
    "# plt.axis('equal')\n",
    "plt.show()"
   ],
   "id": "6272151c1bca7d41",
   "execution_count": 18,
   "outputs": []
  },
  {
   "metadata": {
    "ExecuteTime": {
     "end_time": "2024-09-08T06:38:42.592069Z",
     "start_time": "2024-09-08T06:38:42.565709Z"
    }
   },
   "cell_type": "code",
   "source": "A, B = getLineApprox(view, [0.1, 18])",
   "id": "29d7eb4db7e9aa20",
   "execution_count": 19,
   "outputs": []
  },
  {
   "metadata": {
    "ExecuteTime": {
     "end_time": "2024-09-08T06:38:49.887491Z",
     "start_time": "2024-09-08T06:38:49.881574Z"
    }
   },
   "cell_type": "code",
   "source": "A,B",
   "id": "e379d01f6ee7f583",
   "execution_count": 20,
   "outputs": []
  },
  {
   "metadata": {
    "ExecuteTime": {
     "end_time": "2024-09-08T06:38:50.661649Z",
     "start_time": "2024-09-08T06:38:50.456796Z"
    }
   },
   "cell_type": "code",
   "source": [
    "for i, coord in enumerate(view):\n",
    "    view[i, 1] -= line(view[i, 0], A, B)"
   ],
   "id": "e9efcfd656eb5cb0",
   "execution_count": 21,
   "outputs": []
  },
  {
   "metadata": {
    "ExecuteTime": {
     "end_time": "2024-09-08T06:38:51.305421Z",
     "start_time": "2024-09-08T06:38:51.278276Z"
    }
   },
   "cell_type": "code",
   "source": "getLineApprox(view, [0, 14])",
   "id": "51d03c0fe35ba60a",
   "execution_count": 22,
   "outputs": []
  },
  {
   "metadata": {
    "ExecuteTime": {
     "end_time": "2024-09-08T06:38:52.487197Z",
     "start_time": "2024-09-08T06:38:52.324063Z"
    }
   },
   "cell_type": "code",
   "source": [
    "plt.scatter(view[:, 0], view[:, 1], s=1)\n",
    "# plt.axis('equal')\n",
    "plt.show()"
   ],
   "id": "41101644c12a1bc",
   "execution_count": 23,
   "outputs": []
  },
  {
   "metadata": {
    "ExecuteTime": {
     "end_time": "2024-09-08T06:38:53.703640Z",
     "start_time": "2024-09-08T06:38:53.698172Z"
    }
   },
   "cell_type": "code",
   "source": "view = np.round(view, 1)",
   "id": "78044f820d440873",
   "execution_count": 24,
   "outputs": []
  },
  {
   "metadata": {
    "ExecuteTime": {
     "end_time": "2024-09-08T06:38:55.069787Z",
     "start_time": "2024-09-08T06:38:55.064858Z"
    }
   },
   "cell_type": "code",
   "source": "view.shape",
   "id": "3c9cdcd434ffdf6d",
   "execution_count": 25,
   "outputs": []
  },
  {
   "metadata": {
    "ExecuteTime": {
     "end_time": "2024-09-08T06:38:55.348817Z",
     "start_time": "2024-09-08T06:38:55.339731Z"
    }
   },
   "cell_type": "code",
   "source": "unique_x = np.unique(view[:, 0])",
   "id": "e9cc6d8b38407263",
   "execution_count": 26,
   "outputs": []
  },
  {
   "metadata": {
    "ExecuteTime": {
     "end_time": "2024-09-08T06:38:55.673299Z",
     "start_time": "2024-09-08T06:38:55.668293Z"
    }
   },
   "cell_type": "code",
   "source": "unique_x.shape",
   "id": "858f5191c41b5b2e",
   "execution_count": 27,
   "outputs": []
  },
  {
   "metadata": {
    "ExecuteTime": {
     "end_time": "2024-09-08T06:38:57.460930Z",
     "start_time": "2024-09-08T06:38:56.050842Z"
    }
   },
   "cell_type": "code",
   "source": [
    "avg_y_for_x = np.array([\n",
    "    [x, np.mean(view[view[:, 0] == x, 1])]\n",
    "    for x in unique_x\n",
    "])"
   ],
   "id": "76270efff3b168d9",
   "execution_count": 28,
   "outputs": []
  },
  {
   "metadata": {
    "ExecuteTime": {
     "end_time": "2024-09-08T06:38:57.548438Z",
     "start_time": "2024-09-08T06:38:57.462937Z"
    }
   },
   "cell_type": "code",
   "source": [
    "plt.scatter(avg_y_for_x[:, 0], avg_y_for_x[:, 1], s=1)\n",
    "# plt.axis('equal')\n",
    "plt.show()"
   ],
   "id": "dff8a9db2a0cbd19",
   "execution_count": 29,
   "outputs": []
  },
  {
   "metadata": {
    "ExecuteTime": {
     "end_time": "2024-09-08T06:38:58.699688Z",
     "start_time": "2024-09-08T06:38:58.690166Z"
    }
   },
   "cell_type": "code",
   "source": "getSinusoidApprox(avg_y_for_x, [0.2, 1/40, 0, 0])",
   "id": "e9676c9c018678bf",
   "execution_count": 30,
   "outputs": []
  },
  {
   "metadata": {
    "ExecuteTime": {
     "end_time": "2024-09-07T18:36:17.402849Z",
     "start_time": "2024-09-07T18:36:17.385211Z"
    }
   },
   "cell_type": "code",
   "source": "removeSinusoidErrorZ(unrolled_scan, [0.5, 1/40, 110, 0]).save(os.path.join(SRC, scans[0]).replace('.stl', '_unrolled_siny_sinz.stl'))",
   "id": "d08c2f67bbbba681",
   "execution_count": 344,
   "outputs": []
  },
  {
   "metadata": {
    "ExecuteTime": {
     "end_time": "2024-09-06T04:59:40.973364Z",
     "start_time": "2024-09-06T04:59:40.585306Z"
    }
   },
   "cell_type": "code",
   "source": "unrolled_scan = mesh.Mesh.from_file(os.path.join(SRC, scans[0]).replace('.stl', '_unrolled_siny_sinz.stl'))",
   "id": "6d1bb03e27fb7c90",
   "execution_count": 6,
   "outputs": []
  },
  {
   "metadata": {
    "ExecuteTime": {
     "end_time": "2024-09-06T05:05:22.673697Z",
     "start_time": "2024-09-06T05:05:10.578780Z"
    }
   },
   "cell_type": "code",
   "source": "visualizeModelLayer(unrolled_scan, 1, 6, 22)",
   "id": "6820bdc3a289ae21",
   "execution_count": 8,
   "outputs": []
  },
  {
   "metadata": {
    "ExecuteTime": {
     "end_time": "2024-09-06T05:12:51.793879Z",
     "start_time": "2024-09-06T05:12:50.488875Z"
    }
   },
   "cell_type": "code",
   "source": "getModelLayer(unrolled_scan, 1, 0, 6.2).save(os.path.join(SRC, scans[0]).replace('.stl', '_unrolled_final.stl'))",
   "id": "271db1c5a310df99",
   "execution_count": 15,
   "outputs": []
  },
  {
   "metadata": {
    "ExecuteTime": {
     "end_time": "2024-09-08T07:06:49.165332Z",
     "start_time": "2024-09-08T07:06:46.683377Z"
    }
   },
   "cell_type": "code",
   "source": "scan = mesh.Mesh.from_file(os.path.join(SRC, scans[5]))",
   "id": "6dd65540ce77f3e2",
   "execution_count": 9,
   "outputs": []
  },
  {
   "metadata": {
    "ExecuteTime": {
     "end_time": "2024-09-08T07:09:11.543518Z",
     "start_time": "2024-09-08T07:09:09.198297Z"
    }
   },
   "cell_type": "code",
   "source": "scan_layer = getModelLayer(scan, 2, 7, 12)",
   "id": "b02f946e7d313a2c",
   "execution_count": 34,
   "outputs": []
  },
  {
   "metadata": {
    "ExecuteTime": {
     "end_time": "2024-09-08T07:09:15.120082Z",
     "start_time": "2024-09-08T07:09:11.544609Z"
    }
   },
   "cell_type": "code",
   "source": "view = getView(scan_layer, 2)",
   "id": "fe16185ec7ff7c97",
   "execution_count": 35,
   "outputs": []
  },
  {
   "metadata": {
    "ExecuteTime": {
     "end_time": "2024-09-08T07:09:16.249082Z",
     "start_time": "2024-09-08T07:09:15.121634Z"
    }
   },
   "cell_type": "code",
   "source": [
    "plt.scatter(view[:, 0], view[:, 1], s=1)\n",
    "# plt.axis('equal')\n",
    "plt.show()"
   ],
   "id": "2db18f1396efcbe6",
   "execution_count": 36,
   "outputs": []
  },
  {
   "metadata": {
    "ExecuteTime": {
     "end_time": "2024-09-07T15:23:27.579322Z",
     "start_time": "2024-09-07T15:23:27.045162Z"
    }
   },
   "cell_type": "code",
   "source": "getCircleApprox(view)",
   "id": "35c6cc7b875fb80e",
   "execution_count": 207,
   "outputs": []
  },
  {
   "metadata": {},
   "cell_type": "code",
   "execution_count": null,
   "source": "",
   "id": "378581c8aedccaab",
   "outputs": []
  }
 ],
 "metadata": {
  "kernelspec": {
   "display_name": "Python 3",
   "language": "python",
   "name": "python3"
  },
  "language_info": {
   "codemirror_mode": {
    "name": "ipython",
    "version": 2
   },
   "file_extension": ".py",
   "mimetype": "text/x-python",
   "name": "python",
   "nbconvert_exporter": "python",
   "pygments_lexer": "ipython2",
   "version": "2.7.6"
  }
 },
 "nbformat": 4,
 "nbformat_minor": 5
}
