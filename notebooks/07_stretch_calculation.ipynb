{
 "cells": [
  {
   "cell_type": "code",
   "id": "initial_id",
   "metadata": {
    "collapsed": true,
    "ExecuteTime": {
     "end_time": "2025-04-21T14:16:23.633357Z",
     "start_time": "2025-04-21T14:16:22.006962Z"
    }
   },
   "source": [
    "import math\n",
    "\n",
    "import cv2\n",
    "import numpy as np\n",
    "import matplotlib.pyplot as plt\n",
    "from scipy.ndimage import gaussian_filter1d\n",
    "from scipy.optimize import curve_fit\n",
    "from scipy.signal import find_peaks"
   ],
   "execution_count": 1,
   "outputs": []
  },
  {
   "metadata": {
    "ExecuteTime": {
     "end_time": "2025-04-21T11:28:42.245333Z",
     "start_time": "2025-04-21T11:28:42.241332Z"
    }
   },
   "cell_type": "code",
   "source": "img_path = \"/Users/fathe/Downloads/output/srp_GX010027_preprocessed-oio-5.png\"",
   "id": "451fdc6c1e12e7c",
   "execution_count": 250,
   "outputs": []
  },
  {
   "metadata": {
    "ExecuteTime": {
     "end_time": "2025-04-21T11:28:42.527636Z",
     "start_time": "2025-04-21T11:28:42.456571Z"
    }
   },
   "cell_type": "code",
   "source": "image = cv2.imread(img_path, cv2.IMREAD_GRAYSCALE)",
   "id": "44ada7b67f85eb30",
   "execution_count": 251,
   "outputs": []
  },
  {
   "metadata": {
    "ExecuteTime": {
     "end_time": "2025-04-21T11:29:54.912476Z",
     "start_time": "2025-04-21T11:29:54.149916Z"
    }
   },
   "cell_type": "code",
   "source": [
    "plt.figure(figsize=(10, 5))\n",
    "plt.imshow(image[:-image.shape[0]//4, :], cmap='gray')\n",
    "plt.show()"
   ],
   "id": "7b13b2033e8282fd",
   "execution_count": 263,
   "outputs": []
  },
  {
   "metadata": {
    "ExecuteTime": {
     "end_time": "2025-04-21T11:29:54.944636Z",
     "start_time": "2025-04-21T11:29:54.914495Z"
    }
   },
   "cell_type": "code",
   "source": [
    "image = image[:-image.shape[0]//4, :]\n",
    "\n",
    "stripe_width = 50\n",
    "shift = 50\n",
    "sizes = []\n",
    "unusable = 0\n",
    "\n",
    "for i in range(0, image.shape[1]-stripe_width, shift):\n",
    "    # Extract vertical stripes\n",
    "    stripe = image[:, i:stripe_width+i]\n",
    "    \n",
    "    # Sum pixel intensities along the x-axis\n",
    "    stripe_sum = np.sum(stripe, axis=1)\n",
    "    \n",
    "    stripe_sum = gaussian_filter1d(stripe_sum, sigma=7)\n",
    "    \n",
    "    distance = 200\n",
    "    # Detect peaks\n",
    "    peaks, _ = find_peaks(stripe_sum, height=4500, prominence=2000, width=15, rel_height=0.2, distance=distance)\n",
    "\n",
    "    if len(peaks) == 2 or len(peaks) == 3:\n",
    "        size = (peaks[-1] - peaks[0])/(len(peaks)-1)\n",
    "        if abs(size-275) < 10:\n",
    "            sizes.append(size)\n",
    "        else:\n",
    "            sizes.append(sizes[-1])\n",
    "            unusable += 1\n",
    "    else: \n",
    "        sizes.append(sizes[-1])\n",
    "        unusable += 1\n",
    "            \n",
    "        # # movements.append(movements[-1])\n",
    "        # # Plot the results\n",
    "        # plt.figure(figsize=(10, 5))\n",
    "        # plt.plot(stripe_sum, label=\"Stripe\")\n",
    "        # plt.title(f\"Summed Pixel Intensities for frame {i}\")\n",
    "        # plt.xlabel(\"Vertical Position (pixels)\")\n",
    "        # plt.ylabel(\"Summed Intensity\")\n",
    "        # plt.legend()\n",
    "        # \n",
    "        # # Display detected peaks\n",
    "        # print(\"Peaks in stripe:\", peaks)\n",
    "        # print(\"Their sum values:\", stripe_sum[peaks])\n",
    "        # plt.show()\n",
    "        # raise NotImplemented\n",
    "    \n",
    "print(unusable)"
   ],
   "id": "8aafecc83cef1cd6",
   "execution_count": 264,
   "outputs": []
  },
  {
   "metadata": {
    "ExecuteTime": {
     "end_time": "2025-04-21T11:30:01.182134Z",
     "start_time": "2025-04-21T11:30:01.176133Z"
    }
   },
   "cell_type": "code",
   "source": "len(sizes), image.shape[1], max(sizes), min(sizes), np.argmax(sizes), np.argmin(sizes), np.median(sizes)",
   "id": "4d07ce14d7b8f02c",
   "execution_count": 265,
   "outputs": []
  },
  {
   "metadata": {
    "ExecuteTime": {
     "end_time": "2025-04-21T11:30:01.667557Z",
     "start_time": "2025-04-21T11:30:01.557273Z"
    }
   },
   "cell_type": "code",
   "source": [
    "# Plot cumulative movements\n",
    "plt.figure(figsize=(10, 5))\n",
    "plt.plot(sizes, marker='o', linestyle='-', color='blue', label=\"Cumulative Movement\")\n",
    "plt.title(\"Cumulative Movements Over Stripes\")\n",
    "plt.xlabel(\"Stripe Index\")\n",
    "plt.ylabel(\"Cumulative Movement\")\n",
    "plt.legend()\n",
    "plt.grid(True)\n",
    "plt.show()"
   ],
   "id": "80189a814afa5dd5",
   "execution_count": 266,
   "outputs": []
  },
  {
   "metadata": {
    "ExecuteTime": {
     "end_time": "2025-04-21T11:30:02.224522Z",
     "start_time": "2025-04-21T11:30:02.122679Z"
    }
   },
   "cell_type": "code",
   "source": [
    "# image = image[image.shape[0]//4:, :]\n",
    "image_stacked = np.hstack((image,) * 1)\n",
    "\n",
    "\n",
    "i = 124 * shift\n",
    "# Extract vertical stripes\n",
    "stripe = image_stacked[:, i:stripe_width+i]\n",
    "\n",
    "# Sum pixel intensities along the x-axis\n",
    "stripe_sum = np.sum(stripe, axis=1)\n",
    "\n",
    "stripe_sum = gaussian_filter1d(stripe_sum, sigma=7)\n",
    "\n",
    "distance = 220\n",
    "# Detect peaks\n",
    "peaks, _ = find_peaks(stripe_sum, height=4500, prominence=2000, width=15, rel_height=0.2, distance=distance)\n",
    "      \n",
    "print((peaks[-1]-peaks[0])/(len(peaks)-1))\n",
    "plt.figure(figsize=(10, 5))\n",
    "plt.plot(stripe_sum, label=\"Stripe\")\n",
    "plt.title(f\"Summed Pixel Intensities for frame {i}\")\n",
    "plt.xlabel(\"Vertical Position (pixels)\")\n",
    "plt.ylabel(\"Summed Intensity\")\n",
    "plt.legend()\n",
    "\n",
    "# Display detected peaks\n",
    "print(\"Peaks in stripe:\", peaks)\n",
    "print(\"Their sum values:\", stripe_sum[peaks])\n",
    "plt.show()"
   ],
   "id": "5f8e578f0f021eb7",
   "execution_count": 267,
   "outputs": []
  },
  {
   "metadata": {
    "ExecuteTime": {
     "end_time": "2025-04-21T11:30:02.916567Z",
     "start_time": "2025-04-21T11:30:02.912565Z"
    }
   },
   "cell_type": "code",
   "source": [
    "def sinusoid(x, A, B, C, D):\n",
    "    return A * np.sin(B * x + C) + D"
   ],
   "id": "b9c018f9430fc98b",
   "execution_count": 268,
   "outputs": []
  },
  {
   "metadata": {
    "ExecuteTime": {
     "end_time": "2025-04-21T11:30:03.313716Z",
     "start_time": "2025-04-21T11:30:03.308766Z"
    }
   },
   "cell_type": "code",
   "source": "max(sizes), min(sizes)",
   "id": "aebbc5300cf27285",
   "execution_count": 269,
   "outputs": []
  },
  {
   "metadata": {
    "ExecuteTime": {
     "end_time": "2025-04-21T11:30:03.858622Z",
     "start_time": "2025-04-21T11:30:03.848624Z"
    }
   },
   "cell_type": "code",
   "source": [
    "x = np.arange(len(sizes))\n",
    "initial_guesses = [(max(sizes) - min(sizes))/2, 0.0442477788, 0, 275]\n",
    "lower_bounds = [0, 0.044246, -100, 260]  # Set lower bounds\n",
    "upper_bounds = [(max(sizes) - min(sizes)), 0.044248, +100, 290]  # Set upper bounds\n",
    "params, _ = curve_fit(sinusoid, x, sizes, p0=initial_guesses, bounds=(lower_bounds, upper_bounds))"
   ],
   "id": "c5f158045198824b",
   "execution_count": 270,
   "outputs": []
  },
  {
   "metadata": {
    "ExecuteTime": {
     "end_time": "2025-04-21T11:30:04.401147Z",
     "start_time": "2025-04-21T11:30:04.395841Z"
    }
   },
   "cell_type": "code",
   "source": "params",
   "id": "454fc3e6c58ba44b",
   "execution_count": 271,
   "outputs": []
  },
  {
   "metadata": {
    "ExecuteTime": {
     "end_time": "2025-04-21T11:30:05.025617Z",
     "start_time": "2025-04-21T11:30:04.885664Z"
    }
   },
   "cell_type": "code",
   "source": [
    "A, B, C, D= params\n",
    "\n",
    "# Generate fitted rotated sinusoid\n",
    "fitted_sinusoid = sinusoid(x, A, B, C, D)\n",
    "relative_stretch = (max(fitted_sinusoid) / (min(fitted_sinusoid)/100)) - 100\n",
    "print(relative_stretch)\n",
    "# Plot the results\n",
    "plt.figure(figsize=(10, 5))\n",
    "plt.plot(x, sizes, label=\"Cumulative Movements\")\n",
    "plt.plot(x, fitted_sinusoid, label=\"Fitted Rotated Sinusoid\", linestyle=\"--\")\n",
    "plt.legend()\n",
    "plt.xlabel(\"Stripe Index\")\n",
    "plt.ylabel(\"Movement\")\n",
    "plt.title(\"Fitting Rotated Sinusoidal Model to Cumulative Movements\")\n",
    "plt.grid(True)\n",
    "plt.show()"
   ],
   "id": "14439fda0f2badb4",
   "execution_count": 272,
   "outputs": []
  },
  {
   "metadata": {
    "ExecuteTime": {
     "end_time": "2025-04-21T11:30:44.280658Z",
     "start_time": "2025-04-21T11:30:44.277317Z"
    }
   },
   "cell_type": "code",
   "source": "results = [1.5798657685579656, 1.6232253969969577, 0.7620101168199795, 1.1827585976205057, 0.09770879958135481, 1.0114873071663482]",
   "id": "27cf40d0055a2d61",
   "execution_count": 274,
   "outputs": []
  },
  {
   "metadata": {
    "ExecuteTime": {
     "end_time": "2025-04-21T11:30:44.499298Z",
     "start_time": "2025-04-21T11:30:44.494061Z"
    }
   },
   "cell_type": "code",
   "source": "np.mean(results), np.std(results)",
   "id": "f6ed9f69be9aabff",
   "execution_count": 275,
   "outputs": []
  },
  {
   "metadata": {
    "ExecuteTime": {
     "end_time": "2025-04-21T14:16:30.012461Z",
     "start_time": "2025-04-21T14:16:29.871277Z"
    }
   },
   "cell_type": "code",
   "source": [
    "img_path = \"/Users/fathe/Downloads/output/pre_calibration.png\"\n",
    "img1 = cv2.imread(img_path)\n",
    "img_path = \"/Users/fathe/Downloads/output/post_calibration.png\"\n",
    "img2 = cv2.imread(img_path)\n",
    "frames = [img1, img2]"
   ],
   "id": "198ab357d345264f",
   "execution_count": 2,
   "outputs": []
  },
  {
   "metadata": {
    "ExecuteTime": {
     "end_time": "2025-04-21T14:17:28.815982Z",
     "start_time": "2025-04-21T14:17:26.920590Z"
    }
   },
   "cell_type": "code",
   "source": [
    "columns = 1\n",
    "rows = math.ceil(len(frames) / columns)\n",
    "plt.figure(figsize=(12, rows*5))\n",
    "titles = [\"Original frame\", \"Rectified frame\"]\n",
    "for i, (frame, title) in enumerate(zip(frames, titles)):\n",
    "    ax = plt.subplot(rows, columns, i+1)\n",
    "    # ax.imshow(frame[detail_y[0]:detail_y[1], detail_x[0]:detail_x[1],0], cmap=\"gray\")\n",
    "    ax.imshow(frame, cmap='gray')\n",
    "    ax.set_title(title)\n",
    "plt.tight_layout()\n",
    "plt.savefig(\"/Users/fathe/Downloads/rectification_example.png\")\n",
    "plt.show()\n",
    "plt.close()"
   ],
   "id": "5fab61537bf548f7",
   "execution_count": 5,
   "outputs": []
  },
  {
   "metadata": {},
   "cell_type": "code",
   "execution_count": null,
   "source": "",
   "id": "c421dd80e69eb9e8",
   "outputs": []
  }
 ],
 "metadata": {
  "kernelspec": {
   "display_name": "Python 3",
   "language": "python",
   "name": "python3"
  },
  "language_info": {
   "codemirror_mode": {
    "name": "ipython",
    "version": 2
   },
   "file_extension": ".py",
   "mimetype": "text/x-python",
   "name": "python",
   "nbconvert_exporter": "python",
   "pygments_lexer": "ipython2",
   "version": "2.7.6"
  }
 },
 "nbformat": 4,
 "nbformat_minor": 5
}
