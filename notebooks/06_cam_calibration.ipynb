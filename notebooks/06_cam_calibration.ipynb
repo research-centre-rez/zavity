{
 "cells": [
  {
   "metadata": {
    "ExecuteTime": {
     "end_time": "2024-12-04T08:53:57.725379Z",
     "start_time": "2024-12-04T08:53:51.359717Z"
    }
   },
   "cell_type": "code",
   "source": [
    "import subprocess\n",
    "import tempfile\n",
    "import imageio.v3 as iio\n",
    "import cv2\n",
    "import numpy as np\n",
    "import os\n",
    "\n",
    "from cv2.typing import Size\n",
    "from matplotlib import pyplot as plt\n",
    "from scipy import stats\n",
    "from scipy.ndimage import gaussian_filter1d\n",
    "from scipy.signal import savgol_filter\n",
    "from tqdm.auto import tqdm\n",
    "\n",
    "from scripts.main import timing\n",
    "from steps.image_row_builder import construct_rows\n",
    "from steps.video_camera_motion import VideoMotion"
   ],
   "id": "7fbfb1f296dc3239",
   "execution_count": 8,
   "outputs": []
  },
  {
   "metadata": {
    "ExecuteTime": {
     "end_time": "2024-11-27T14:07:16.173441Z",
     "start_time": "2024-11-27T14:07:16.162338Z"
    }
   },
   "cell_type": "code",
   "source": [
    "ROOT = \"/Users/fathe/OneDrive/Documents/UK/MFF/Thesis/input/GX010014.MP4\"\n",
    "Y1 = 550\n",
    "Y2 = 1900\n",
    "X1 = 1350\n",
    "X2 = 2650\n",
    "samples = 1000\n",
    "PADDING = 300"
   ],
   "id": "128d0bcdcc5dfd29",
   "execution_count": 2,
   "outputs": []
  },
  {
   "metadata": {
    "ExecuteTime": {
     "end_time": "2024-12-04T11:09:11.923951Z",
     "start_time": "2024-12-04T11:09:08.896258Z"
    }
   },
   "cell_type": "code",
   "source": [
    "# Load an image\n",
    "image_path = \"/Users/fathe/OneDrive/Documents/UK/MFF/Thesis/output/GX010010_preprocessed-oio-1.png\"  # Replace with the path to your image\n",
    "image = cv2.imread(image_path, cv2.IMREAD_GRAYSCALE)\n",
    "\n",
    "# Apply Gaussian blur\n",
    "image = cv2.GaussianBlur(image, (15, 15), 0)  # Kernel size (5, 5)\n",
    "\n",
    "# Apply Canny edge detection\n",
    "low_threshold = 10\n",
    "high_threshold = 100\n",
    "edges = cv2.Canny(image, low_threshold, high_threshold)\n",
    "\n",
    "closed_edges = edges\n",
    "# kernel = np.ones((5, 51), np.uint8)  # Define a 5x5 kernel\n",
    "# closed_edges = cv2.morphologyEx(closed_edges, cv2.MORPH_CLOSE, kernel)\n",
    "# \n",
    "# kernel = np.ones((3 ,3), np.uint8)  # Define a 5x5 kernel\n",
    "# closed_edges = cv2.morphologyEx(closed_edges, cv2.MORPH_ERODE, kernel)\n",
    "\n",
    "# Display the original and edge-detected images\n",
    "plt.figure(figsize=(20, 16))\n",
    "\n",
    "# Original image\n",
    "plt.subplot(3, 1, 1)\n",
    "plt.imshow(image, cmap='gray')\n",
    "plt.title(\"Original Image\")\n",
    "plt.axis(\"off\")\n",
    "\n",
    "# Edges\n",
    "plt.subplot(3, 1, 2)\n",
    "plt.imshow(edges, cmap='gray')\n",
    "plt.title(\"Canny Edges\")\n",
    "plt.axis(\"off\")\n",
    "\n",
    "plt.subplot(3, 1, 3)\n",
    "plt.imshow(edges[500:700], cmap='gray')\n",
    "plt.title(\"Canny Edges\")\n",
    "plt.axis(\"off\")\n",
    "\n",
    "plt.tight_layout()\n",
    "plt.show()\n"
   ],
   "id": "42873cf84106c41e",
   "execution_count": 44,
   "outputs": []
  },
  {
   "metadata": {
    "ExecuteTime": {
     "end_time": "2024-12-04T11:08:38.977590Z",
     "start_time": "2024-12-04T11:08:38.848379Z"
    }
   },
   "cell_type": "code",
   "source": "edges[:, 0:100].",
   "id": "3aa406dce09f7190",
   "execution_count": 43,
   "outputs": []
  },
  {
   "metadata": {
    "ExecuteTime": {
     "end_time": "2024-12-04T09:24:31.911066Z",
     "start_time": "2024-12-04T09:24:31.896356Z"
    }
   },
   "cell_type": "code",
   "source": [
    "def winPathToUnixPath(path):\n",
    "    return path.replace(\"\\\\\", \"/\").replace(\"C:/\", \"/mnt/c/\")"
   ],
   "id": "a733c92407a96532",
   "execution_count": 28,
   "outputs": []
  },
  {
   "metadata": {
    "ExecuteTime": {
     "end_time": "2024-11-27T14:07:16.295463Z",
     "start_time": "2024-11-27T14:07:16.199595Z"
    }
   },
   "cell_type": "code",
   "source": [
    "vidcap = cv2.VideoCapture(ROOT)\n",
    "vidcap.get(cv2.CAP_PROP_FRAME_COUNT)"
   ],
   "id": "f72616338c1c8a09",
   "execution_count": 4,
   "outputs": []
  },
  {
   "metadata": {
    "ExecuteTime": {
     "end_time": "2024-11-27T10:43:10.348358Z",
     "start_time": "2024-11-27T10:42:56.378980Z"
    }
   },
   "cell_type": "code",
   "execution_count": 5,
   "source": [
    "frames = []\n",
    "start = 2460\n",
    "step = 1\n",
    "amount = 10\n",
    "end = start + step*amount\n",
    "for i in range(start, end, step):\n",
    "    vidcap.set(cv2.CAP_PROP_POS_FRAMES, i)\n",
    "    success, frame = vidcap.read()\n",
    "    frames.append(frame)\n"
   ],
   "id": "516049d40e9ef6a8",
   "outputs": []
  },
  {
   "metadata": {
    "ExecuteTime": {
     "end_time": "2024-11-27T16:29:21.052798Z",
     "start_time": "2024-11-27T16:29:19.804644Z"
    }
   },
   "cell_type": "code",
   "source": [
    "plt.figure(figsize=(22, 6))\n",
    "frame = cv2.imread('/Users/fathe/OneDrive/Documents/UK/MFF/Thesis/output/GX010014-oio.png')[:, 2500:6000]\n",
    "frame = cv2.cvtColor(frame, cv2.COLOR_BGR2GRAY)\n",
    "# frame = np.where(frame < 170, 0, 255).astype(np.uint8)\n",
    "# kernel = np.ones((7, 7), np.uint8)\n",
    "# frame = cv2.morphologyEx(frame, cv2.MORPH_OPEN, kernel)\n",
    "# frame = cv2.morphologyEx(frame, cv2.MORPH_CLOSE, kernel)\n",
    "\n",
    "# kernel = np.ones((3,3),np.uint8)\n",
    "# frame = cv2.dilate(frame,kernel,iterations = 1)\n",
    "plt.imshow(frame, cmap='gray')\n",
    "\n",
    "# plt.hist(frame.ravel(), 256)\n",
    "plt.show()\n",
    "plt.close()"
   ],
   "id": "d80db595d4ad9df0",
   "execution_count": 75,
   "outputs": []
  },
  {
   "metadata": {
    "ExecuteTime": {
     "end_time": "2024-11-27T16:28:37.463831Z",
     "start_time": "2024-11-27T16:28:37.115326Z"
    }
   },
   "cell_type": "code",
   "source": [
    "# Define the dimensions of the checkerboard\n",
    "CHECKERBOARD = (3, 3)\n",
    "criteria = (cv2.TERM_CRITERIA_EPS + cv2.TERM_CRITERIA_MAX_ITER, 30, 0.001)\n",
    "\n",
    "# vidcap = cv2.VideoCapture('/Users/fathe/OneDrive/Documents/UK/MFF/Thesis/output/for_calibration.mp4')\n",
    "\n",
    "objp = np.zeros((CHECKERBOARD[0] * CHECKERBOARD[1], 3), np.float32)\n",
    "objp[:, :2] = np.mgrid[0:CHECKERBOARD[0], 0:CHECKERBOARD[1]].T.reshape(-1, 2)\n",
    "\n",
    "objpoints = []  # 3d points in real world space\n",
    "imgpoints = []  # 2d points in image plane.\n",
    "\n",
    "ret, corners = cv2.findChessboardCorners(frame, CHECKERBOARD, None)\n",
    "# print(ret, corners)\n",
    "if ret:\n",
    "    print(ret)\n",
    "    objpoints.append(objp)\n",
    "    corners = cv2.cornerSubPix(frame, corners, (11, 11), (-1, -1), criteria)\n",
    "    imgpoints.append(corners)\n",
    "    frame2 = cv2.drawChessboardCorners(frame, CHECKERBOARD, corners, ret)\n",
    "    plt.figure(figsize=(16, 8))\n",
    "    plt.imshow(frame2, cmap='gray')\n",
    "    plt.show()"
   ],
   "id": "84da3bedc1529a54",
   "execution_count": 73,
   "outputs": []
  },
  {
   "metadata": {
    "ExecuteTime": {
     "end_time": "2024-11-22T14:28:28.991348Z",
     "start_time": "2024-11-22T14:28:28.156013Z"
    }
   },
   "cell_type": "code",
   "source": [
    "plt.figure(figsize=(20, 6))\n",
    "for i, frame in enumerate(frames):\n",
    "    ax = plt.subplot(1, len(frames), i+1)\n",
    "    ax.imshow(frame[1000:1200, 2000:2050,0], cmap=\"gray\")\n",
    "    ax.set_title(start + step*i)\n",
    "plt.show()"
   ],
   "id": "fd8dbf2d8541e912",
   "execution_count": 37,
   "outputs": []
  },
  {
   "metadata": {},
   "cell_type": "code",
   "source": [
    "plt.figure(figsize=(20, 60))\n",
    "for i, frame in enumerate(frames):\n",
    "    ax = plt.subplot(len(frames), 1, i+1)\n",
    "    ax.imshow(frame, cmap=\"gray\")\n",
    "    ax.set_title(start + step*i)\n",
    "plt.show()"
   ],
   "id": "77ece3a016804e9b",
   "execution_count": null,
   "outputs": []
  },
  {
   "metadata": {
    "ExecuteTime": {
     "end_time": "2024-11-27T14:07:16.754646Z",
     "start_time": "2024-11-27T14:07:16.749622Z"
    }
   },
   "cell_type": "code",
   "source": "breakpoints = [(49, 240), (870, 1530), (2250, 3031)] #280..2x3 240..3x3 230..2x5",
   "id": "131fa8ece566f269",
   "execution_count": 5,
   "outputs": []
  },
  {
   "metadata": {
    "ExecuteTime": {
     "end_time": "2024-11-27T12:14:01.930219Z",
     "start_time": "2024-11-27T12:12:12.926279Z"
    }
   },
   "cell_type": "code",
   "source": [
    "frames = []\n",
    "\n",
    "for start, end in breakpoints:\n",
    "    vidcap.set(cv2.CAP_PROP_POS_FRAMES, start)\n",
    "    success, frame = vidcap.read()\n",
    "    while success and vidcap.get(cv2.CAP_PROP_POS_FRAMES) <= end:\n",
    "        frame = cv2.cvtColor(frame, cv2.COLOR_BGR2GRAY)\n",
    "        frame = np.where(frame < 170, 0, 255).astype(np.uint8)\n",
    "        frames.append(frame)\n",
    "        success, frame = vidcap.read()\n",
    "\n",
    "vidcap.release()"
   ],
   "id": "a371e82d2ad77330",
   "execution_count": 99,
   "outputs": []
  },
  {
   "metadata": {
    "ExecuteTime": {
     "end_time": "2024-11-23T10:39:37.692475Z",
     "start_time": "2024-11-23T10:29:33.533377Z"
    }
   },
   "cell_type": "code",
   "source": [
    "frame_angles = []\n",
    "hists = []\n",
    "\n",
    "vidcap = cv2.VideoCapture(ROOT)\n",
    "\n",
    "frame_rate = 1\n",
    "\n",
    "total_frames = int(vidcap.get(cv2.CAP_PROP_FRAME_COUNT))\n",
    "\n",
    "for i in tqdm(range(830, 1570, frame_rate),  desc=\"Processing frames\"):\n",
    "    vidcap.set(cv2.CAP_PROP_POS_FRAMES, i)\n",
    "    success, frame = vidcap.read()\n",
    "    undistorted =  frame[Y1:Y2, X1:X2, 0]\n",
    "    undistorted = cv2.resize(undistorted, (undistorted.shape[0]//4, undistorted.shape[1]//4))\n",
    "    otsu_threshold, _ = cv2.threshold(undistorted, 0, 255, cv2.THRESH_OTSU)\n",
    "    \n",
    "    with tempfile.NamedTemporaryFile(suffix=\".pgm\", delete=False) as tmpfile:\n",
    "        filename = tmpfile.name\n",
    "        iio.imwrite(tmpfile.name, undistorted)  # this must be a grayscale image\n",
    "        \n",
    "        output_path = tmpfile.name.replace(\".pgm\", \".txt\")\n",
    "        \n",
    "        process = subprocess.Popen(\n",
    "            [\"wsl\", \"devernay\", winPathToUnixPath(tmpfile.name),\n",
    "             \"-t\", winPathToUnixPath(output_path),\n",
    "             \"-l\", f\"{otsu_threshold / 15}\",\n",
    "             \"-h\", f\"{otsu_threshold / 3}\",\n",
    "             # \"-p\", f\"/mnt/c/Users/fathe/OneDrive/Documents/UK/MFF/Thesis/output/sample{i}.pdf\",\n",
    "             \"-s\", f\"1\"],\n",
    "            stdout=subprocess.PIPE,\n",
    "            stderr=subprocess.PIPE\n",
    "        )\n",
    "        tmpfile.close()\n",
    "        \n",
    "    # Wait for the process to complete and get stdout and stderr\n",
    "    stdout, stderr = process.communicate()\n",
    "    \n",
    "    # Check for errors in stderr\n",
    "    if stderr:\n",
    "        print(\"Error running devernay:\", stderr.decode(\"utf-8\"))\n",
    "    if os.path.exists(output_path):\n",
    "        with open(output_path, 'r') as output_file:\n",
    "            result = output_file.read()\n",
    "    else:\n",
    "        print(f\"Output file {output_path} does not exist.\")\n",
    "\n",
    "    lines = result.split(\"\\n\")\n",
    "    dev = []\n",
    "    for line in lines:\n",
    "        if line != \"\":\n",
    "            x, y = line.split(' ')\n",
    "            dev.append((float(x), float(y)))\n",
    "    dev = np.array(dev)\n",
    "    if len(dev) == 0:\n",
    "        print(\"Something wrong happen\")\n",
    "    choice = np.random.randint(0, len(dev), samples)\n",
    "    xx0 = np.matmul(dev[choice, 0].reshape(-1, 1), np.ones((1, len(choice))))\n",
    "    yy0 = np.matmul(dev[choice, 1].reshape(-1, 1), np.ones((1, len(choice))))\n",
    "    xx1 = np.matmul(np.ones((len(choice), 1)), dev[choice, 0].reshape(1, -1))\n",
    "    yY1 = np.matmul(np.ones((len(choice), 1)), dev[choice, 1].reshape(1, -1))\n",
    "    valid = np.zeros_like(xx0, dtype=bool)\n",
    "    valid[xx0 != xx1] = 1\n",
    "    angles = np.zeros_like(xx0, np.float32)\n",
    "    angles[xx0 == xx1] = np.pi / 2\n",
    "    angles[valid] = np.arctan((yy0[valid] - yY1[valid]) / (xx0[valid] - xx1[valid])).reshape(-1)\n",
    "    angles[np.eye(samples, dtype=bool)] = np.nan\n",
    "\n",
    "    filtered = np.rad2deg(np.abs(angles[~np.isnan(angles)]))\n",
    "\n",
    "    if filename is not None and os.path.exists(filename):\n",
    "        os.remove(filename)\n",
    "\n",
    "    # counts, values = np.histogram(filtered, bins=samples)\n",
    "    hists.append(filtered)\n",
    "    # frame_angles.append(values[np.argmax(counts)])"
   ],
   "id": "45bd9ac87a15f5fd",
   "execution_count": 18,
   "outputs": []
  },
  {
   "metadata": {
    "ExecuteTime": {
     "end_time": "2024-11-23T15:15:02.467198Z",
     "start_time": "2024-11-23T15:14:55.269776Z"
    }
   },
   "cell_type": "code",
   "source": [
    "frame_angles_smoothed = []\n",
    "for hist in hists:\n",
    "    counts, values = np.histogram(hist, bins=samples)\n",
    "    # counts = gaussian_filter1d(counts, sigma=2)\n",
    "    max_index = np.argmax(counts)\n",
    "    frame_angles_smoothed.append(values[max_index])"
   ],
   "id": "fc45a9e5023bdb90",
   "execution_count": 32,
   "outputs": []
  },
  {
   "metadata": {
    "ExecuteTime": {
     "end_time": "2024-11-23T15:15:02.559067Z",
     "start_time": "2024-11-23T15:15:02.477018Z"
    }
   },
   "cell_type": "code",
   "source": [
    "plt.figure(figsize=(15,3))\n",
    "plt.plot(frame_angles_smoothed)\n",
    "# plt.axvline(98, color=\"red\")\n",
    "# plt.axvline(487, color=\"red\")\n",
    "# plt.axvline(1198, color=\"red\")\n",
    "# plt.axvline(1895, color=\"red\")\n",
    "# plt.axvline(2603, color=\"red\")\n",
    "# plt.axvline(3095, color=\"red\")\n",
    "plt.show()"
   ],
   "id": "9c7d4fc14f9499f3",
   "execution_count": 33,
   "outputs": []
  },
  {
   "metadata": {
    "ExecuteTime": {
     "end_time": "2024-11-23T15:15:12.562756Z",
     "start_time": "2024-11-23T15:15:12.555260Z"
    }
   },
   "cell_type": "code",
   "source": "frame_angles_smoothed_smoothed = savgol_filter(frame_angles_smoothed, window_length=8, polyorder=1)  # Adjust window_length and polyorder based on your data",
   "id": "c16f6346e564cba7",
   "execution_count": 34,
   "outputs": []
  },
  {
   "metadata": {
    "ExecuteTime": {
     "end_time": "2024-11-23T15:15:14.533732Z",
     "start_time": "2024-11-23T15:15:14.441526Z"
    }
   },
   "cell_type": "code",
   "source": [
    "plt.figure(figsize=(15,3))\n",
    "plt.plot(frame_angles_smoothed_smoothed)\n",
    "# plt.axvline(98, color=\"red\")\n",
    "# plt.axvline(487, color=\"red\")\n",
    "# plt.axvline(1198, color=\"red\")\n",
    "# plt.axvline(1895, color=\"red\")\n",
    "# plt.axvline(2603, color=\"red\")\n",
    "# plt.axvline(3095, color=\"red\")\n",
    "plt.show()"
   ],
   "id": "f2a77acffd57c4af",
   "execution_count": 35,
   "outputs": []
  },
  {
   "metadata": {
    "ExecuteTime": {
     "end_time": "2024-11-23T15:15:21.206935Z",
     "start_time": "2024-11-23T15:15:21.196418Z"
    }
   },
   "cell_type": "code",
   "source": [
    "derivative = np.diff(frame_angles_smoothed_smoothed)\n",
    "threshold = 0.04 # Adjust this threshold based on your data\n",
    "\n",
    "segment_type = np.zeros_like(derivative)  # Array to store classification: -1 for decreasing, 0 for constant, 1 for increasing\n",
    "\n",
    "segment_type[derivative > threshold] = 1  # Increasing\n",
    "segment_type[derivative < -threshold] = -1  # Decreasing\n",
    "# Constant parts are already set to 0\n"
   ],
   "id": "bf2806b5129544a5",
   "execution_count": 36,
   "outputs": []
  },
  {
   "metadata": {
    "ExecuteTime": {
     "end_time": "2024-11-23T15:15:23.508991Z",
     "start_time": "2024-11-23T15:15:23.407565Z"
    }
   },
   "cell_type": "code",
   "source": [
    "plt.figure(figsize=(15,3))\n",
    "plt.plot(segment_type)\n",
    "# plt.axvline(98, color=\"red\")\n",
    "# plt.axvline(487, color=\"red\")\n",
    "# plt.axvline(1198, color=\"red\")\n",
    "# plt.axvline(1895, color=\"red\")\n",
    "# plt.axvline(2603, color=\"red\")\n",
    "# plt.axvline(3095, color=\"red\")\n",
    "plt.show()"
   ],
   "id": "c16d70dc51f02c0c",
   "execution_count": 37,
   "outputs": []
  },
  {
   "metadata": {
    "ExecuteTime": {
     "end_time": "2024-11-23T15:16:25.258454Z",
     "start_time": "2024-11-23T15:16:25.249389Z"
    }
   },
   "cell_type": "code",
   "source": "breakpoints = np.where(np.diff(segment_type) != 0)[0] + 1  # +1 because np.diff shifts indices by 1",
   "id": "7aacce9594ef402a",
   "execution_count": 43,
   "outputs": []
  },
  {
   "metadata": {
    "ExecuteTime": {
     "end_time": "2024-11-23T15:16:26.093598Z",
     "start_time": "2024-11-23T15:16:26.073564Z"
    }
   },
   "cell_type": "code",
   "source": [
    "threshold = 10\n",
    "step = 1\n",
    "# Define the distance threshold to group close breakpoints\n",
    "\n",
    "merged_breakpoints = []\n",
    "\n",
    "# Temporary group for close breakpoints\n",
    "current_group = [breakpoints[0]]\n",
    "\n",
    "# Iterate over the breakpoints\n",
    "for i in range(1, len(breakpoints)):\n",
    "    # print(breakpoints[i], breakpoints[i - 1], breakpoints[i] - breakpoints[i - 1] <= threshold)\n",
    "    # If the difference between consecutive breakpoints is below the threshold, group them\n",
    "    if breakpoints[i] - breakpoints[i - 1] <= threshold:\n",
    "        current_group.append(breakpoints[i])\n",
    "    else:\n",
    "        # If a current group is finished, calculate the rounded average and store it\n",
    "        avg_breakpoint = int(round(np.mean(current_group)))\n",
    "        merged_breakpoints.append(avg_breakpoint)\n",
    "        # Start a new group\n",
    "        current_group = [breakpoints[i]]\n",
    "\n",
    "# Handle the last group\n",
    "if current_group:\n",
    "    avg_breakpoint = int(round(np.mean(current_group)))\n",
    "    merged_breakpoints.append(avg_breakpoint)\n",
    "\n",
    "# print(np.asarray(merged_breakpoints))\n",
    "\n",
    "if len(merged_breakpoints) > 1:\n",
    "    if stats.mode(segment_type[:merged_breakpoints[0]//step])[0] == stats.mode(segment_type[merged_breakpoints[0]//step:merged_breakpoints[1]//step])[0]:\n",
    "        new_merged_breakpoints = []\n",
    "    else:\n",
    "        new_merged_breakpoints = [merged_breakpoints[0]]\n",
    "\n",
    "    for i in range(1, len(merged_breakpoints) - 1):\n",
    "        # print(i, stats.mode(self.segment_type[merged_breakpoints[i - 1]:merged_breakpoints[i]])[0], stats.mode(self.segment_type[merged_breakpoints[i]:merged_breakpoints[i + 1]])[0])\n",
    "        if not stats.mode(segment_type[merged_breakpoints[i - 1]//step:merged_breakpoints[i]//step])[0] == stats.mode(segment_type[merged_breakpoints[i]//step:merged_breakpoints[i + 1]//step])[0]:\n",
    "            new_merged_breakpoints.append(merged_breakpoints[i])\n",
    "\n",
    "    if not stats.mode(segment_type[merged_breakpoints[-1]//step:])[0] == stats.mode(segment_type[merged_breakpoints[-2]//step:merged_breakpoints[-1]//step])[0]:\n",
    "        new_merged_breakpoints.append(merged_breakpoints[-1])\n",
    "\n",
    "new_merged_breakpoints = np.concatenate([[0], new_merged_breakpoints, [(len(frame_angles_smoothed) - 1) * step]])\n",
    "# Now merged_breakpoints contains the final list of unique breakpoints\n",
    "print(\"Merged Breakpoints:\", new_merged_breakpoints)\n"
   ],
   "id": "1cc4b96f8c85e759",
   "execution_count": 44,
   "outputs": []
  },
  {
   "metadata": {
    "ExecuteTime": {
     "end_time": "2024-11-23T15:17:09.063243Z",
     "start_time": "2024-11-23T15:17:08.963802Z"
    }
   },
   "cell_type": "code",
   "source": [
    "plt.figure(figsize=(15,3))\n",
    "plt.plot(frame_angles_smoothed)\n",
    "# plt.plot(segment_type)\n",
    "for bp in new_merged_breakpoints:\n",
    "    plt.axvline(bp, color=\"red\")\n",
    "plt.show()"
   ],
   "id": "b8d12ac902ebf365",
   "execution_count": 45,
   "outputs": []
  },
  {
   "metadata": {
    "ExecuteTime": {
     "end_time": "2024-11-23T15:17:16.893061Z",
     "start_time": "2024-11-23T15:17:16.886581Z"
    }
   },
   "cell_type": "code",
   "source": [
    "borderBreakpoints = []\n",
    "for i in range(0, len(new_merged_breakpoints) - 1):\n",
    "    if stats.mode(segment_type[new_merged_breakpoints[i]:new_merged_breakpoints[i + 1]])[0] == 0:\n",
    "        borderBreakpoints.append([new_merged_breakpoints[i], new_merged_breakpoints[i + 1]])\n",
    "\n",
    "print(f\"Calculated: Border Breakpoints\\n\"\n",
    "      f\"{np.asarray(borderBreakpoints)}\\n\")"
   ],
   "id": "343221317f6e7364",
   "execution_count": 46,
   "outputs": []
  },
  {
   "metadata": {
    "ExecuteTime": {
     "end_time": "2024-11-23T15:39:12.046264Z",
     "start_time": "2024-11-23T15:39:11.945244Z"
    }
   },
   "cell_type": "code",
   "source": [
    "fa = []\n",
    "j = 0\n",
    "k = 0\n",
    "for i in range(0, len(new_merged_breakpoints)-1):\n",
    "    segment = stats.mode(segment_type[new_merged_breakpoints[i]:new_merged_breakpoints[i + 1]])[0]\n",
    "    offset = -(k * 180)\n",
    "    print(i, j, k, offset, segment)\n",
    "    if segment == 1:\n",
    "        k += 1\n",
    "    f = frame_angles_smoothed_smoothed[new_merged_breakpoints[i]:new_merged_breakpoints[i + 1]] * -segment + offset\n",
    "    fa = np.concatenate([fa, f])\n",
    "\n",
    "a, b = np.polyfit(np.arange(len(fa)), fa, 1)\n",
    "\n",
    "plt.plot(fa)\n",
    "plt.plot([(a * x + b) for x in np.arange(len(fa))])\n",
    "plt.show()\n",
    "\n",
    "print(f\"Calculated : RotationPerFrame\\n\"\n",
    "      f\"{-a}\")"
   ],
   "id": "f719ba05c263d87",
   "execution_count": 56,
   "outputs": []
  },
  {
   "metadata": {
    "ExecuteTime": {
     "end_time": "2024-11-23T15:39:13.814343Z",
     "start_time": "2024-11-23T15:39:13.709441Z"
    }
   },
   "cell_type": "code",
   "source": [
    "plt.plot(fa)\n",
    "plt.plot([(-0.12711575238356873 * x + b) for x in np.arange(len(fa))])\n",
    "plt.show()"
   ],
   "id": "8e172d7af306ab97",
   "execution_count": 57,
   "outputs": []
  },
  {
   "metadata": {
    "ExecuteTime": {
     "end_time": "2024-11-24T10:07:33.884222Z",
     "start_time": "2024-11-24T10:06:58.887767Z"
    }
   },
   "cell_type": "code",
   "source": [
    "rot = -a\n",
    "angle = -rot*(378-0)+90\n",
    "rotated = []\n",
    "\n",
    "vidcap = cv2.VideoCapture(ROOT)\n",
    "\n",
    "# total_frames = int(vidcap.get(cv2.CAP_PROP_FRAME_COUNT))\n",
    "# total_frames = 3095-98\n",
    "\n",
    "success, frame = vidcap.read()\n",
    "\n",
    "vidcap.set(cv2.CAP_PROP_POS_FRAMES, 830)\n",
    "\n",
    "out = cv2.VideoWriter('/Users/fathe/OneDrive/Documents/UK/MFF/Thesis/output/for_calibration.mp4', \n",
    "                      apiPreference=cv2.CAP_FFMPEG,\n",
    "                      fourcc=cv2.VideoWriter_fourcc(*'mp4v'),\n",
    "                      fps=60.0,\n",
    "                      frameSize=(X2-X1, Y2-Y1),\n",
    "                        params=[\n",
    "                            cv2.VIDEOWRITER_PROP_DEPTH,\n",
    "                            cv2.CV_8U,\n",
    "                            cv2.VIDEOWRITER_PROP_IS_COLOR,\n",
    "                            0,  # false\n",
    "                        ]\n",
    "                      )\n",
    "\n",
    "for i in tqdm(range(830, 1570, 1), desc=\"Processing frames\"):\n",
    "    success, frame = vidcap.read()\n",
    "    frame = frame[Y1 - PADDING:Y2 + PADDING, X1 - PADDING:X2 + PADDING]\n",
    "    rotate_matrix = cv2.getRotationMatrix2D((frame.shape[1] / 2, frame.shape[0] / 2), angle, 1)\n",
    "    rotated_image = cv2.warpAffine(\n",
    "        src=frame, M=rotate_matrix, dsize=(frame.shape[1], frame.shape[0]))[PADDING:Y2 - Y1 + PADDING,\n",
    "                    PADDING:X2 - X1 + PADDING, 0]\n",
    "    out.write(rotated_image.astype(np.uint8))\n",
    "    \n",
    "    angle += rot\n",
    "    \n",
    "out.release()"
   ],
   "id": "1d94c6a68e9db715",
   "execution_count": 76,
   "outputs": []
  },
  {
   "metadata": {
    "ExecuteTime": {
     "end_time": "2024-11-24T10:17:46.143691Z",
     "start_time": "2024-11-24T10:17:39.573622Z"
    }
   },
   "cell_type": "code",
   "source": [
    "output_path = '/Users/fathe/OneDrive/Documents/UK/MFF/Thesis/output/'\n",
    "with timing(\"Total OIO Pipeline\"):\n",
    "    video_file_path = '/Users/fathe/OneDrive/Documents/UK/MFF/Thesis/output/for_calibration.mp4'\n",
    "\n",
    "    with timing(\"VideoMotion\"):\n",
    "        motions = VideoMotion(video_file_path, output_path)\n",
    "        motions.process()\n",
    "\n",
    "    with timing(\"RowBuilder\"):\n",
    "        construct_rows(motions, video_file_path, output_path)"
   ],
   "id": "e8685fe54d5735ae",
   "execution_count": 5,
   "outputs": []
  },
  {
   "metadata": {
    "ExecuteTime": {
     "end_time": "2024-11-27T14:08:22.292526Z",
     "start_time": "2024-11-27T14:07:29.443380Z"
    }
   },
   "cell_type": "code",
   "source": [
    "frames = []\n",
    "\n",
    "for start, end in breakpoints:\n",
    "    vidcap.set(cv2.CAP_PROP_POS_FRAMES, start)\n",
    "    success, frame = vidcap.read()\n",
    "    while success and vidcap.get(cv2.CAP_PROP_POS_FRAMES) <= end:\n",
    "        frame = cv2.cvtColor(frame, cv2.COLOR_BGR2GRAY)\n",
    "        frames.append(frame)\n",
    "        success, frame = vidcap.read()\n",
    "\n",
    "vidcap.release()"
   ],
   "id": "b0e3a5795572d9f0",
   "execution_count": 6,
   "outputs": []
  },
  {
   "metadata": {
    "ExecuteTime": {
     "end_time": "2024-11-27T14:24:54.712533Z",
     "start_time": "2024-11-27T14:08:22.308032Z"
    }
   },
   "cell_type": "code",
   "source": [
    "# Define the dimensions of the checkerboard\n",
    "CHECKERBOARD = (3, 3)\n",
    "criteria = (cv2.TERM_CRITERIA_EPS + cv2.TERM_CRITERIA_MAX_ITER, 30, 0.001)\n",
    "\n",
    "objp = np.zeros((CHECKERBOARD[0] * CHECKERBOARD[1], 3), np.float32)\n",
    "objp[:, :2] = np.mgrid[0:CHECKERBOARD[0], 0:CHECKERBOARD[1]].T.reshape(-1, 2)\n",
    "\n",
    "objpoints = []  # 3d points in real world space\n",
    "imgpoints = []  # 2d points in image plane.\n",
    "found = 0\n",
    "\n",
    "for frame in tqdm(frames, desc=f\"Images with found corners: {found}\"):\n",
    "    frame = np.where(frame < 170, 0, 255).astype(np.uint8)\n",
    "    ret, corners = cv2.findChessboardCorners(frame, CHECKERBOARD, None)\n",
    "    \n",
    "\n",
    "    if ret:\n",
    "        found += 1\n",
    "        objpoints.append(objp)\n",
    "        corners2 = cv2.cornerSubPix(frame, corners, (11, 11), (-1, -1), criteria)\n",
    "        imgpoints.append(corners2)\n",
    "        # frame = cv2.drawChessboardCorners(frame, CHECKERBOARD, corners2, ret)\n",
    "        # Draw and display the corners\n",
    "        # cv2.drawChessboardCorners(frame, CHECKERBOARD, corners2, ret)\n",
    "        # cv2.imshow('img', frame)\n",
    "        # cv2.waitKey(500)"
   ],
   "id": "5080a0a37eabd431",
   "execution_count": 7,
   "outputs": []
  },
  {
   "metadata": {
    "ExecuteTime": {
     "end_time": "2024-11-27T14:25:10.865684Z",
     "start_time": "2024-11-27T14:25:10.843876Z"
    }
   },
   "cell_type": "code",
   "source": "len(objpoints)",
   "id": "36f59fda6fbee4ad",
   "execution_count": 8,
   "outputs": []
  },
  {
   "metadata": {
    "ExecuteTime": {
     "end_time": "2024-11-27T14:25:35.255612Z",
     "start_time": "2024-11-27T14:25:26.628855Z"
    }
   },
   "cell_type": "code",
   "source": "ret, mtx, dist, rvecs, tvecs = cv2.calibrateCamera(objpoints, imgpoints, frame.shape[::-1], None, None)\n",
   "id": "2238061284cbc979",
   "execution_count": 10,
   "outputs": []
  },
  {
   "metadata": {
    "ExecuteTime": {
     "end_time": "2024-11-27T15:02:08.511955Z",
     "start_time": "2024-11-27T15:02:08.503130Z"
    }
   },
   "cell_type": "code",
   "source": [
    "np.save(\"mtx.npy\", mtx)\n",
    "np.save(\"dist.npy\", dist)\n",
    "np.save(\"rvecs.npy\", rvecs)\n",
    "np.save(\"tvecs.npy\", tvecs)\n"
   ],
   "id": "cf6bddf9c0d2d14c",
   "execution_count": 55,
   "outputs": []
  },
  {
   "metadata": {
    "ExecuteTime": {
     "end_time": "2024-11-27T14:52:36.027910Z",
     "start_time": "2024-11-27T14:52:35.912137Z"
    }
   },
   "cell_type": "code",
   "source": [
    "frame = frames[1400]\n",
    "h, w = frame.shape[:2]\n",
    "new_camera_mtx, roi = cv2.getOptimalNewCameraMatrix(mtx, dist, (w, h), 1, (w, h))\n",
    "undistorted_frame = cv2.undistort(frame, mtx, dist, None, new_camera_mtx)\n",
    "# Crop and save\n",
    "x, y, w, h = roi\n",
    "undistorted_frame2 = undistorted_frame[y:y+h, x:x+w]"
   ],
   "id": "87137883b05c4f1b",
   "execution_count": 39,
   "outputs": []
  },
  {
   "metadata": {
    "ExecuteTime": {
     "end_time": "2024-11-27T14:52:39.652954Z",
     "start_time": "2024-11-27T14:52:37.198192Z"
    }
   },
   "cell_type": "code",
   "source": [
    "plt.figure(figsize=(16, 16))\n",
    "ax = plt.subplot(211)\n",
    "ax.imshow(frame, cmap=\"gray\")\n",
    "ax.set_title(\"frame\")\n",
    "ax = plt.subplot(212)\n",
    "ax.imshow(undistorted_frame, cmap=\"gray\")\n",
    "ax.set_title(\"undistorted_frame\")\n",
    "plt.show()"
   ],
   "id": "e3da7e7a2b99482e",
   "execution_count": 40,
   "outputs": []
  },
  {
   "metadata": {
    "ExecuteTime": {
     "end_time": "2024-11-27T14:54:57.975899Z",
     "start_time": "2024-11-27T14:54:57.969282Z"
    }
   },
   "cell_type": "code",
   "source": [
    "y1 = 700\n",
    "y2 = 1900\n",
    "x1 = 1500\n",
    "x2 = 2700"
   ],
   "id": "c81d85a9f2ff70cc",
   "execution_count": 51,
   "outputs": []
  },
  {
   "metadata": {
    "ExecuteTime": {
     "end_time": "2024-11-27T14:54:59.838304Z",
     "start_time": "2024-11-27T14:54:58.302433Z"
    }
   },
   "cell_type": "code",
   "source": [
    "plt.figure(figsize=(20, 5))\n",
    "ax = plt.subplot(121)\n",
    "ax.imshow(undistorted_frame[y1:y2, x1:x2], cmap=\"gray\")\n",
    "ax = plt.subplot(122)\n",
    "ax.imshow(undistorted_frame, cmap=\"gray\")\n",
    "ax.plot([x1, x1, x2, x2, x1], [y1, y2, y2, y1, y1], color=\"red\")\n",
    "plt.show()"
   ],
   "id": "28298abb9fc04541",
   "execution_count": 52,
   "outputs": []
  },
  {
   "metadata": {
    "ExecuteTime": {
     "end_time": "2024-11-27T14:35:25.148283Z",
     "start_time": "2024-11-27T14:35:22.630296Z"
    }
   },
   "cell_type": "code",
   "source": [
    "mean_error = 0\n",
    "for i in range(len(objpoints)):\n",
    "    imgpoints2, _ = cv2.projectPoints(objpoints[i], rvecs[i], tvecs[i], mtx, dist)\n",
    "    error = cv2.norm(imgpoints[i], imgpoints2, cv2.NORM_L2)/len(imgpoints2)\n",
    "    mean_error += error\n",
    " \n",
    "print( \"total error: {}\".format(mean_error/len(objpoints)) )"
   ],
   "id": "55df30d937cb3b9a",
   "execution_count": 22,
   "outputs": []
  },
  {
   "metadata": {},
   "cell_type": "code",
   "execution_count": null,
   "source": "for ",
   "id": "d2a906225c7a6a5d",
   "outputs": []
  }
 ],
 "metadata": {
  "kernelspec": {
   "display_name": "Python 3",
   "language": "python",
   "name": "python3"
  },
  "language_info": {
   "codemirror_mode": {
    "name": "ipython",
    "version": 2
   },
   "file_extension": ".py",
   "mimetype": "text/x-python",
   "name": "python",
   "nbconvert_exporter": "python",
   "pygments_lexer": "ipython2",
   "version": "2.7.6"
  }
 },
 "nbformat": 4,
 "nbformat_minor": 5
}
