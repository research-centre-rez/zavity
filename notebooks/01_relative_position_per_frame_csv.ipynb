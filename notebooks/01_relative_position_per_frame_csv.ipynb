{
 "cells": [
  {
   "cell_type": "code",
   "id": "1450003ea55c42bf",
   "metadata": {
    "collapsed": true,
    "ExecuteTime": {
     "end_time": "2024-09-09T12:12:42.762740Z",
     "start_time": "2024-09-09T12:12:41.786578Z"
    }
   },
   "source": [
    "import os\n",
    "import cv2\n",
    "import csv\n",
    "import numpy as np\n",
    "import pandas as pd\n",
    "from tqdm.auto import tqdm"
   ],
   "execution_count": 1,
   "outputs": []
  },
  {
   "metadata": {
    "ExecuteTime": {
     "end_time": "2024-09-09T12:13:34.268192Z",
     "start_time": "2024-09-09T12:13:34.263934Z"
    }
   },
   "cell_type": "code",
   "source": [
    "SRC = '/Users/fathe/OneDrive/Documents/UK/MFF/Thesis/input'\n",
    "LANDSCAPE = 0\n",
    "VIDEO = 1\n",
    "SCALE = 6\n",
    "scales = [6]"
   ],
   "id": "6c85fcb54fba8449",
   "execution_count": 8,
   "outputs": []
  },
  {
   "metadata": {
    "ExecuteTime": {
     "end_time": "2024-09-09T12:13:28.679100Z",
     "start_time": "2024-09-09T12:13:28.663345Z"
    }
   },
   "cell_type": "code",
   "source": "videos = [file for file in os.listdir(SRC) if file.endswith(\"MP4\") and file.startswith(\"GX\")]",
   "id": "3424cd9e86a01c7e",
   "execution_count": 6,
   "outputs": []
  },
  {
   "metadata": {
    "ExecuteTime": {
     "end_time": "2024-09-09T12:13:28.888438Z",
     "start_time": "2024-09-09T12:13:28.874171Z"
    }
   },
   "cell_type": "code",
   "source": "videos",
   "id": "1267f34033f51bfa",
   "execution_count": 7,
   "outputs": []
  },
  {
   "metadata": {
    "ExecuteTime": {
     "end_time": "2024-09-09T12:13:36.867099Z",
     "start_time": "2024-09-09T12:13:36.862818Z"
    }
   },
   "cell_type": "code",
   "source": [
    "feature_params = dict(maxCorners=100,\n",
    "                      qualityLevel=0.1,\n",
    "                      minDistance=7,\n",
    "                      blockSize=7)\n",
    "\n",
    "lk_params = dict(winSize=(50, 50),\n",
    "                 maxLevel=2,\n",
    "                 criteria=(cv2.TERM_CRITERIA_EPS | cv2.TERM_CRITERIA_COUNT, 10, 0.03))\n",
    "\n",
    "err_threshold = 9"
   ],
   "id": "aa9729f10745a783",
   "execution_count": 9,
   "outputs": []
  },
  {
   "metadata": {
    "ExecuteTime": {
     "end_time": "2024-08-28T10:35:51.815036Z",
     "start_time": "2024-08-28T10:35:51.814035Z"
    }
   },
   "cell_type": "code",
   "source": [
    "def process():\n",
    "    corners_not_found = []\n",
    "    no_good_found = []\n",
    "    rows = []\n",
    "    moves = []\n",
    "    vidcap = cv2.VideoCapture(os.path.join(SRC, videos[VIDEO]))\n",
    "    width = int(vidcap.get(cv2.CAP_PROP_FRAME_WIDTH)/SCALE)\n",
    "    height = int(vidcap.get(cv2.CAP_PROP_FRAME_HEIGHT)/SCALE)\n",
    "    pbar = tqdm(total=vidcap.get(cv2.CAP_PROP_FRAME_COUNT), desc=f\"Extraction motion direction\")\n",
    "\n",
    "    _, old_frame = vidcap.read()\n",
    "    old_gray = cv2.cvtColor(cv2.resize(old_frame, (width, height)), cv2.COLOR_BGR2GRAY)\n",
    "\n",
    "    rows.append([vidcap.get(cv2.CAP_PROP_POS_FRAMES), 0, 0])\n",
    "\n",
    "    while True:\n",
    "        ret, frame = vidcap.read()\n",
    "        if not ret:\n",
    "            break\n",
    "        corners = cv2.goodFeaturesToTrack(old_gray, **feature_params)\n",
    "        frame_gray = cv2.cvtColor(cv2.resize(frame, (width, height)), cv2.COLOR_BGR2GRAY)\n",
    "\n",
    "        if corners is not None:\n",
    "            p1, st, err = cv2.calcOpticalFlowPyrLK(old_gray, frame_gray, corners, None, **lk_params)\n",
    "\n",
    "            st = (st == 1) & (err < err_threshold)\n",
    "            p1 = p1[st == 1]\n",
    "            p0 = corners[st == 1]\n",
    "\n",
    "            if p1.shape[0] > 0:\n",
    "                move = np.mean(p1-p0, axis=0)\n",
    "                moves.append(move)\n",
    "                rows.append([vidcap.get(cv2.CAP_PROP_POS_FRAMES), rows[-1][1]+move[0], rows[-1][2]+move[1]])\n",
    "            else:\n",
    "                no_good_found.append(vidcap.get(cv2.CAP_PROP_POS_FRAMES))\n",
    "                rows.append([vidcap.get(cv2.CAP_PROP_POS_FRAMES), rows[-1][1]+rows[-1][1]-rows[-2][1], rows[-1][2]+rows[-1][2]-rows[-2][2]])\n",
    "        else:\n",
    "            corners_not_found.append(vidcap.get(cv2.CAP_PROP_POS_FRAMES))\n",
    "            rows.append([vidcap.get(cv2.CAP_PROP_POS_FRAMES), rows[-1][1]+rows[-1][1]-rows[-2][1], rows[-1][2]+rows[-1][2]-rows[-2][2]])\n",
    "\n",
    "        old_gray = frame_gray\n",
    "\n",
    "        pbar.update(1)\n",
    "\n",
    "    total_time = pbar.last_print_t - pbar.start_t\n",
    "    pbar.close()\n",
    "    return rows, moves, total_time, corners_not_found, no_good_found"
   ],
   "id": "b0c7709783f754b2",
   "execution_count": null,
   "outputs": []
  },
  {
   "metadata": {
    "ExecuteTime": {
     "end_time": "2024-09-09T12:13:40.634658Z",
     "start_time": "2024-09-09T12:13:40.614821Z"
    }
   },
   "cell_type": "code",
   "source": [
    "def process_with_intervals(intervals_horiz, intervals_vert, scale):\n",
    "    corners_not_found = []\n",
    "    no_good_found = []\n",
    "    rows = []\n",
    "    moves = []\n",
    "    vidcap = cv2.VideoCapture(os.path.join(SRC, videos[VIDEO]))\n",
    "    width = int(vidcap.get(cv2.CAP_PROP_FRAME_WIDTH)/scale)\n",
    "    height = int(vidcap.get(cv2.CAP_PROP_FRAME_HEIGHT)/scale)\n",
    "    pbar = tqdm(total=vidcap.get(cv2.CAP_PROP_FRAME_COUNT), desc=f\"Extraction motion direction for scale {scale}\")\n",
    "    \n",
    "    _, old_frame = vidcap.read()\n",
    "    old_gray = cv2.cvtColor(cv2.resize(old_frame, (width, height)), cv2.COLOR_BGR2GRAY)\n",
    "    \n",
    "    rows.append([vidcap.get(cv2.CAP_PROP_POS_FRAMES), 0, 0])\n",
    "    \n",
    "    start_horiz, end_horiz = intervals_horiz.pop(0)\n",
    "    start_vert, end_vert = intervals_vert.pop(0)\n",
    "    moving_horiz = False\n",
    "    moving_vert = False\n",
    "    \n",
    "    while True:\n",
    "        if vidcap.get(cv2.CAP_PROP_POS_FRAMES) == start_horiz:\n",
    "            moving_horiz = True\n",
    "        elif vidcap.get(cv2.CAP_PROP_POS_FRAMES) == end_horiz:\n",
    "            moving_horiz = False\n",
    "            if len(intervals_horiz)>0:\n",
    "                start_horiz, end_horiz = intervals_horiz.pop(0)\n",
    "            \n",
    "        if vidcap.get(cv2.CAP_PROP_POS_FRAMES) == start_vert:\n",
    "            moving_vert = True\n",
    "        elif vidcap.get(cv2.CAP_PROP_POS_FRAMES) == end_vert:\n",
    "            moving_vert = False\n",
    "            if len(intervals_vert)>0:\n",
    "                start_vert, end_vert = intervals_vert.pop(0)   \n",
    "            \n",
    "        ret, frame = vidcap.read()\n",
    "        if not ret:\n",
    "            break\n",
    "        corners = cv2.goodFeaturesToTrack(old_gray, **feature_params)\n",
    "        frame_gray = cv2.cvtColor(cv2.resize(frame, (width, height)), cv2.COLOR_BGR2GRAY)\n",
    "    \n",
    "        if corners is not None:\n",
    "            p1, st, err = cv2.calcOpticalFlowPyrLK(old_gray, frame_gray, corners, None, **lk_params)\n",
    "        \n",
    "            st = (st == 1) & (err < err_threshold)\n",
    "            p1 = p1[st == 1]\n",
    "            p0 = corners[st == 1]\n",
    "        \n",
    "            if p1.shape[0] > 0:\n",
    "                move = np.mean(p1-p0, axis=0)\n",
    "                moves.append(move)\n",
    "                if moving_horiz and LANDSCAPE == 0:\n",
    "                    rows.append([vidcap.get(cv2.CAP_PROP_POS_FRAMES), rows[-1][1], rows[-1][2]+move[1]])\n",
    "                elif moving_vert and LANDSCAPE == 0:\n",
    "                    rows.append([vidcap.get(cv2.CAP_PROP_POS_FRAMES), rows[-1][1]+move[0], rows[-1][2]])\n",
    "                elif moving_horiz and LANDSCAPE == 1:\n",
    "                    rows.append([vidcap.get(cv2.CAP_PROP_POS_FRAMES), rows[-1][1]+move[0], rows[-1][2]])\n",
    "                elif moving_vert and LANDSCAPE == 1:\n",
    "                    rows.append([vidcap.get(cv2.CAP_PROP_POS_FRAMES), rows[-1][1], rows[-1][2]+move[1]])\n",
    "                else:\n",
    "                    rows.append([vidcap.get(cv2.CAP_PROP_POS_FRAMES), rows[-1][1], rows[-1][2]])\n",
    "            else:\n",
    "                no_good_found.append(vidcap.get(cv2.CAP_PROP_POS_FRAMES))\n",
    "                rows.append([vidcap.get(cv2.CAP_PROP_POS_FRAMES), rows[-1][1]+rows[-1][1]-rows[-2][1], rows[-1][2]+rows[-1][2]-rows[-2][2]])\n",
    "        else:\n",
    "            corners_not_found.append(vidcap.get(cv2.CAP_PROP_POS_FRAMES))\n",
    "            rows.append([vidcap.get(cv2.CAP_PROP_POS_FRAMES), rows[-1][1]+rows[-1][1]-rows[-2][1], rows[-1][2]+rows[-1][2]-rows[-2][2]])\n",
    "        \n",
    "        old_gray = frame_gray\n",
    "    \n",
    "        pbar.update(1)\n",
    "        \n",
    "    total_time = pbar.last_print_t - pbar.start_t\n",
    "    pbar.close()\n",
    "    return rows, moves, total_time, corners_not_found, no_good_found"
   ],
   "id": "dbd62893597f83ea",
   "execution_count": 10,
   "outputs": []
  },
  {
   "metadata": {
    "ExecuteTime": {
     "end_time": "2024-07-25T12:21:58.394874Z",
     "start_time": "2024-07-25T12:21:58.387920Z"
    }
   },
   "cell_type": "code",
   "source": "# rows, _, total_time, corners_not_found, no_good_found = process_with_intervals(intervals_horizontal, intervals_vertical)",
   "id": "8600bbe7d77df686",
   "execution_count": 52,
   "outputs": []
  },
  {
   "metadata": {
    "ExecuteTime": {
     "end_time": "2024-07-25T12:21:58.405846Z",
     "start_time": "2024-07-25T12:21:58.395892Z"
    }
   },
   "cell_type": "code",
   "source": "# corners_not_found, no_good_found, total_time",
   "id": "a2f3780f0b9a5de9",
   "execution_count": 53,
   "outputs": []
  },
  {
   "metadata": {
    "ExecuteTime": {
     "end_time": "2024-07-25T12:21:58.416425Z",
     "start_time": "2024-07-25T12:21:58.406864Z"
    }
   },
   "cell_type": "code",
   "source": [
    "# fields = [\"frame_ID\", \"x_shift\", \"y_shift\"]\n",
    "# metadata = [\n",
    "#     VIDEO,\n",
    "#     SCALE,\n",
    "#     total_time,\n",
    "#     len(corners_not_found),\n",
    "#     len(no_good_found),\n",
    "#     LANDSCAPE\n",
    "# ]\n",
    "# metadata_file = os.path.join(SRC, videos[VIDEO]).replace(\".MP4\", \"-\" + str(SCALE) + \"-\" + str(feature_params[\"qualityLevel\"]) + \"-intervals.npy\")\n",
    "# np.save(metadata_file, metadata)\n",
    "# csv_file = os.path.join(SRC, videos[VIDEO]).replace(\".MP4\", \"-\" + str(SCALE) + \"-\" + str(feature_params[\"qualityLevel\"]) + \"-intervals.csv\")\n",
    "# with open(csv_file, 'w') as csvfile:\n",
    "#     csvwriter = csv.writer(csvfile)\n",
    "#     csvwriter.writerow(fields)\n",
    "#     csvwriter.writerows(rows)"
   ],
   "id": "2327902aa5ef8294",
   "execution_count": 54,
   "outputs": []
  },
  {
   "metadata": {
    "ExecuteTime": {
     "end_time": "2024-09-09T12:59:17.102605Z",
     "start_time": "2024-09-09T12:46:47.125381Z"
    }
   },
   "cell_type": "code",
   "source": [
    "for scale in scales:\n",
    "    intervals_horizontal = np.load(os.path.join(SRC, videos[VIDEO]).replace(\".MP4\", \"-intervals_horizontal.npy\")).tolist()\n",
    "    intervals_vertical = np.load(os.path.join(SRC, videos[VIDEO]).replace(\".MP4\", \"-intervals_vertical.npy\")).tolist()\n",
    "    rows, _, total_time, corners_not_found, no_good_found = process_with_intervals(intervals_horizontal, intervals_vertical, scale)\n",
    "    \n",
    "    fields = [\"frame_ID\", \"x_shift\", \"y_shift\"]\n",
    "    metadata = [\n",
    "        VIDEO,\n",
    "        scale,\n",
    "        total_time,\n",
    "        len(corners_not_found),\n",
    "        len(no_good_found),\n",
    "        LANDSCAPE,\n",
    "        feature_params[\"qualityLevel\"],\n",
    "        feature_params[\"minDistance\"],\n",
    "        feature_params[\"blockSize\"],\n",
    "        err_threshold\n",
    "    ]\n",
    "    metadata_file = os.path.join(SRC, videos[VIDEO]).replace(\".MP4\", \"-\" + str(scale) + \"-\" + str(feature_params[\"qualityLevel\"]) + \"-\" +  str(feature_params[\"minDistance\"]) + \"-\" +  str(feature_params[\"blockSize\"]) + \"-\" + str(err_threshold) + \"-\" + str(lk_params['winSize']) + \"-intervals-errfilter.npy\")\n",
    "    np.save(metadata_file, metadata)\n",
    "    csv_file = os.path.join(SRC, videos[VIDEO]).replace(\".MP4\", \"-\" + str(scale) + \"-\" + str(feature_params[\"qualityLevel\"]) + \"-\" +  str(feature_params[\"minDistance\"]) + \"-\" +  str(feature_params[\"blockSize\"]) + \"-\" + str(err_threshold) + \"-\" + str(lk_params['winSize']) + \"-intervals-errfilter.csv\")\n",
    "    with open(csv_file, 'w') as csvfile:\n",
    "        csvwriter = csv.writer(csvfile)\n",
    "        csvwriter.writerow(fields)\n",
    "        csvwriter.writerows(rows)"
   ],
   "id": "44eee26505b34249",
   "execution_count": 12,
   "outputs": []
  },
  {
   "metadata": {
    "ExecuteTime": {
     "end_time": "2024-07-25T12:57:04.094743Z",
     "start_time": "2024-07-25T12:57:04.089857Z"
    }
   },
   "cell_type": "code",
   "source": "",
   "id": "7109b229b8b925db",
   "execution_count": 55,
   "outputs": []
  }
 ],
 "metadata": {
  "kernelspec": {
   "display_name": "Python 3",
   "language": "python",
   "name": "python3"
  },
  "language_info": {
   "codemirror_mode": {
    "name": "ipython",
    "version": 2
   },
   "file_extension": ".py",
   "mimetype": "text/x-python",
   "name": "python",
   "nbconvert_exporter": "python",
   "pygments_lexer": "ipython2",
   "version": "2.7.6"
  }
 },
 "nbformat": 4,
 "nbformat_minor": 5
}
