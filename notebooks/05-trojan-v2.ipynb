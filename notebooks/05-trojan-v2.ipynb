{
 "cells": [
  {
   "metadata": {
    "ExecuteTime": {
     "end_time": "2024-10-19T13:49:48.377909Z",
     "start_time": "2024-10-19T13:49:48.367533Z"
    }
   },
   "cell_type": "code",
   "source": "import os",
   "id": "b57d94d47cd78b5",
   "outputs": [],
   "execution_count": 2
  },
  {
   "metadata": {
    "ExecuteTime": {
     "end_time": "2024-10-19T13:49:48.757055Z",
     "start_time": "2024-10-19T13:49:48.748602Z"
    }
   },
   "cell_type": "code",
   "source": "SRC = '/Users/fathe/OneDrive/Documents/UK/MFF/Thesis/input/Novy Manipulator'",
   "id": "d95f88ce62a00dc9",
   "outputs": [],
   "execution_count": 3
  },
  {
   "metadata": {
    "ExecuteTime": {
     "end_time": "2024-10-19T13:49:51.103452Z",
     "start_time": "2024-10-19T13:49:51.081264Z"
    }
   },
   "cell_type": "code",
   "source": "videos = [file for file in os.listdir(SRC) if file.endswith(\"MP4\") and file.startswith(\"GX\")]",
   "id": "82318add034193c7",
   "outputs": [],
   "execution_count": 4
  },
  {
   "metadata": {
    "ExecuteTime": {
     "end_time": "2024-10-19T13:49:54.486511Z",
     "start_time": "2024-10-19T13:49:54.471158Z"
    }
   },
   "cell_type": "code",
   "source": "videos",
   "id": "3de5b7774e32be39",
   "outputs": [
    {
     "data": {
      "text/plain": [
       "['GX010006_cely zavit_std nastaveni.MP4',\n",
       " 'GX010007_cely zavit RGBW.MP4',\n",
       " 'GX010008_cely zavit RGaW.MP4',\n",
       " 'GX010009_cely zavit clona nahoru.MP4']"
      ]
     },
     "execution_count": 5,
     "metadata": {},
     "output_type": "execute_result"
    }
   ],
   "execution_count": 5
  },
  {
   "metadata": {},
   "cell_type": "code",
   "outputs": [],
   "execution_count": null,
   "source": [
    "for video in videos:\n",
    "    process_video(video)"
   ],
   "id": "862c5096c8635c0e"
  }
 ],
 "metadata": {
  "kernelspec": {
   "display_name": "Python 3",
   "language": "python",
   "name": "python3"
  },
  "language_info": {
   "codemirror_mode": {
    "name": "ipython",
    "version": 2
   },
   "file_extension": ".py",
   "mimetype": "text/x-python",
   "name": "python",
   "nbconvert_exporter": "python",
   "pygments_lexer": "ipython2",
   "version": "2.7.6"
  }
 },
 "nbformat": 4,
 "nbformat_minor": 5
}
