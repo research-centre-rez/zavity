{
 "cells": [
  {
   "cell_type": "code",
   "id": "1e90363e01dfe427",
   "metadata": {
    "collapsed": true,
    "ExecuteTime": {
     "end_time": "2024-10-14T14:07:49.446641Z",
     "start_time": "2024-10-14T14:07:49.432632Z"
    }
   },
   "source": [
    "import os\n",
    "import cv2\n",
    "from stl import mesh\n",
    "import numpy as np\n",
    "from matplotlib import pyplot as plt\n",
    "from tqdm.auto import tqdm"
   ],
   "outputs": [],
   "execution_count": 3
  },
  {
   "metadata": {
    "ExecuteTime": {
     "end_time": "2024-10-14T14:07:49.890114Z",
     "start_time": "2024-10-14T14:07:49.862109Z"
    }
   },
   "cell_type": "code",
   "source": [
    "SRC = '/Users/fathe/OneDrive/Documents/UK/MFF/Thesis/input'\n",
    "folders = [file for file in os.listdir(SRC) if file.startswith(\"GX0\") and os.path.isdir(os.path.join(SRC, file))]"
   ],
   "id": "78c65c0417f2e16c",
   "outputs": [],
   "execution_count": 4
  },
  {
   "metadata": {
    "ExecuteTime": {
     "end_time": "2024-10-14T13:43:15.134399Z",
     "start_time": "2024-10-14T13:43:15.121426Z"
    }
   },
   "cell_type": "code",
   "source": "folders",
   "id": "ee2f85e4ba205a67",
   "outputs": [
    {
     "data": {
      "text/plain": [
       "['GX010988', 'GX010996', 'GX010998']"
      ]
     },
     "execution_count": 3,
     "metadata": {},
     "output_type": "execute_result"
    }
   ],
   "execution_count": 3
  },
  {
   "metadata": {
    "ExecuteTime": {
     "end_time": "2024-10-14T13:43:15.150402Z",
     "start_time": "2024-10-14T13:43:15.136399Z"
    }
   },
   "cell_type": "code",
   "source": [
    "scan_paths = []\n",
    "oio_paths = []\n",
    "for folder in folders:\n",
    "    scan_paths.append(\n",
    "        os.path.join(folder, [file for file in os.listdir(os.path.join(SRC, folder)) if file.endswith(\"unrolled_final.stl\")][0]))\n",
    "    oio_paths.append(folder + '-oio.png')"
   ],
   "id": "eda50ef42157cf6f",
   "outputs": [],
   "execution_count": 4
  },
  {
   "metadata": {
    "ExecuteTime": {
     "end_time": "2024-10-14T13:43:15.513667Z",
     "start_time": "2024-10-14T13:43:15.501671Z"
    }
   },
   "cell_type": "code",
   "source": "scan_paths, oio_paths",
   "id": "926953f5096eaf24",
   "outputs": [
    {
     "data": {
      "text/plain": [
       "(['GX010988\\\\Hnízdo_719_unrolled_final.stl',\n",
       "  'GX010996\\\\Hnízdo_732_unrolled_final.stl',\n",
       "  'GX010998\\\\Hnizdo_718_unrolled_final.stl'],\n",
       " ['GX010988-oio.png', 'GX010996-oio.png', 'GX010998-oio.png'])"
      ]
     },
     "execution_count": 5,
     "metadata": {},
     "output_type": "execute_result"
    }
   ],
   "execution_count": 5
  },
  {
   "metadata": {
    "ExecuteTime": {
     "end_time": "2024-10-04T10:22:21.281971Z",
     "start_time": "2024-10-04T10:22:18.238490Z"
    }
   },
   "cell_type": "code",
   "source": [
    "oios = []\n",
    "for path in oio_paths:\n",
    "    oios.append(cv2.imread(os.path.join(SRC, path), cv2.IMREAD_UNCHANGED))"
   ],
   "id": "3a4de2ccf43255c0",
   "outputs": [],
   "execution_count": 55
  },
  {
   "metadata": {
    "ExecuteTime": {
     "end_time": "2024-10-04T10:22:21.298016Z",
     "start_time": "2024-10-04T10:22:21.284478Z"
    }
   },
   "cell_type": "code",
   "source": "oios[0].shape",
   "id": "447a52ac81ed3eef",
   "outputs": [
    {
     "data": {
      "text/plain": [
       "(8309, 19640)"
      ]
     },
     "execution_count": 56,
     "metadata": {},
     "output_type": "execute_result"
    }
   ],
   "execution_count": 56
  },
  {
   "metadata": {
    "ExecuteTime": {
     "end_time": "2024-10-04T10:22:26.359576Z",
     "start_time": "2024-10-04T10:22:21.950769Z"
    }
   },
   "cell_type": "code",
   "source": [
    "scans = []\n",
    "for scan_path in scan_paths:\n",
    "    scans.append(mesh.Mesh.from_file(os.path.join(SRC, scan_path)))"
   ],
   "id": "c75c7f9b69fb0db1",
   "outputs": [],
   "execution_count": 57
  },
  {
   "metadata": {
    "ExecuteTime": {
     "end_time": "2024-10-04T10:25:22.516969Z",
     "start_time": "2024-10-04T10:25:22.496890Z"
    }
   },
   "cell_type": "code",
   "source": [
    "def findBoundaries(mesh):\n",
    "    # Initialize min and max values\n",
    "    min_x = float('inf')\n",
    "    max_x = float('-inf')\n",
    "    min_z = float('inf')\n",
    "    max_z = float('-inf')\n",
    "    \n",
    "    # Iterate through each vertex in the mesh\n",
    "    for triangle in tqdm(mesh.vectors, total=len(mesh.vectors), desc='Finding boundaries'):\n",
    "        for vertex in triangle:\n",
    "            # Check for min and max x\n",
    "            if vertex[0] < min_x:\n",
    "                min_x = vertex[0]\n",
    "            if vertex[0] > max_x:\n",
    "                max_x = vertex[0]\n",
    "            \n",
    "            # Check for min and max z\n",
    "            if vertex[2] < min_z:\n",
    "                min_z = vertex[2]\n",
    "            if vertex[2] > max_z:\n",
    "                max_z = vertex[2]\n",
    "    \n",
    "    return min_x, max_x, min_z, max_z"
   ],
   "id": "12b3c8e177213e4b",
   "outputs": [],
   "execution_count": 63
  },
  {
   "metadata": {
    "ExecuteTime": {
     "end_time": "2024-10-04T10:54:10.445533Z",
     "start_time": "2024-10-04T10:48:12.509261Z"
    }
   },
   "cell_type": "code",
   "source": [
    "for scan, oio, scan_path, folder in zip(scans, oios, scan_paths, folders):\n",
    "    print(f'Starting pre-calculations for {scan_path}')\n",
    "    \n",
    "    height, width = oio.shape\n",
    "    \n",
    "    factor = 0.1\n",
    "    height, width = int(height*factor), int(width*factor)\n",
    "    \n",
    "    print(f'Desired dimensions of depth map: {height, width}')\n",
    "\n",
    "    depth_map = np.zeros((height, width), dtype=np.float32)\n",
    "    \n",
    "    min_x, max_x, min_z, max_z = findBoundaries(scan)\n",
    "    \n",
    "    print(f'Boundaries of scan mesh: {min_x, max_x, min_z, max_z}')\n",
    "    \n",
    "    x_scale = width/(max_x - min_x)\n",
    "    z_scale = height/(max_z - min_z)\n",
    "    \n",
    "    print(f'Scaling between mesh and depth map: {x_scale, z_scale}')\n",
    "    \n",
    "    # Iterate over each triangle in the mesh\n",
    "    for triangle in tqdm(scan.vectors, total=len(scan.vectors), desc=f'Computing depth map for {scan_path}'):\n",
    "        # Project each triangle's vertices onto the image plane\n",
    "        projected_points = []\n",
    "        for vertex in triangle:\n",
    "            # Calculate 2D projection (perspective projection)\n",
    "            y = vertex[1]\n",
    "            x = (vertex[0]-min_x) * x_scale\n",
    "            z = (vertex[2]-min_z) * z_scale\n",
    "            if 0 <= int(x) < width and 0 <= int(z) < height:\n",
    "                projected_points.append((int(x), y, int(z)))\n",
    "    \n",
    "        # Fill the depth map\n",
    "        for (x, y, z) in projected_points:\n",
    "            depth_map[z, x] = max(depth_map[z, x], y)  # Store max depth (or average if desired)\n",
    "    \n",
    "    depth_map_norm = cv2.normalize(depth_map, None, 0, 255, cv2.NORM_MINMAX).astype(np.uint8)\n",
    "    \n",
    "    # Save or display the depth map\n",
    "    print(f'Saving resulting depth map to {os.path.join(SRC, folder + \"-depth_map_\" + str(factor) +\".png\")}')\n",
    "    cv2.imwrite(os.path.join(SRC, folder + '-depth_map_' + str(factor) +'.png'), depth_map_norm)\n",
    "    print()"
   ],
   "id": "a722259552fe56d1",
   "outputs": [
    {
     "name": "stdout",
     "output_type": "stream",
     "text": [
      "Starting pre-calculations for GX010988\\Hnízdo_719_unrolled_final.stl\n",
      "Desired dimensions of depth map: (830, 1964)\n"
     ]
    },
    {
     "data": {
      "text/plain": [
       "Finding boundaries:   0%|          | 0/15605175 [00:00<?, ?it/s]"
      ],
      "application/vnd.jupyter.widget-view+json": {
       "version_major": 2,
       "version_minor": 0,
       "model_id": "568dee06360f47feb1efaa7d5b78adaf"
      }
     },
     "metadata": {},
     "output_type": "display_data"
    },
    {
     "name": "stdout",
     "output_type": "stream",
     "text": [
      "Boundaries of scan mesh: (0.0, 202.01604, -0.21254304, 93.31924)\n",
      "Scaling between mesh and depth map: (9.722000437635671, 8.87398947925416)\n"
     ]
    },
    {
     "data": {
      "text/plain": [
       "Computing depth map for GX010988\\Hnízdo_719_unrolled_final.stl:   0%|          | 0/15605175 [00:00<?, ?it/s]"
      ],
      "application/vnd.jupyter.widget-view+json": {
       "version_major": 2,
       "version_minor": 0,
       "model_id": "07324cbb10ab40f581de39a75d54a8d4"
      }
     },
     "metadata": {},
     "output_type": "display_data"
    },
    {
     "name": "stdout",
     "output_type": "stream",
     "text": [
      "Saving resulting depth map to /Users/fathe/OneDrive/Documents/UK/MFF/Thesis/input\\GX010988-depth_map_0.1.png\n",
      "\n",
      "Starting pre-calculations for GX010996\\Hnízdo_732_unrolled_final.stl\n",
      "Desired dimensions of depth map: (827, 2009)\n"
     ]
    },
    {
     "data": {
      "text/plain": [
       "Finding boundaries:   0%|          | 0/2918856 [00:00<?, ?it/s]"
      ],
      "application/vnd.jupyter.widget-view+json": {
       "version_major": 2,
       "version_minor": 0,
       "model_id": "6c0a27b6c16142eca1fa67ba65949945"
      }
     },
     "metadata": {},
     "output_type": "display_data"
    },
    {
     "name": "stdout",
     "output_type": "stream",
     "text": [
      "Boundaries of scan mesh: (0.0, 201.83873, -0.45986113, 84.85916)\n",
      "Scaling between mesh and depth map: (9.953491093653978, 9.693031748820859)\n"
     ]
    },
    {
     "data": {
      "text/plain": [
       "Computing depth map for GX010996\\Hnízdo_732_unrolled_final.stl:   0%|          | 0/2918856 [00:00<?, ?it/s]"
      ],
      "application/vnd.jupyter.widget-view+json": {
       "version_major": 2,
       "version_minor": 0,
       "model_id": "02faeac3260e4b5fae0631325db77230"
      }
     },
     "metadata": {},
     "output_type": "display_data"
    },
    {
     "name": "stdout",
     "output_type": "stream",
     "text": [
      "Saving resulting depth map to /Users/fathe/OneDrive/Documents/UK/MFF/Thesis/input\\GX010996-depth_map_0.1.png\n",
      "\n",
      "Starting pre-calculations for GX010998\\Hnizdo_718_unrolled_final.stl\n",
      "Desired dimensions of depth map: (754, 2013)\n"
     ]
    },
    {
     "data": {
      "text/plain": [
       "Finding boundaries:   0%|          | 0/17814390 [00:00<?, ?it/s]"
      ],
      "application/vnd.jupyter.widget-view+json": {
       "version_major": 2,
       "version_minor": 0,
       "model_id": "a5732aedae37493db35984f4d4845c36"
      }
     },
     "metadata": {},
     "output_type": "display_data"
    },
    {
     "name": "stdout",
     "output_type": "stream",
     "text": [
      "Boundaries of scan mesh: (0.0, 201.56668, -0.24469005, 85.62478)\n",
      "Scaling between mesh and depth map: (9.98676959371452, 8.780769364384074)\n"
     ]
    },
    {
     "data": {
      "text/plain": [
       "Computing depth map for GX010998\\Hnizdo_718_unrolled_final.stl:   0%|          | 0/17814390 [00:00<?, ?it/s]"
      ],
      "application/vnd.jupyter.widget-view+json": {
       "version_major": 2,
       "version_minor": 0,
       "model_id": "4c97cb8932b24a6185a7c63abad6476b"
      }
     },
     "metadata": {},
     "output_type": "display_data"
    },
    {
     "name": "stdout",
     "output_type": "stream",
     "text": [
      "Saving resulting depth map to /Users/fathe/OneDrive/Documents/UK/MFF/Thesis/input\\GX010998-depth_map_0.1.png\n",
      "\n"
     ]
    }
   ],
   "execution_count": 70
  },
  {
   "metadata": {
    "ExecuteTime": {
     "end_time": "2024-10-14T14:16:34.007714Z",
     "start_time": "2024-10-14T14:16:33.990717Z"
    }
   },
   "cell_type": "code",
   "source": "path_dm = os.path.join(SRC, \"GX010988-depth_map_0.1.png\")",
   "id": "6edd388ef68bd912",
   "outputs": [],
   "execution_count": 13
  },
  {
   "metadata": {
    "ExecuteTime": {
     "end_time": "2024-10-14T14:16:34.623931Z",
     "start_time": "2024-10-14T14:16:34.604843Z"
    }
   },
   "cell_type": "code",
   "source": "depth_map = cv2.imread(path_dm, cv2.IMREAD_GRAYSCALE)",
   "id": "eb90e1741955c89f",
   "outputs": [],
   "execution_count": 14
  },
  {
   "metadata": {
    "ExecuteTime": {
     "end_time": "2024-10-14T14:17:58.100771Z",
     "start_time": "2024-10-14T14:17:56.804705Z"
    }
   },
   "cell_type": "code",
   "source": [
    "# Define crop indices (adjust these values based on your specific depth map)\n",
    "y_start = 85  # Starting row (inclusive)\n",
    "y_end = depth_map.shape[0]-100  # Ending row (exclusive)\n",
    "print(y_start, y_end)\n",
    "\n",
    "# Crop the depth map\n",
    "cropped_depth_map = depth_map[y_start:y_end, :]\n",
    "\n",
    "cv2.imshow('Inpainted Depth Map', cv2.resize(cropped_depth_map, fx=1, fy=1, dsize=(0,0)))\n",
    "cv2.waitKey(0)\n",
    "cv2.destroyAllWindows()"
   ],
   "id": "31d3044dd8cb3aba",
   "outputs": [
    {
     "name": "stdout",
     "output_type": "stream",
     "text": [
      "85 727\n"
     ]
    }
   ],
   "execution_count": 23
  },
  {
   "metadata": {
    "ExecuteTime": {
     "end_time": "2024-10-14T14:22:37.209478Z",
     "start_time": "2024-10-14T14:18:03.237183Z"
    }
   },
   "cell_type": "code",
   "source": [
    "# Create a binary mask for black pixels (missing data)\n",
    "# Ensure that you treat values of 0 in the depth map as missing\n",
    "mask = (cropped_depth_map == 0).astype(np.uint8)  # Set to 255 for missing pixels\n",
    "\n",
    "# Inpaint the depth map using the mask\n",
    "depth_map_inpainted = cv2.inpaint(cropped_depth_map, mask, inpaintRadius=3, flags=cv2.INPAINT_TELEA)\n",
    "\n",
    "# Display or save the inpainted depth map\n",
    "cv2.imwrite(path_dm.replace(\".png\", \"-inpainted.png\"), depth_map_inpainted)\n",
    "# cv2.imshow('Inpainted Depth Map', depth_map_inpainted)\n",
    "# cv2.waitKey(0)\n",
    "# cv2.destroyAllWindows()"
   ],
   "id": "d67f0fd3e3f99878",
   "outputs": [
    {
     "data": {
      "text/plain": [
       "True"
      ]
     },
     "execution_count": 24,
     "metadata": {},
     "output_type": "execute_result"
    }
   ],
   "execution_count": 24
  },
  {
   "metadata": {},
   "cell_type": "code",
   "outputs": [],
   "execution_count": null,
   "source": "",
   "id": "7213d97b239b5a49"
  }
 ],
 "metadata": {
  "kernelspec": {
   "display_name": "Python 3",
   "language": "python",
   "name": "python3"
  },
  "language_info": {
   "codemirror_mode": {
    "name": "ipython",
    "version": 2
   },
   "file_extension": ".py",
   "mimetype": "text/x-python",
   "name": "python",
   "nbconvert_exporter": "python",
   "pygments_lexer": "ipython2",
   "version": "2.7.6"
  }
 },
 "nbformat": 4,
 "nbformat_minor": 5
}
