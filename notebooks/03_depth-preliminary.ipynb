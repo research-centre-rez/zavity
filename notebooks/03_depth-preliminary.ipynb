{
 "cells": [
  {
   "cell_type": "code",
   "execution_count": 1,
   "id": "initial_id",
   "metadata": {
    "ExecuteTime": {
     "end_time": "2024-02-10T17:54:15.302490Z",
     "start_time": "2024-02-10T17:54:13.578682Z"
    },
    "collapsed": true,
    "jupyter": {
     "outputs_hidden": true
    }
   },
   "source": [
    "import os\n",
    "import subprocess\n",
    "import matplotlib.pyplot as plt\n",
    "import numpy as np\n",
    "import cv2\n",
    "from tqdm.auto import tqdm\n",
    "from scipy.optimize import minimize\n",
    "from scipy.interpolate import RegularGridInterpolator\n",
    "import imageio.v3 as iio"
   ],
   "outputs": []
  },
  {
   "cell_type": "code",
   "execution_count": 2,
   "id": "cd700345647ac29d",
   "metadata": {
    "ExecuteTime": {
     "end_time": "2024-02-10T17:54:23.182981Z",
     "start_time": "2024-02-10T17:54:23.156828Z"
    },
    "collapsed": false,
    "jupyter": {
     "outputs_hidden": false
    }
   },
   "source": [
    "SRC = '/Users/gimli/cvr/data/zavity/Cely_sken_3_110proc'"
   ],
   "outputs": []
  },
  {
   "cell_type": "code",
   "execution_count": 3,
   "id": "26a3537d528c47b4",
   "metadata": {
    "ExecuteTime": {
     "end_time": "2024-02-10T17:54:33.063519Z",
     "start_time": "2024-02-10T17:54:33.039346Z"
    },
    "collapsed": false,
    "jupyter": {
     "outputs_hidden": false
    }
   },
   "source": [
    "videos = [file for file in os.listdir(SRC) if file.endswith(\"MP4\")]"
   ],
   "outputs": []
  },
  {
   "cell_type": "code",
   "execution_count": 4,
   "id": "df3d1f9094e7ded5",
   "metadata": {
    "ExecuteTime": {
     "end_time": "2024-02-10T17:54:39.037109Z",
     "start_time": "2024-02-10T17:54:39.024770Z"
    },
    "collapsed": false,
    "jupyter": {
     "outputs_hidden": false
    }
   },
   "source": [
    "videos"
   ],
   "outputs": []
  },
  {
   "cell_type": "code",
   "execution_count": 5,
   "id": "80caf4a407162f3",
   "metadata": {
    "ExecuteTime": {
     "end_time": "2024-02-10T17:54:51.450393Z",
     "start_time": "2024-02-10T17:54:51.388517Z"
    },
    "collapsed": false,
    "jupyter": {
     "outputs_hidden": false
    }
   },
   "source": [
    "video_timing = []\n",
    "for video in videos:\n",
    "    # taken from palivo - list timing of the video\n",
    "    _cmd = [\"ffprobe\",\n",
    "        \"-i\", str(os.path.join(SRC, video)),\n",
    "        \"-show_frames\",\n",
    "        \"-show_entries\", \"frame=pkt_dts_time\",\n",
    "        \"-select_streams\", \"v:0\",\n",
    "        \"-print_format\", \"flat\"]\n",
    "    video_info_file_path = os.path.join(SRC, video.replace(\".MP4\", \"-video-info.txt\"))\n",
    "    if not os.path.isfile(video_info_file_path):    \n",
    "        with open(video_info_file_path, 'w') as f:\n",
    "            p1 = subprocess.call(_cmd, stdout=f)\n",
    "    with open(video_info_file_path, \"rt\") as f:\n",
    "        video_timing.append(f.readlines())"
   ],
   "outputs": []
  },
  {
   "cell_type": "code",
   "execution_count": 6,
   "id": "a430e51ced2a44c",
   "metadata": {
    "ExecuteTime": {
     "end_time": "2024-02-10T17:55:07.428016Z",
     "start_time": "2024-02-10T17:55:07.383263Z"
    },
    "collapsed": false,
    "jupyter": {
     "outputs_hidden": false
    }
   },
   "source": [
    "vidcap = cv2.VideoCapture(os.path.join(SRC, videos[0]))"
   ],
   "outputs": []
  },
  {
   "cell_type": "code",
   "execution_count": 46,
   "id": "3abc76d3302fad13",
   "metadata": {
    "ExecuteTime": {
     "end_time": "2024-02-10T22:41:18.135063Z",
     "start_time": "2024-02-10T22:41:18.131168Z"
    },
    "collapsed": false,
    "jupyter": {
     "outputs_hidden": false
    }
   },
   "source": [
    "# measurements from 01_oio-draft.ipynb\n",
    "measures = {\n",
    "    \"light_on\": np.array([   68,  2625,  4875,  7458,  9958, 12418, 14806]),\n",
    "    \"light_off\": np.array([    7,  2207,  4767,  7019,  9597, 12100, 14559, 16943, 17462]),\n",
    "    \"shift_per_frame\": 13.95,\n",
    "    \"pixels_per_360\": 27141.75, \n",
    "    \"pixels_per_s\": 334.46820753812216,\n",
    "    \"s_per_360\": 81.14896838709679, \n",
    "    \"frames_per_360\": 1946,\n",
    "    \"rows\": [(68, 2207),\n",
    "             (2625, 4767),\n",
    "             (4875, 7019),\n",
    "             (7458, 9597),\n",
    "             (9958, 12100),\n",
    "             (12418, 14559),\n",
    "             (14806, 16943)],\n",
    "    \"frame_size\": (2160, 3840),\n",
    "    \"left_right_shift\": 100\n",
    "}"
   ],
   "outputs": []
  },
  {
   "cell_type": "code",
   "execution_count": 92,
   "id": "6c1f67e305da558a",
   "metadata": {
    "ExecuteTime": {
     "end_time": "2024-02-12T09:37:22.253006Z",
     "start_time": "2024-02-12T09:25:26.939116Z"
    },
    "collapsed": false,
    "jupyter": {
     "outputs_hidden": false
    }
   },
   "source": [
    "mio_height = measures[\"frame_size\"][0] # frame height\n",
    "mio_width = np.floor(measures[\"frames_per_360\"] * measures[\"shift_per_frame\"]).astype(int) # 13.95 from each frame\n",
    "mio_depth = int(measures[\"frame_size\"][1] // measures[\"shift_per_frame\"])\n",
    "\n",
    "row_mio = np.zeros((mio_height, mio_width, mio_depth), dtype=np.float16) # depth\n",
    "\n",
    "# in the row area select frames in the middle of the interval\n",
    "mn, mx = measures[\"rows\"][0]\n",
    "start = mn + (mx - mn) // 2 - measures[\"frames_per_360\"] // 2 \n",
    "end = start + measures[\"frames_per_360\"]    \n",
    "vidcap.set(cv2.CAP_PROP_POS_FRAMES, start)\n",
    "\n",
    "for frameNo in tqdm(range(0, end - start), total=end - start, desc=\"processing frames\"):\n",
    "    success, frame = vidcap.read()\n",
    "    frame = cv2.cvtColor(frame, cv2.COLOR_BGR2GRAY).astype(np.float16)\n",
    "    frame = np.fliplr(frame)\n",
    "    frame = np.abs(np.diff(frame.astype(np.float16), axis=0, append=frame[:1, :])) + np.abs(np.diff(frame.astype(np.float16), axis=1, append=frame[:, :1]))\n",
    "    for d in range(0, int(frame.shape[1] / measures[\"shift_per_frame\"])): # solve each level separately\n",
    "        h_shift = np.round(d / int(frame.shape[1] / measures[\"shift_per_frame\"]) * measures[\"left_right_shift\"]).astype(int)\n",
    "        \n",
    "        partial_first = 1 - (((frameNo + d) * measures[\"shift_per_frame\"]) % 1)\n",
    "        partial_last = ((frameNo + d + 1) * measures[\"shift_per_frame\"]) % 1\n",
    "                    \n",
    "        w_start = (measures[\"shift_per_frame\"] * (d + frameNo)) % mio_width\n",
    "        w_end = (measures[\"shift_per_frame\"] * (d + frameNo + 1)) % mio_width\n",
    "        \n",
    "        # first pixel (partial)                          \n",
    "        if np.floor(w_start) != w_start:\n",
    "            if h_shift:\n",
    "                row_mio[h_shift:, np.floor(w_start).astype(int), d] += (frame[:-h_shift, np.floor(measures[\"shift_per_frame\"] * d).astype(int)] * partial_first).astype(np.float16)\n",
    "            else:\n",
    "                row_mio[:, np.floor(w_start).astype(int), d] += (frame[:, np.floor(measures[\"shift_per_frame\"] * d).astype(int)] * partial_first).astype(np.float16)\n",
    "            \n",
    "        # whole pixels\n",
    "        if np.ceil(w_start) < np.floor(w_end): # easy case\n",
    "            if h_shift:\n",
    "                row_mio[h_shift:,\n",
    "                    np.ceil(w_start).astype(int): np.floor(w_end).astype(int), \n",
    "                    d] += frame[:-h_shift, np.ceil(measures[\"shift_per_frame\"] * d).astype(int): np.floor(measures[\"shift_per_frame\"] * (d + 1)).astype(int)]\n",
    "            else:\n",
    "                row_mio[:,\n",
    "                    np.ceil(w_start).astype(int): np.floor(w_end).astype(int), \n",
    "                    d] += frame[:, np.ceil(measures[\"shift_per_frame\"] * d).astype(int): np.floor(measures[\"shift_per_frame\"] * (d + 1)).astype(int)]\n",
    "        else: # mio_width overflow  \n",
    "            slice_width = mio_width - np.ceil(w_start).astype(int)\n",
    "            if h_shift:\n",
    "                row_mio[h_shift:,\n",
    "                    np.ceil(w_start).astype(int): mio_width, \n",
    "                    d] += frame[:-h_shift, np.ceil(measures[\"shift_per_frame\"] * d).astype(int): np.ceil(measures[\"shift_per_frame\"] * d).astype(int) + slice_width]            \n",
    "                row_mio[h_shift:,\n",
    "                    0: np.floor(w_end).astype(int), \n",
    "                    d] += frame[:-h_shift, np.ceil(measures[\"shift_per_frame\"] * d).astype(int) + slice_width: np.floor(measures[\"shift_per_frame\"] * (d + 1)).astype(int)]\n",
    "            else:\n",
    "                row_mio[:,\n",
    "                    np.ceil(w_start).astype(int): mio_width, \n",
    "                    d] += frame[:, np.ceil(measures[\"shift_per_frame\"] * d).astype(int): np.ceil(measures[\"shift_per_frame\"] * d).astype(int) + slice_width]            \n",
    "                row_mio[:,\n",
    "                    0: np.floor(w_end).astype(int), \n",
    "                    d] += frame[:, np.ceil(measures[\"shift_per_frame\"] * d).astype(int) + slice_width: np.floor(measures[\"shift_per_frame\"] * (d + 1)).astype(int)]\n",
    "            \n",
    "        # last pixel (partial)\n",
    "        if np.floor(w_end) != w_end:\n",
    "            if h_shift:\n",
    "                row_mio[h_shift:, np.floor(w_end).astype(int), d] += (frame[:-h_shift, np.floor(measures[\"shift_per_frame\"] * (d + 1)).astype(int)] * partial_last).astype(np.float16)\n",
    "            else:\n",
    "                row_mio[:, np.floor(w_end).astype(int), d] += (frame[:, np.floor(measures[\"shift_per_frame\"] * (d + 1)).astype(int)] * partial_last).astype(np.float16)\n",
    "        "
   ],
   "outputs": []
  },
  {
   "cell_type": "code",
   "execution_count": 97,
   "id": "71d9a630a79a141e",
   "metadata": {
    "ExecuteTime": {
     "end_time": "2024-02-12T09:39:31.079286Z",
     "start_time": "2024-02-12T09:39:29.933926Z"
    },
    "collapsed": false,
    "jupyter": {
     "outputs_hidden": false
    }
   },
   "source": [
    "plt.figure(figsize=(15,10))\n",
    "ax = plt.subplot(121)\n",
    "ax.imshow(row_mio[:,:2000, 100].astype(np.float16), cmap=\"gray\")\n",
    "ax.axhline(1000, color=\"red\", alpha=.5)\n",
    "ax.axvline(1625, color=\"red\", alpha=.5)\n",
    "ax = plt.subplot(122)\n",
    "ax.imshow(row_mio[:,:2000, -1].astype(np.float16), cmap=\"gray\")\n",
    "plt.show()"
   ],
   "outputs": []
  },
  {
   "cell_type": "code",
   "execution_count": 30,
   "id": "ddcdf62d3963bf9d",
   "metadata": {
    "ExecuteTime": {
     "end_time": "2024-02-10T21:47:22.036477Z",
     "start_time": "2024-02-10T21:45:08.298643Z"
    },
    "collapsed": false,
    "jupyter": {
     "outputs_hidden": false
    }
   },
   "source": [
    "for d in tqdm(np.arange(row_mio.shape[2])):\n",
    "    iio.imwrite(f\"/Users/gimli/temp/zavit-mio/{d:03d}.png\", row_mio[:,:, d])"
   ],
   "outputs": []
  },
  {
   "cell_type": "code",
   "execution_count": 98,
   "id": "da7406614de2592",
   "metadata": {
    "ExecuteTime": {
     "end_time": "2024-02-12T09:39:47.436828Z",
     "start_time": "2024-02-12T09:39:47.366301Z"
    },
    "collapsed": false,
    "jupyter": {
     "outputs_hidden": false
    }
   },
   "source": [
    "plt.plot(row_mio[1350, 250, :])\n",
    "plt.plot(row_mio[1000, 1625, :])\n",
    "plt.show()"
   ],
   "outputs": []
  },
  {
   "cell_type": "code",
   "execution_count": 74,
   "id": "158fdbefa174c163",
   "metadata": {
    "ExecuteTime": {
     "end_time": "2024-02-12T08:14:54.627986Z",
     "start_time": "2024-02-12T08:14:54.521321Z"
    },
    "collapsed": false,
    "jupyter": {
     "outputs_hidden": false
    }
   },
   "source": [
    "plt.figure(figsize=(15,3))\n",
    "plt.imshow(row_mio[:, 1000, :].T, cmap=\"gray\")\n",
    "plt.show()"
   ],
   "outputs": []
  },
  {
   "cell_type": "code",
   "execution_count": 66,
   "id": "3ece08c768dade78",
   "metadata": {
    "ExecuteTime": {
     "end_time": "2024-02-12T08:09:18.885336Z",
     "start_time": "2024-02-12T08:09:18.853549Z"
    },
    "collapsed": false,
    "jupyter": {
     "outputs_hidden": false
    }
   },
   "source": [
    "row_mio.shape"
   ],
   "outputs": []
  },
  {
   "cell_type": "code",
   "execution_count": 106,
   "id": "cc7df6ac8bf7bf11",
   "metadata": {
    "ExecuteTime": {
     "end_time": "2024-02-12T09:53:21.577048Z",
     "start_time": "2024-02-12T09:53:15.256939Z"
    },
    "collapsed": false,
    "jupyter": {
     "outputs_hidden": false
    }
   },
   "source": [
    "depth_map = (np.abs(275/2 - np.nanargmax(row_mio[:,:2000], axis=2)) / 275 * 2 * 255).astype(np.uint8)"
   ],
   "outputs": []
  },
  {
   "cell_type": "code",
   "execution_count": 107,
   "id": "3f3e857516de7da2",
   "metadata": {
    "ExecuteTime": {
     "end_time": "2024-02-12T09:53:23.039840Z",
     "start_time": "2024-02-12T09:53:22.559768Z"
    },
    "collapsed": false,
    "jupyter": {
     "outputs_hidden": false
    }
   },
   "source": [
    "iio.imwrite(\"/Users/gimli/Desktop/depth-map.png\", depth_map)"
   ],
   "outputs": []
  },
  {
   "cell_type": "code",
   "execution_count": 108,
   "id": "c98c3a91e806902a",
   "metadata": {
    "ExecuteTime": {
     "end_time": "2024-02-12T09:53:24.729252Z",
     "start_time": "2024-02-12T09:53:24.003773Z"
    },
    "collapsed": false,
    "jupyter": {
     "outputs_hidden": false
    }
   },
   "source": [
    "plt.figure(figsize=(15,15))\n",
    "ax = plt.subplot(111)\n",
    "ax.imshow(depth_map, cmap=\"gray\")\n",
    "plt.show()"
   ],
   "outputs": []
  },
  {
   "cell_type": "code",
   "execution_count": 111,
   "id": "b4dc1f5be7085847",
   "metadata": {
    "ExecuteTime": {
     "end_time": "2024-02-12T10:08:51.834133Z",
     "start_time": "2024-02-12T10:08:51.612588Z"
    },
    "collapsed": false,
    "jupyter": {
     "outputs_hidden": false
    }
   },
   "source": [
    "from scipy.ndimage import gaussian_filter1d"
   ],
   "outputs": []
  },
  {
   "cell_type": "code",
   "execution_count": 113,
   "id": "8450b01acb085bb8",
   "metadata": {
    "ExecuteTime": {
     "end_time": "2024-02-12T10:09:33.981821Z",
     "start_time": "2024-02-12T10:09:03.500787Z"
    },
    "collapsed": false,
    "jupyter": {
     "outputs_hidden": false
    }
   },
   "source": [
    "blurred = gaussian_filter1d(row_mio[:,:2000].astype(float), sigma=10, axis=2)"
   ],
   "outputs": []
  },
  {
   "cell_type": "code",
   "execution_count": 182,
   "id": "edbbc886f60f2691",
   "metadata": {
    "ExecuteTime": {
     "end_time": "2024-02-12T10:48:39.956058Z",
     "start_time": "2024-02-12T10:48:39.709977Z"
    },
    "collapsed": false,
    "jupyter": {
     "outputs_hidden": false
    }
   },
   "source": [
    "(227 + np.argmax(blurred[1000,1625,:])) / 2"
   ],
   "outputs": []
  },
  {
   "cell_type": "code",
   "execution_count": 181,
   "id": "7a9d04b7113bb5fa",
   "metadata": {
    "ExecuteTime": {
     "end_time": "2024-02-12T10:48:23.888085Z",
     "start_time": "2024-02-12T10:48:23.411137Z"
    },
    "collapsed": false,
    "jupyter": {
     "outputs_hidden": false
    }
   },
   "source": [
    "plt.figure(figsize=(15,10))\n",
    "ax = plt.subplot(131)\n",
    "ax.imshow(blurred[:, :, 100], cmap=\"gray\")\n",
    "ax = plt.subplot(132)\n",
    "ax.imshow(blurred[:,:, -1], cmap=\"gray\")\n",
    "ax = plt.subplot(133)\n",
    "ax.plot(blurred[1000,1625,:])\n",
    "ax.plot(row_mio[1000,1625,:], alpha=0.2)\n",
    "ax.axvline(np.argmax(blurred[1000,1625,:]), color=\"red\")\n",
    "ax.axvline(227, color=\"red\")\n",
    "plt.show()"
   ],
   "outputs": []
  },
  {
   "cell_type": "code",
   "execution_count": 183,
   "id": "78b866f62afa4648",
   "metadata": {
    "ExecuteTime": {
     "end_time": "2024-02-12T10:49:05.381107Z",
     "start_time": "2024-02-12T10:48:55.233460Z"
    },
    "collapsed": false,
    "jupyter": {
     "outputs_hidden": false
    }
   },
   "source": [
    "depth_map = np.abs(157.5 - np.nanargmax(blurred, axis=2))"
   ],
   "outputs": []
  },
  {
   "cell_type": "code",
   "execution_count": 184,
   "id": "850354c228f600c1",
   "metadata": {
    "ExecuteTime": {
     "end_time": "2024-02-12T10:49:05.431828Z",
     "start_time": "2024-02-12T10:49:05.382761Z"
    },
    "collapsed": false,
    "jupyter": {
     "outputs_hidden": false
    }
   },
   "source": [
    "rot_matrix=cv2.getRotationMatrix2D((depth_map.shape[0] / 2, depth_map.shape[1] / 2), 1.2, 1)\n",
    "rotated = cv2.warpAffine(depth_map, rot_matrix, (depth_map.shape[1], depth_map.shape[0]))\n",
    "shape = gaussian_filter1d(np.mean(rotated, axis=1), sigma=85)\n",
    "relative_depth = np.array([rotated[row] - shape[row] for row in np.arange(rotated.shape[0])])"
   ],
   "outputs": []
  },
  {
   "cell_type": "code",
   "execution_count": 192,
   "id": "1bb99515e85a0263",
   "metadata": {
    "ExecuteTime": {
     "end_time": "2024-02-12T10:51:06.944060Z",
     "start_time": "2024-02-12T10:51:06.848879Z"
    },
    "collapsed": false,
    "jupyter": {
     "outputs_hidden": false
    }
   },
   "source": [
    "%matplotlib inline\n",
    "plt.figure()\n",
    "plt.plot(shape)\n",
    "plt.show()"
   ],
   "outputs": []
  },
  {
   "cell_type": "code",
   "execution_count": 188,
   "id": "b9cf2370fbbcc2d8",
   "metadata": {
    "ExecuteTime": {
     "end_time": "2024-02-12T10:49:25.728554Z",
     "start_time": "2024-02-12T10:49:25.471048Z"
    },
    "collapsed": false,
    "jupyter": {
     "outputs_hidden": false
    }
   },
   "source": [
    "%matplotlib inline\n",
    "plt.figure(figsize=(15,5))\n",
    "for i in np.arange(0, rotated.shape[0], 500):\n",
    "    plt.plot(gaussian_filter1d(rotated[i] - shape[i], sigma=11), label=f\"{i}\")\n",
    "plt.legend()\n",
    "plt.show()"
   ],
   "outputs": []
  },
  {
   "cell_type": "code",
   "execution_count": 189,
   "id": "a18586a00f2d63e5",
   "metadata": {
    "ExecuteTime": {
     "end_time": "2024-02-12T10:49:42.105173Z",
     "start_time": "2024-02-12T10:49:41.752638Z"
    },
    "collapsed": false,
    "jupyter": {
     "outputs_hidden": false
    }
   },
   "source": [
    "plt.figure(figsize=(15,10))\n",
    "plt.imshow(relative_depth, cmap=\"gray\")\n",
    "plt.show()"
   ],
   "outputs": []
  },
  {
   "cell_type": "code",
   "execution_count": 148,
   "id": "320eaef8b230c855",
   "metadata": {
    "ExecuteTime": {
     "end_time": "2024-02-12T10:25:14.923001Z",
     "start_time": "2024-02-12T10:25:14.636156Z"
    },
    "collapsed": false,
    "jupyter": {
     "outputs_hidden": false
    }
   },
   "source": [
    "from mpl_toolkits import mplot3d"
   ],
   "outputs": []
  },
  {
   "cell_type": "code",
   "execution_count": 190,
   "id": "80185554a0f9f292",
   "metadata": {
    "ExecuteTime": {
     "end_time": "2024-02-12T10:49:52.298592Z",
     "start_time": "2024-02-12T10:49:52.106845Z"
    },
    "collapsed": false,
    "jupyter": {
     "outputs_hidden": false
    }
   },
   "source": [
    "%matplotlib notebook\n",
    "fig = plt.figure(figsize =(14, 9))\n",
    "ax = plt.axes(projection ='3d')\n",
    "\n",
    "x, y = np.meshgrid(np.arange(relative_depth.shape[1]), np.arange(relative_depth.shape[0]))\n",
    "# Creating plot\n",
    "ax.plot_surface(x, y, relative_depth)\n",
    " \n",
    "# show plot\n",
    "plt.show()"
   ],
   "outputs": []
  },
  {
   "cell_type": "code",
   "execution_count": null,
   "id": "908919b00fd2f231",
   "metadata": {
    "collapsed": false,
    "jupyter": {
     "outputs_hidden": false
    }
   },
   "source": [],
   "outputs": []
  }
 ],
 "metadata": {
  "kernelspec": {
   "display_name": "Python 3 (ipykernel)",
   "language": "python",
   "name": "python3"
  },
  "language_info": {
   "codemirror_mode": {
    "name": "ipython",
    "version": 3
   },
   "file_extension": ".py",
   "mimetype": "text/x-python",
   "name": "python",
   "nbconvert_exporter": "python",
   "pygments_lexer": "ipython3",
   "version": "3.9.10"
  }
 },
 "nbformat": 4,
 "nbformat_minor": 5
}
