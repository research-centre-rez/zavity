{
 "cells": [
  {
   "cell_type": "code",
   "execution_count": 1,
   "id": "03590e7d-62c3-44cf-8801-7ec37e0dbb92",
   "metadata": {
    "ExecuteTime": {
     "end_time": "2024-02-10T18:23:43.529287Z",
     "start_time": "2024-02-10T18:23:42.500586Z"
    }
   },
   "source": [
    "import os\n",
    "import subprocess\n",
    "import matplotlib.pyplot as plt\n",
    "import numpy as np\n",
    "import cv2\n",
    "from tqdm.auto import tqdm\n",
    "from scipy.optimize import minimize\n",
    "from scipy.interpolate import RegularGridInterpolator\n",
    "import imageio.v3 as iio"
   ],
   "outputs": []
  },
  {
   "cell_type": "code",
   "execution_count": 2,
   "id": "c3f67374-b45c-4b71-97f3-8936995f4fbf",
   "metadata": {
    "ExecuteTime": {
     "end_time": "2024-02-10T18:23:44.336327Z",
     "start_time": "2024-02-10T18:23:44.289540Z"
    }
   },
   "source": [
    "SRC = '/Users/gimli/cvr/data/zavity/Cely_sken_3_110proc'"
   ],
   "outputs": []
  },
  {
   "cell_type": "code",
   "execution_count": 3,
   "id": "a65ed45c-42ba-427a-9112-ec7dbc430a0d",
   "metadata": {
    "ExecuteTime": {
     "end_time": "2024-02-10T18:23:45.432102Z",
     "start_time": "2024-02-10T18:23:45.390854Z"
    }
   },
   "source": [
    "videos = [file for file in os.listdir(SRC) if file.endswith(\"MP4\")]"
   ],
   "outputs": []
  },
  {
   "cell_type": "code",
   "execution_count": 4,
   "id": "b882d139-2af9-4495-bc62-42919771eb46",
   "metadata": {
    "ExecuteTime": {
     "end_time": "2024-02-10T18:23:46.328452Z",
     "start_time": "2024-02-10T18:23:46.271672Z"
    }
   },
   "source": [
    "videos"
   ],
   "outputs": []
  },
  {
   "cell_type": "code",
   "execution_count": 5,
   "id": "bb2407b1-0ae3-4961-8209-c44e19ab8288",
   "metadata": {
    "ExecuteTime": {
     "end_time": "2024-02-10T18:23:47.232563Z",
     "start_time": "2024-02-10T18:23:47.187386Z"
    }
   },
   "source": [
    "video_timing = []\n",
    "for video in videos:\n",
    "    # taken from palivo - list timing of the video\n",
    "    _cmd = [\"ffprobe\",\n",
    "        \"-i\", str(os.path.join(SRC, video)),\n",
    "        \"-show_frames\",\n",
    "        \"-show_entries\", \"frame=pkt_dts_time\",\n",
    "        \"-select_streams\", \"v:0\",\n",
    "        \"-print_format\", \"flat\"]\n",
    "    video_info_file_path = os.path.join(SRC, video.replace(\".MP4\", \"-video-info.txt\"))\n",
    "    if not os.path.isfile(video_info_file_path):    \n",
    "        with open(video_info_file_path, 'w') as f:\n",
    "            p1 = subprocess.call(_cmd, stdout=f)\n",
    "    with open(video_info_file_path, \"rt\") as f:\n",
    "        video_timing.append(f.readlines())"
   ],
   "outputs": []
  },
  {
   "cell_type": "code",
   "execution_count": 6,
   "id": "fb8b529a-023a-4a62-8fe5-c98772cfcd64",
   "metadata": {
    "ExecuteTime": {
     "end_time": "2024-02-10T18:23:48.120515Z",
     "start_time": "2024-02-10T18:23:48.090218Z"
    }
   },
   "source": [
    "timings = []\n",
    "for vt in video_timing:\n",
    "    timing = []\n",
    "    for frame in vt:\n",
    "        single_line = frame.rstrip(\"\\n\")\n",
    "        timestamp = float(single_line.split('\"')[1])\n",
    "        frameNo = int(single_line.split(\".\")[2])\n",
    "        timing.append((frameNo, timestamp))\n",
    "    timings.append(timing)"
   ],
   "outputs": []
  },
  {
   "cell_type": "code",
   "execution_count": 7,
   "id": "f277c420-390c-4259-af7d-9bd1fad4b2ae",
   "metadata": {
    "ExecuteTime": {
     "end_time": "2024-02-10T18:23:49.132230Z",
     "start_time": "2024-02-10T18:23:49.081905Z"
    }
   },
   "source": [
    "print(\"Standard deviation in frame timing:\", np.std([frameNo / timestamp for frameNo, timestamp in timing[1:]]))"
   ],
   "outputs": []
  },
  {
   "cell_type": "markdown",
   "id": "5af56613-5d67-4317-bd01-5e7c03e55ad2",
   "metadata": {},
   "source": [
    "timing seems constant"
   ]
  },
  {
   "cell_type": "markdown",
   "id": "b9095260-e177-4f2c-8571-a8cfecb7fcde",
   "metadata": {
    "jp-MarkdownHeadingCollapsed": true
   },
   "source": [
    "# Show some frames"
   ]
  },
  {
   "cell_type": "code",
   "execution_count": 8,
   "id": "15402b1e-df75-48c1-81bd-9eee49dc82f8",
   "metadata": {
    "ExecuteTime": {
     "end_time": "2024-02-10T18:23:52.270658Z",
     "start_time": "2024-02-10T18:23:52.254004Z"
    }
   },
   "source": [
    "vidcap = cv2.VideoCapture(os.path.join(SRC, videos[0]))"
   ],
   "outputs": []
  },
  {
   "cell_type": "code",
   "execution_count": 9,
   "id": "c76806f9-796b-4152-bb80-60dcf666884b",
   "metadata": {
    "ExecuteTime": {
     "end_time": "2024-02-10T18:23:53.399752Z",
     "start_time": "2024-02-10T18:23:53.349437Z"
    }
   },
   "source": [
    "len(timing) / 25, videos[0]"
   ],
   "outputs": []
  },
  {
   "cell_type": "code",
   "execution_count": 10,
   "id": "8157de1e-4b1f-4e8a-93c0-52325c2601d8",
   "metadata": {
    "ExecuteTime": {
     "end_time": "2024-02-10T18:23:59.751168Z",
     "start_time": "2024-02-10T18:23:54.149683Z"
    }
   },
   "source": [
    "begin_frame = 70\n",
    "step = 50\n",
    "plt.figure(figsize=(15,5))\n",
    "for i in range(1,6):\n",
    "    vidcap.set(cv2.CAP_PROP_POS_FRAMES, begin_frame + (i - 1) * step)\n",
    "    success, image = vidcap.read()\n",
    "    if success:\n",
    "        ax = plt.subplot(1,5,i)\n",
    "        ax.imshow(cv2.cvtColor(image, cv2.COLOR_BGR2RGB))\n",
    "        ax.set_title(f\"fNo: {begin_frame + (i-1) * step}\")        \n",
    "plt.show()"
   ],
   "outputs": []
  },
  {
   "cell_type": "markdown",
   "id": "947b9f08-eed4-44e6-8853-5850d02fe0ae",
   "metadata": {},
   "source": [
    "## Light level"
   ]
  },
  {
   "cell_type": "code",
   "execution_count": 11,
   "id": "31b32493-52fd-41ca-b2e3-ae8285e1de98",
   "metadata": {
    "ExecuteTime": {
     "end_time": "2024-02-10T18:29:12.227803Z",
     "start_time": "2024-02-10T18:23:59.632743Z"
    }
   },
   "source": [
    "frame_light = []\n",
    "for video in videos:\n",
    "    vidcap = cv2.VideoCapture(os.path.join(SRC, video))\n",
    "    success, image = vidcap.read()\n",
    "    while success:\n",
    "        frame_light.append(np.sum(image))\n",
    "        success, image = vidcap.read()    "
   ],
   "outputs": []
  },
  {
   "cell_type": "code",
   "execution_count": 12,
   "id": "91653487-c07a-4e9d-b945-2e51da520c83",
   "metadata": {
    "ExecuteTime": {
     "end_time": "2024-02-10T18:29:12.338683Z",
     "start_time": "2024-02-10T18:29:12.241603Z"
    }
   },
   "source": [
    "plt.figure(figsize=(15,5))\n",
    "plt.plot(frame_light)\n",
    "plt.ylabel(\"frame lightness\")\n",
    "plt.xlabel(\"frame number\")\n",
    "plt.show()"
   ],
   "outputs": []
  },
  {
   "cell_type": "code",
   "execution_count": 13,
   "id": "480cdda6-0917-45e4-b02a-eeecc8d388fa",
   "metadata": {
    "ExecuteTime": {
     "end_time": "2024-02-10T18:29:12.714829Z",
     "start_time": "2024-02-10T18:29:12.337538Z"
    }
   },
   "source": [
    "from scipy.signal import find_peaks"
   ],
   "outputs": []
  },
  {
   "cell_type": "code",
   "execution_count": 14,
   "id": "8e504acd-aaba-42d0-8e05-94d3932090eb",
   "metadata": {
    "ExecuteTime": {
     "end_time": "2024-02-10T18:29:12.715905Z",
     "start_time": "2024-02-10T18:29:12.711884Z"
    }
   },
   "source": [
    "frame_light = np.array(frame_light)"
   ],
   "outputs": []
  },
  {
   "cell_type": "code",
   "execution_count": 15,
   "id": "9983919f-2905-43ae-946d-d466b4754dd2",
   "metadata": {
    "ExecuteTime": {
     "end_time": "2024-02-10T18:29:12.719655Z",
     "start_time": "2024-02-10T18:29:12.714248Z"
    }
   },
   "source": [
    "light_on = find_peaks(frame_light, distance=100, height=2*(np.max(frame_light) - np.min(frame_light))/3 + np.min(frame_light))\n",
    "light_off = find_peaks(-frame_light, distance=500, height=2*(np.max(-frame_light) - np.min(-frame_light))/3 + np.min(-frame_light))"
   ],
   "outputs": []
  },
  {
   "cell_type": "code",
   "execution_count": 16,
   "id": "64c7ab0a-3339-490d-96e3-b86a04e2c5f6",
   "metadata": {
    "ExecuteTime": {
     "end_time": "2024-02-10T18:29:12.830404Z",
     "start_time": "2024-02-10T18:29:12.728539Z"
    }
   },
   "source": [
    "plt.figure(figsize=(15,5))\n",
    "plt.plot(frame_light, color=\"gray\")\n",
    "for ons in light_on[0]:\n",
    "    plt.axvline(ons, color=\"green\")\n",
    "for offs in light_off[0]:\n",
    "    plt.axvline(offs, color=\"red\")    \n",
    "plt.ylabel(\"frame lightness\")\n",
    "plt.xlabel(\"frame number\")\n",
    "plt.show()"
   ],
   "outputs": []
  },
  {
   "cell_type": "code",
   "execution_count": 17,
   "id": "f46a05e4-37ad-48bf-8d24-364bbc09aa64",
   "metadata": {
    "ExecuteTime": {
     "end_time": "2024-02-10T18:29:12.835780Z",
     "start_time": "2024-02-10T18:29:12.826644Z"
    }
   },
   "source": [
    "light_on[0]"
   ],
   "outputs": []
  },
  {
   "cell_type": "markdown",
   "id": "95447022-b75d-477a-a962-bd234c389ce4",
   "metadata": {},
   "source": [
    "## Estimate  speed in pixels"
   ]
  },
  {
   "cell_type": "code",
   "execution_count": 18,
   "id": "cc857a7d-64fb-4b0a-80de-9bc6a64b19e1",
   "metadata": {
    "ExecuteTime": {
     "end_time": "2024-02-10T18:29:12.958562Z",
     "start_time": "2024-02-10T18:29:12.833193Z"
    }
   },
   "source": [
    "vidcap = cv2.VideoCapture(os.path.join(SRC, videos[0]))"
   ],
   "outputs": []
  },
  {
   "cell_type": "code",
   "execution_count": 19,
   "id": "60b26f5e-7190-4e2f-8bcb-07c221c7195e",
   "metadata": {
    "ExecuteTime": {
     "end_time": "2024-02-10T18:29:12.977600Z",
     "start_time": "2024-02-10T18:29:12.850923Z"
    }
   },
   "source": [
    "frame = 80\n",
    "frame_shift = 120"
   ],
   "outputs": []
  },
  {
   "cell_type": "code",
   "execution_count": 20,
   "id": "bcd5e362-a3fa-4fde-a646-8b84287363a7",
   "metadata": {
    "ExecuteTime": {
     "end_time": "2024-02-10T18:29:14.629254Z",
     "start_time": "2024-02-10T18:29:12.867749Z"
    }
   },
   "source": [
    "vidcap.set(cv2.CAP_PROP_POS_FRAMES, frame)\n",
    "_, a = vidcap.read()\n",
    "_, a1 = vidcap.read()\n",
    "vidcap.set(cv2.CAP_PROP_POS_FRAMES, frame + frame_shift // 2)\n",
    "_, b = vidcap.read()\n",
    "vidcap.set(cv2.CAP_PROP_POS_FRAMES, frame + frame_shift)\n",
    "_, c = vidcap.read()"
   ],
   "outputs": []
  },
  {
   "cell_type": "code",
   "execution_count": 21,
   "id": "2d096005-cd8e-492a-bff9-ab7d240d342b",
   "metadata": {
    "ExecuteTime": {
     "end_time": "2024-02-10T18:29:14.899337Z",
     "start_time": "2024-02-10T18:29:14.636821Z"
    }
   },
   "source": [
    "crop_shift = 1600\n",
    "feature_shift = 74\n",
    "\n",
    "x = 1000\n",
    "y = 500\n",
    "f = 110\n",
    "\n",
    "plt.figure(figsize=(15,5))\n",
    "ax = plt.subplot(131)\n",
    "ax.imshow(a[:y, x:x+500,0].T, cmap=\"gray\")\n",
    "ax.axhline(f, color=\"red\")\n",
    "ax.set_title(f\"{frame} - [{x}, {x + 500}]\")\n",
    "ax = plt.subplot(132)\n",
    "ax.imshow(c[:y,x+crop_shift + feature_shift:x+crop_shift+500 + feature_shift,0].T, cmap=\"gray\")\n",
    "ax.axhline(f, color=\"red\")\n",
    "ax.set_title(f\"{frame + frame_shift} - [{x+crop_shift + feature_shift}, {x + crop_shift + 500 + feature_shift}]\")\n",
    "ax = plt.subplot(133)\n",
    "ax.imshow(b[:y,x+crop_shift // 2 + feature_shift // 2:x + crop_shift // 2 + 500 + feature_shift // 2,0].T, cmap=\"gray\")\n",
    "ax.axhline(f, color=\"red\")\n",
    "ax.set_title(f\"{frame + frame_shift // 2} - [{x+crop_shift // 2 + feature_shift // 2}, {x + crop_shift // 2 + 500 + feature_shift // 2}]\")\n",
    "plt.show()"
   ],
   "outputs": []
  },
  {
   "cell_type": "markdown",
   "id": "fe3ffa62-12ee-446b-85a8-59513f127d9e",
   "metadata": {},
   "source": [
    "Posun spočtu jako:\n",
    "- `frame_shift` počet framů posunu => 120\n",
    "- `crop_shift` posun výřezu => 1600\n",
    "- `feature_shift` počet pixelů posunu stejné featury => 74\n",
    "\n",
    "  ```∆ = (crop_shift + feature_shift) / frame_shift```"
   ]
  },
  {
   "cell_type": "code",
   "execution_count": 22,
   "id": "b67af88d-17f6-43dd-af42-b921d02fdfd8",
   "metadata": {
    "ExecuteTime": {
     "end_time": "2024-02-10T18:29:14.904256Z",
     "start_time": "2024-02-10T18:29:14.899204Z"
    }
   },
   "source": [
    "shift_per_frame = (crop_shift + feature_shift) / frame_shift"
   ],
   "outputs": []
  },
  {
   "cell_type": "code",
   "execution_count": 23,
   "id": "7f31cc8eee2a73c5",
   "metadata": {
    "ExecuteTime": {
     "end_time": "2024-02-10T18:29:14.909278Z",
     "start_time": "2024-02-10T18:29:14.900171Z"
    },
    "collapsed": false,
    "jupyter": {
     "outputs_hidden": false
    }
   },
   "source": [
    "shift_per_frame"
   ],
   "outputs": []
  },
  {
   "cell_type": "markdown",
   "id": "bdfe4ca2-19a6-4295-aa31-8c3c4647810c",
   "metadata": {},
   "source": [
    "## Angle speed"
   ]
  },
  {
   "cell_type": "code",
   "execution_count": 25,
   "id": "2f9fdf2f-2195-4b2d-9dd9-66d92481d74a",
   "metadata": {
    "ExecuteTime": {
     "end_time": "2024-02-10T18:31:43.792005Z",
     "start_time": "2024-02-10T18:31:43.784776Z"
    }
   },
   "source": [
    "light_off[0]"
   ],
   "outputs": []
  },
  {
   "cell_type": "code",
   "execution_count": 26,
   "id": "68777c7b-26c1-4e2e-bff3-0123adbfbebd",
   "metadata": {
    "ExecuteTime": {
     "end_time": "2024-02-10T18:31:45.562002Z",
     "start_time": "2024-02-10T18:31:44.223421Z"
    }
   },
   "source": [
    "frame = 135\n",
    "frame_shift = 1945\n",
    "\n",
    "vidcap.set(cv2.CAP_PROP_POS_FRAMES, frame)\n",
    "_, a = vidcap.read()\n",
    "vidcap.set(cv2.CAP_PROP_POS_FRAMES, frame + frame_shift)\n",
    "_, b = vidcap.read()"
   ],
   "outputs": []
  },
  {
   "cell_type": "code",
   "execution_count": 27,
   "id": "aab90c86-f39a-40be-93cc-d30f232fbc67",
   "metadata": {
    "ExecuteTime": {
     "end_time": "2024-02-10T18:31:45.874230Z",
     "start_time": "2024-02-10T18:31:45.574314Z"
    }
   },
   "source": [
    "feature_shift = 9\n",
    "\n",
    "x = 1800\n",
    "y = 500\n",
    "f = 300\n",
    "\n",
    "plt.figure(figsize=(15,5))\n",
    "ax = plt.subplot(121)\n",
    "ax.imshow(a[:500,x:x+400,0].T, cmap=\"gray\")\n",
    "ax.axhline(f, color=\"red\")\n",
    "ax = plt.subplot(122)\n",
    "ax.imshow(b[:500,x:x+400,0].T, cmap=\"gray\")\n",
    "ax.axhline(f+feature_shift, color=\"red\")\n",
    "plt.show()"
   ],
   "outputs": []
  },
  {
   "cell_type": "code",
   "execution_count": 28,
   "id": "9c007490-6de2-46c9-9206-17893f447ac9",
   "metadata": {
    "ExecuteTime": {
     "end_time": "2024-02-10T18:31:46.028227Z",
     "start_time": "2024-02-10T18:31:45.908997Z"
    }
   },
   "source": [
    "fps = 1/timings[0][1][1]"
   ],
   "outputs": []
  },
  {
   "cell_type": "code",
   "execution_count": 29,
   "id": "561c2ee8-1cb8-46a6-b9c1-822065eadfe2",
   "metadata": {
    "ExecuteTime": {
     "end_time": "2024-02-10T18:31:46.523054Z",
     "start_time": "2024-02-10T18:31:46.471686Z"
    }
   },
   "source": [
    "pixels_per_360 = frame_shift * shift_per_frame + feature_shift\n",
    "pixels_per_s = shift_per_frame * fps\n",
    "s_per_360 = pixels_per_360 / pixels_per_s\n",
    "frames_per_360 = np.ceil(pixels_per_360 / shift_per_frame).astype(int)"
   ],
   "outputs": []
  },
  {
   "cell_type": "code",
   "execution_count": 30,
   "id": "7d96953a-16fa-4b93-89e6-1e7747113eac",
   "metadata": {
    "ExecuteTime": {
     "end_time": "2024-02-10T18:31:47.134521Z",
     "start_time": "2024-02-10T18:31:47.059866Z"
    }
   },
   "source": [
    "pixels_per_360, pixels_per_s, s_per_360, frames_per_360"
   ],
   "outputs": []
  },
  {
   "cell_type": "markdown",
   "id": "c62edca5-fb9c-49e4-a3c9-cdad7861d97c",
   "metadata": {},
   "source": [
    "## Row Stitching"
   ]
  },
  {
   "cell_type": "code",
   "execution_count": 31,
   "id": "ed8d8aaf-53ef-464c-9341-528fcfa76934",
   "metadata": {
    "ExecuteTime": {
     "end_time": "2024-02-10T18:31:48.800744Z",
     "start_time": "2024-02-10T18:31:48.771569Z"
    }
   },
   "source": [
    "print(\"Light on at: \", light_on[0])\n",
    "print(\"Light off at: \", light_off[0])"
   ],
   "outputs": []
  },
  {
   "cell_type": "code",
   "execution_count": 32,
   "id": "2afefb54-a32e-4c85-8e2e-22c3dd6ac4f5",
   "metadata": {
    "ExecuteTime": {
     "end_time": "2024-02-10T18:31:49.718018Z",
     "start_time": "2024-02-10T18:31:49.668184Z"
    }
   },
   "source": [
    "rows = list(zip(light_on[0], light_off[0][1:]))"
   ],
   "outputs": []
  },
  {
   "cell_type": "code",
   "execution_count": 33,
   "id": "dbd4de27-8e19-4d61-a263-b1a57db0a39d",
   "metadata": {
    "ExecuteTime": {
     "end_time": "2024-02-10T18:31:50.344421Z",
     "start_time": "2024-02-10T18:31:50.269564Z"
    }
   },
   "source": [
    "rows"
   ],
   "outputs": []
  },
  {
   "cell_type": "code",
   "execution_count": 34,
   "id": "64302685-b46d-4540-898d-5c7044a31922",
   "metadata": {
    "ExecuteTime": {
     "end_time": "2024-02-10T18:31:51.711794Z",
     "start_time": "2024-02-10T18:31:50.893483Z"
    }
   },
   "source": [
    "plt.figure(figsize=(15,8))\n",
    "\n",
    "# ax = plt.subplot(121)\n",
    "# ax.imshow(a, cmap=\"gray\")\n",
    "M = np.float32([\n",
    "            [1, 0, (-shift_per_frame)],\n",
    "            [0, 1, 0]\n",
    "        ])\n",
    "ax = plt.subplot(111)\n",
    "ax.imshow((cv2.warpAffine(a1, M, (a1.shape[1], a1.shape[0])).astype(float) + a.astype(float))[:,:,0] // 2, cmap=\"gray\")\n",
    "\n",
    "plt.show()"
   ],
   "outputs": []
  },
  {
   "cell_type": "code",
   "execution_count": 35,
   "id": "592dbb0f-dae5-4ae5-a1f1-98a3459ceb76",
   "metadata": {
    "ExecuteTime": {
     "end_time": "2024-02-10T18:31:53.207352Z",
     "start_time": "2024-02-10T18:31:53.162528Z"
    }
   },
   "source": [
    "per_frame_width = 20 # pixels taken from one image"
   ],
   "outputs": []
  },
  {
   "cell_type": "code",
   "execution_count": 36,
   "id": "58e38e32-9941-491b-8fbf-e7a7cc0dd94a",
   "metadata": {
    "ExecuteTime": {
     "end_time": "2024-02-10T18:31:54.064329Z",
     "start_time": "2024-02-10T18:31:54.025931Z"
    }
   },
   "source": [
    "FRAME_SIZE = a1.shape[:2]"
   ],
   "outputs": []
  },
  {
   "cell_type": "code",
   "execution_count": 37,
   "id": "278572b72eb7c298",
   "metadata": {
    "ExecuteTime": {
     "end_time": "2024-02-10T18:31:55.368137Z",
     "start_time": "2024-02-10T18:31:55.298191Z"
    },
    "collapsed": false,
    "jupyter": {
     "outputs_hidden": false
    }
   },
   "source": [
    "FRAME_SIZE"
   ],
   "outputs": []
  },
  {
   "cell_type": "code",
   "execution_count": null,
   "id": "2075fc15f814c3d1",
   "metadata": {
    "collapsed": false,
    "jupyter": {
     "outputs_hidden": false
    }
   },
   "source": [],
   "outputs": []
  },
  {
   "cell_type": "code",
   "execution_count": 34,
   "id": "fedc3b04-555c-4ba7-9929-d34285a3742a",
   "metadata": {},
   "source": [
    "# TODO: create function with parameter CCW, CW"
   ],
   "outputs": []
  },
  {
   "cell_type": "code",
   "execution_count": 39,
   "id": "81a99eed-41e4-4237-bc67-6e2c48215ea0",
   "metadata": {},
   "source": [
    "rows_images = []\n",
    "\n",
    "for mn, mx in rows:\n",
    "    row_image = np.zeros((FRAME_SIZE[0], np.ceil(frames_per_360 * shift_per_frame).astype(int) + FRAME_SIZE[1] // 2))\n",
    "    weight_matrix = np.zeros(row_image.shape)\n",
    "    \n",
    "    start = mn + (mx - mn) // 2 - frames_per_360 // 2 \n",
    "    end = start + frames_per_360    \n",
    "    vidcap.set(cv2.CAP_PROP_POS_FRAMES, start)\n",
    "    success, image = vidcap.read()\n",
    "    \n",
    "    print(f\"processing frames {start}-{end}\")\n",
    "\n",
    "    for frameNo in tqdm(range(0, end - start)):\n",
    "        M = np.float32([\n",
    "            [1, 0, (shift_per_frame * frameNo)],\n",
    "            [0, 1, 0]\n",
    "        ])\n",
    "        aligned_image = np.fliplr(cv2.warpAffine(image, M, (row_image.shape[1], row_image.shape[0])))\n",
    "        crop_x_start = np.floor(row_image.shape[1] - image.shape[1] // 2 - per_frame_width // 2 - shift_per_frame * frameNo ).astype(int)\n",
    "        crop_x_end = np.max([0, crop_x_start + per_frame_width])\n",
    "        row_image[:, row_image.shape[1] - crop_x_end: row_image.shape[1] - crop_x_start] += aligned_image[:, crop_x_start:crop_x_end, 0]\n",
    "        weight_matrix[:, row_image.shape[1] - crop_x_end: row_image.shape[1] - crop_x_start] += 1        \n",
    "        frameNo += 1\n",
    "        success, image = vidcap.read()\n",
    "        \n",
    "    rows_images.append(np.copy((row_image / weight_matrix)[:, image.shape[1] // 2: - per_frame_width // 2])) # crop the empty space"
   ],
   "outputs": []
  },
  {
   "cell_type": "code",
   "execution_count": 47,
   "id": "01f1dfa7-30ad-43d5-8876-cac37bcf0778",
   "metadata": {},
   "source": [
    "for iid, img in enumerate(rows_images):\n",
    "    iio.imwrite(os.path.join(SRC, f\"zavit-{iid:02d}.png\"), img.astype(np.uint8))"
   ],
   "outputs": []
  },
  {
   "cell_type": "markdown",
   "id": "aa139ba2-f23f-4350-970b-2e03bfeb963d",
   "metadata": {},
   "source": [
    "## Load images"
   ]
  },
  {
   "cell_type": "code",
   "execution_count": 4,
   "id": "4cd3f6d4-534f-40c0-bd83-ef24395a2eda",
   "metadata": {},
   "source": [
    "rows_images = []\n",
    "for filename in sorted(os.listdir(SRC)):\n",
    "    if \"zavit\" in filename and \"png\" in filename:\n",
    "        rows_images.append(iio.imread(os.path.join(SRC, filename)))"
   ],
   "outputs": []
  },
  {
   "cell_type": "code",
   "execution_count": 5,
   "id": "f6869e7a-50ac-493d-a71b-a9270a5e2bdd",
   "metadata": {},
   "source": [
    "# registration by mutual information\n",
    "def mutual_information(imgA, imgB, bins=15):\n",
    "    # taken from https://matthew-brett.github.io/teaching/mutual_information.html    \n",
    "    hist_2d, x_edges, y_edges = np.histogram2d(\n",
    "         imgA.ravel(),\n",
    "         imgB.ravel(),\n",
    "         bins=bins\n",
    "    )\n",
    "    pxy = hist_2d / float(np.sum(hist_2d))\n",
    "    px = np.sum(pxy, axis=1) # marginal for x over y\n",
    "    py = np.sum(pxy, axis=0) # marginal for y over x\n",
    "    px_py = px[:, None] * py[None, :] # Broadcast to multiply marginals\n",
    "    \n",
    "    # Now we can do the calculation using the pxy, px_py 2D arrays\n",
    "    nzs = pxy > 0 # Only non-zero pxy values contribute to the sum\n",
    "    return np.sum(pxy[nzs] * np.log(pxy[nzs] / px_py[nzs]))\n",
    "\n",
    "def extract_images_and_compute_mi(shift, imgA, imgB, seed_position):    \n",
    "    x = np.arange(seed_position[1, 0] + shift[0], seed_position[1, 0] + shift[0] + 399.5)\n",
    "    y = np.arange(seed_position[1, 1] + shift[1], seed_position[1, 1] + shift[1] + 599.5)    \n",
    "    xg, yg = np.meshgrid(x, y)\n",
    "    interp = RegularGridInterpolator((np.arange(imgB.shape[0]), np.arange(imgB.shape[1])), imgB)\n",
    "    return -mutual_information(\n",
    "        imgA[seed_position[0, 0]: seed_position[0, 0] + 400, \n",
    "             seed_position[0, 1]: seed_position[0, 1] + 600].T,         \n",
    "        interp((xg, yg))\n",
    "    )\n",
    "\n",
    "def to_minimize(x):\n",
    "    return extract_images_and_compute_mi(shift=x, imgA=imgA, imgB=imgB, seed_position=seed_position)\n",
    "\n",
    "def show_images(imgA, imgB, seed_position, shift):\n",
    "    plt.figure(figsize=(15,5))\n",
    "    ax = plt.subplot(131)\n",
    "    ax.imshow(imgA[seed_position[0, 0]: seed_position[0, 0] + 400, \n",
    "                   seed_position[0, 1]: seed_position[0, 1] + 600].T, cmap=\"gray\")\n",
    "    ax.set_title(\"Fixed\")\n",
    "\n",
    "    x = np.arange(seed_position[1, 0] + shift[0], seed_position[1, 0] + shift[0] + 399.5)\n",
    "    y = np.arange(seed_position[1, 1] + shift[1], seed_position[1, 1] + shift[1] + 599.5)    \n",
    "    xg, yg = np.meshgrid(x, y)\n",
    "    interp = RegularGridInterpolator((np.arange(imgB.shape[0]), np.arange(imgB.shape[1])), imgB)\n",
    "    \n",
    "    ax = plt.subplot(132)\n",
    "    ax.imshow(interp((xg, yg)), cmap=\"gray\")\n",
    "    ax.set_title(\"Moved\")\n",
    "\n",
    "    ax = plt.subplot(133)\n",
    "    ax.imshow(imgA[seed_position[0, 0]: seed_position[0, 0] + 400, \n",
    "                   seed_position[0, 1]: seed_position[0, 1] + 600].T + interp((xg, yg)), cmap=\"gray\")\n",
    "    ax.set_title(\"Blend\")\n",
    "    plt.show()\n",
    "               "
   ],
   "outputs": []
  },
  {
   "cell_type": "code",
   "execution_count": 6,
   "id": "87ae1432-d9ea-4f99-a831-4d96959f2ef6",
   "metadata": {},
   "source": [
    "physics = {\n",
    "    \"roll\":  np.round(rows_images[0].shape[1] * 0.1).astype(int) + 40,\n",
    "    \"scan_shift\": 2160 // 2 + 30,\n",
    "    \"screw_thread_distance\": 400,\n",
    "    \"first_frame\": [1600, 26400]\n",
    "}"
   ],
   "outputs": []
  },
  {
   "cell_type": "code",
   "execution_count": 7,
   "id": "d98e4c03-c55c-4db0-a415-2a0e49481f08",
   "metadata": {},
   "source": [
    "first_frame = physics[\"first_frame\"]\n",
    "scan_shift = physics[\"scan_shift\"]\n",
    "roll = physics[\"roll\"]\n",
    "\n",
    "seed_position = np.array([first_frame, [first_frame[0] - scan_shift, first_frame[1] - roll]]).astype(int)\n",
    "imgA = rows_images[0]\n",
    "imgB = rows_images[1]\n",
    "s1 = minimize(to_minimize, x0=[0, 0], method='COBYLA', bounds=[(-10, +10),(-10, 10)])"
   ],
   "outputs": []
  },
  {
   "cell_type": "code",
   "execution_count": 8,
   "id": "2d9ef2ec-232f-47b0-8c3d-550fdbaf1542",
   "metadata": {},
   "source": [
    "s1"
   ],
   "outputs": []
  },
  {
   "cell_type": "code",
   "execution_count": 9,
   "id": "4dc3d805-c0f2-4264-a9a3-35b4d00574a1",
   "metadata": {},
   "source": [
    "show_images(imgA, imgB, seed_position, s1.x)"
   ],
   "outputs": []
  },
  {
   "cell_type": "code",
   "execution_count": 10,
   "id": "c4887237-9bd1-4e07-8706-6fba68e28576",
   "metadata": {},
   "source": [
    "screw_thread_distance = physics[\"screw_thread_distance\"]\n",
    "seed_position = np.array([[first_frame[0] - scan_shift + 2 * screw_thread_distance, first_frame[1] - roll],\n",
    "                          [first_frame[0] - 2 * scan_shift + 2 * screw_thread_distance, first_frame[1] - 2 * roll]]).astype(int)\n",
    "imgA = rows_images[1]\n",
    "imgB = rows_images[2]\n",
    "s2 = minimize(to_minimize, x0=[0,30], method='COBYLA', bounds=[(-10, 10),(-10, 40)])"
   ],
   "outputs": []
  },
  {
   "cell_type": "code",
   "execution_count": 11,
   "id": "eea489dd-c8cd-4c09-807a-542228266235",
   "metadata": {},
   "source": [
    "s2"
   ],
   "outputs": []
  },
  {
   "cell_type": "code",
   "execution_count": 12,
   "id": "16fc48df-9b7e-4aed-a12b-606a6c34bc52",
   "metadata": {},
   "source": [
    "show_images(imgA, imgB, seed_position, s2.x)"
   ],
   "outputs": []
  },
  {
   "cell_type": "code",
   "execution_count": 18,
   "id": "ac0861d5-5914-4f58-b76f-4491f845edc2",
   "metadata": {},
   "source": [
    "[[first_frame[0] - 2 * scan_shift + 5 * screw_thread_distance, first_frame[1] - 2 * roll], [first_frame[0] - 3 * scan_shift + 5 * screw_thread_distance, first_frame[1] - 3 * roll]]"
   ],
   "outputs": []
  },
  {
   "cell_type": "code",
   "execution_count": 60,
   "id": "f3980792-05a6-4213-9876-e6e44da9abd7",
   "metadata": {},
   "source": [
    "seed_position = np.array([[first_frame[0] - 2 * scan_shift + 5 * screw_thread_distance, first_frame[1] - 2 * roll],\n",
    "                          [first_frame[0] - 3 * scan_shift + 5 * screw_thread_distance, first_frame[1] - 3 * roll]]).astype(int)\n",
    "imgA = rows_images[2]\n",
    "imgB = rows_images[3]\n",
    "s3 = minimize(to_minimize, x0=[0, 0], method='Powell', bounds=[(-10, 10),(-10, 40)])"
   ],
   "outputs": []
  },
  {
   "cell_type": "code",
   "execution_count": 61,
   "id": "5614fa1c-25e2-400e-830c-01fc6b244102",
   "metadata": {},
   "source": [
    "s3"
   ],
   "outputs": []
  },
  {
   "cell_type": "code",
   "execution_count": 62,
   "id": "a17bd37f-04ed-40ed-af27-33a23dd89ac5",
   "metadata": {},
   "source": [
    "show_images(imgA, imgB, seed_position, s3.x)"
   ],
   "outputs": []
  },
  {
   "cell_type": "code",
   "execution_count": 55,
   "id": "e51a6587-55f1-4b60-b345-90452c08fea3",
   "metadata": {},
   "source": [
    "[[first_frame[0] - 3 * scan_shift + 9 * screw_thread_distance, first_frame[1] - 3 * roll],\n",
    "                          [first_frame[0] - 4 * scan_shift + 9 * screw_thread_distance, first_frame[1] - 4 * roll]]"
   ],
   "outputs": []
  },
  {
   "cell_type": "code",
   "execution_count": 57,
   "id": "62b33ff2-703f-4e32-a67a-6ccc26861f60",
   "metadata": {},
   "source": [
    "seed_position = np.array([[first_frame[0] - 3 * scan_shift + 8 * screw_thread_distance, first_frame[1] - 3 * roll],\n",
    "                          [first_frame[0] - 4 * scan_shift + 8 * screw_thread_distance, first_frame[1] - 4 * roll]]).astype(int)\n",
    "imgA = rows_images[3]\n",
    "imgB = rows_images[4]\n",
    "s4 = minimize(to_minimize, x0=[0, 0], method='Powell', bounds=[(-10, 10),(-10, 40)])"
   ],
   "outputs": []
  },
  {
   "cell_type": "code",
   "execution_count": 58,
   "id": "5320c81e-bccc-464f-8899-c4594acc5345",
   "metadata": {},
   "source": [
    "s4"
   ],
   "outputs": []
  },
  {
   "cell_type": "code",
   "execution_count": 59,
   "id": "faa001e0-5385-4fa5-8aee-a65f34f3e396",
   "metadata": {},
   "source": [
    "show_images(imgA, imgB, seed_position, s4.x)"
   ],
   "outputs": []
  },
  {
   "cell_type": "code",
   "execution_count": 67,
   "id": "f27b5ce8-06e6-4e5e-98c5-b92d56d4c8d4",
   "metadata": {},
   "source": [
    "[[first_frame[0] - 4 * scan_shift + 11 * screw_thread_distance, first_frame[1] - 4 * roll],\n",
    " [first_frame[0] - 5 * scan_shift + 11 * screw_thread_distance, first_frame[1] - 5 * roll]]"
   ],
   "outputs": []
  },
  {
   "cell_type": "code",
   "execution_count": 76,
   "id": "dab0ee2f-b874-4bb0-8041-eff0f405aa8a",
   "metadata": {},
   "source": [
    "seed_position = np.array([[first_frame[0] - 4 * scan_shift + 11 * screw_thread_distance, first_frame[1] - 4 * roll],\n",
    "                          [first_frame[0] - 5 * scan_shift + 11 * screw_thread_distance, first_frame[1] - 5 * roll]]).astype(int)\n",
    "imgA = rows_images[4]\n",
    "imgB = rows_images[5]\n",
    "s5 = minimize(to_minimize, x0=[0, 0], method='Powell', bounds=[(-10, 10),(-10, 40)])"
   ],
   "outputs": []
  },
  {
   "cell_type": "code",
   "execution_count": 77,
   "id": "84bc330c-54ad-4ede-b7d9-de1bece36ee5",
   "metadata": {},
   "source": [
    "s5"
   ],
   "outputs": []
  },
  {
   "cell_type": "code",
   "execution_count": 78,
   "id": "e483b217-fc25-4526-bbbb-a138ede32bc2",
   "metadata": {},
   "source": [
    "show_images(imgA, imgB, seed_position, s5.x)"
   ],
   "outputs": []
  },
  {
   "cell_type": "code",
   "execution_count": 71,
   "id": "70ae82b6-8906-4b62-aecb-81908ea7782d",
   "metadata": {},
   "source": [
    "[[first_frame[0] - 5 * scan_shift + 13 * screw_thread_distance, first_frame[1] - 5 * roll],\n",
    " [first_frame[0] - 6 * scan_shift + 13 * screw_thread_distance, first_frame[1] - 6 * roll]]"
   ],
   "outputs": []
  },
  {
   "cell_type": "code",
   "execution_count": 73,
   "id": "73701c9b-5c8a-45e8-b19b-81b2ebcfd631",
   "metadata": {},
   "source": [
    "seed_position = np.array([[first_frame[0] - 5 * scan_shift + 13 * screw_thread_distance, first_frame[1] - 5 * roll],\n",
    "                          [first_frame[0] - 6 * scan_shift + 13 * screw_thread_distance, first_frame[1] - 6 * roll]]).astype(int)\n",
    "imgA = rows_images[5]\n",
    "imgB = rows_images[6]\n",
    "s6 = minimize(to_minimize, x0=[0, 0], method='Powell', bounds=[(-10, 10),(-10, 40)])"
   ],
   "outputs": []
  },
  {
   "cell_type": "code",
   "execution_count": 74,
   "id": "2b95eea1-8b20-4bd6-9757-c8aff38355a0",
   "metadata": {},
   "source": [
    "s6"
   ],
   "outputs": []
  },
  {
   "cell_type": "code",
   "execution_count": 75,
   "id": "65c0314e-af5f-4ec4-82b8-76d1aa646bf0",
   "metadata": {},
   "source": [
    "show_images(imgA, imgB, seed_position, s6.x)"
   ],
   "outputs": []
  },
  {
   "cell_type": "code",
   "execution_count": 84,
   "id": "5db88628-0813-4224-9cb3-03d4075c362d",
   "metadata": {},
   "source": [
    "shift_fixes = np.array([s1.x, s2.x, s3.x, s4.x, s5.x, s6.x])"
   ],
   "outputs": []
  },
  {
   "cell_type": "markdown",
   "id": "cee403b9-72de-423e-a99b-3a0513c6f0c1",
   "metadata": {},
   "source": [
    "## Merge\n",
    "\n",
    "- sesbírat posun per row\n",
    "- aggregovats `sn.x`\n",
    "- provést roll každé otočky + interpolaci\n",
    "- vyrobit váhovou matici pro překryv\n",
    "- vynásobit / flatnout"
   ]
  },
  {
   "cell_type": "code",
   "execution_count": 81,
   "id": "287dd0ea-1231-45e0-8123-9ec5314b21b9",
   "metadata": {},
   "source": [
    "shift_seed = []\n",
    "shift_seed.append(np.array([first_frame, [first_frame[0] - scan_shift, first_frame[1] - roll]]).astype(int))\n",
    "shift_seed.append(np.array([[first_frame[0] - scan_shift + 2 * screw_thread_distance, first_frame[1] - roll],\n",
    "                            [first_frame[0] - 2 * scan_shift + 2 * screw_thread_distance, first_frame[1] - 2 * roll]]).astype(int))\n",
    "shift_seed.append(np.array([[first_frame[0] - 2 * scan_shift + 5 * screw_thread_distance, first_frame[1] - 2 * roll],\n",
    "                            [first_frame[0] - 3 * scan_shift + 5 * screw_thread_distance, first_frame[1] - 3 * roll]]).astype(int))\n",
    "shift_seed.append(np.array([[first_frame[0] - 3 * scan_shift + 8 * screw_thread_distance, first_frame[1] - 3 * roll],\n",
    "                            [first_frame[0] - 4 * scan_shift + 8 * screw_thread_distance, first_frame[1] - 4 * roll]]).astype(int))\n",
    "shift_seed.append(np.array([[first_frame[0] - 4 * scan_shift + 11 * screw_thread_distance, first_frame[1] - 4 * roll],\n",
    "                            [first_frame[0] - 5 * scan_shift + 11 * screw_thread_distance, first_frame[1] - 5 * roll]]).astype(int))\n",
    "shift_seed.append(np.array([[first_frame[0] - 5 * scan_shift + 13 * screw_thread_distance, first_frame[1] - 5 * roll],\n",
    "                            [first_frame[0] - 6 * scan_shift + 13 * screw_thread_distance, first_frame[1] - 6 * roll]]).astype(int))"
   ],
   "outputs": []
  },
  {
   "cell_type": "code",
   "execution_count": 87,
   "id": "f8319bf9-11f5-45a6-b6df-55d3646c4824",
   "metadata": {},
   "source": [
    "per_row_shift = np.array([seed[0, :] - seed[1, :] - fix for seed, fix in zip(shift_seed, shift_fixes)])"
   ],
   "outputs": []
  },
  {
   "cell_type": "code",
   "execution_count": 89,
   "id": "aa1392d1-4d63-4d0a-a069-124ffdca31dd",
   "metadata": {},
   "source": [
    "per_row_shift"
   ],
   "outputs": []
  },
  {
   "cell_type": "code",
   "execution_count": 112,
   "id": "0c831302-da9b-4c47-afeb-0662bd4cdbf6",
   "metadata": {},
   "source": [
    "def real_roll(array, shift, axis=0):    \n",
    "        double_image = np.concatenate([array, array], axis=1)\n",
    "    interp = RegularGridInterpolator(\n",
    "        (np.arange(double_image.shape[0]), np.arange(double_image.shape[1])), \n",
    "        double_image\n",
    "    )\n",
    "    if shift > 0:\n",
    "        y = np.arange(shift, shift + array.shape[1] - 0.5, 1)\n",
    "    else:\n",
    "        y = np.arange(shift + array.shape[1], 2 * array.shape[1] + shift - 0.5, 1)    \n",
    "    x = np.arange(array.shape[0])    \n",
    "    xg, yg = np.meshgrid(x, y)    \n",
    "    return interp((xg, yg)).T"
   ],
   "outputs": []
  },
  {
   "cell_type": "code",
   "execution_count": 114,
   "id": "23e943ac-8878-48ab-8420-2c4662149f1b",
   "metadata": {},
   "source": [
    "# Test of the real roll function\n",
    "plt.figure(figsize=(15,4))\n",
    "ax = plt.subplot(211)\n",
    "ax.imshow(real_roll(rows_images[1], per_row_shift[0,1]), cmap=\"gray\")\n",
    "ax.set_title(\"Rolled\")\n",
    "ax = plt.subplot(212)\n",
    "ax.imshow(rows_images[1], cmap=\"gray\")\n",
    "ax.set_title(\"Original row 1\")\n",
    "plt.show()"
   ],
   "outputs": []
  },
  {
   "cell_type": "code",
   "execution_count": 119,
   "id": "5dbad42e-ac42-4340-9cb3-57f7b54f3d3e",
   "metadata": {},
   "source": [
    "rows_images[0].shape"
   ],
   "outputs": []
  },
  {
   "cell_type": "code",
   "execution_count": 170,
   "id": "c3c71148-e353-4e09-92c2-bee6cdec2224",
   "metadata": {},
   "source": [
    "rolled = []\n",
    "# Roll all rows as required and plot them\n",
    "plt.figure(figsize=(15,14))\n",
    "ax = plt.subplot(7, 1, 1)\n",
    "ax.imshow(rows_images[0], cmap=\"gray\")\n",
    "rolled.append(rows_images[0])\n",
    "for en, row_shift in enumerate(np.cumsum(-per_row_shift[:,1])):\n",
    "    ax = plt.subplot(7, 1, en+2)\n",
    "    rolled.append(real_roll(rows_images[en + 1], row_shift % rows_images[en + 1].shape[1]))\n",
    "    ax.imshow(rolled[-1], cmap=\"gray\")\n",
    "    ax.set_title(f\"Row {en + 1}, shift: {row_shift % rows_images[en + 1].shape[1]}\")\n",
    "plt.show()"
   ],
   "outputs": []
  },
  {
   "cell_type": "code",
   "execution_count": 171,
   "id": "3b7eb11a-4758-4a78-9173-431382c7148f",
   "metadata": {},
   "source": [
    "# merge rows"
   ],
   "outputs": []
  },
  {
   "cell_type": "code",
   "execution_count": 179,
   "id": "373e0cd2-2037-467a-a739-15c9932572d1",
   "metadata": {},
   "source": [
    "to_grid = [rolled[0]]\n",
    "real_shift = [0]\n",
    "for image, shift in tqdm(zip(rolled[1:], np.cumsum(per_row_shift[:,0])), total=per_row_shift.shape[0]):\n",
    "    interp = RegularGridInterpolator(\n",
    "        (np.arange(image.shape[0]), np.arange(image.shape[1])), \n",
    "        image\n",
    "    )\n",
    "    x = np.arange(image.shape[0] - 1)\n",
    "    y = np.arange(image.shape[1])\n",
    "    xg, yg = np.meshgrid(x,y)\n",
    "    to_grid.append(interp((xg, yg)).T)\n",
    "    real_shift.append(int(shift // 1))\n"
   ],
   "outputs": []
  },
  {
   "cell_type": "code",
   "execution_count": 194,
   "id": "3d716539-c6bf-4f9a-b1e8-85290c78ccaf",
   "metadata": {},
   "source": [
    "out_height = rolled[0].shape[0] + np.max(real_shift)"
   ],
   "outputs": []
  },
  {
   "cell_type": "code",
   "execution_count": 195,
   "id": "04d85721-a443-41b0-b168-fefd8b1c7dde",
   "metadata": {},
   "source": [
    "full_image = np.zeros((out_height, rolled[0].shape[1], len(rolled)))\n",
    "for en, (image, r_shift) in enumerate(zip(to_grid, real_shift)):\n",
    "    full_image[r_shift: r_shift + image.shape[0], :, en] = image"
   ],
   "outputs": []
  },
  {
   "cell_type": "code",
   "execution_count": 248,
   "id": "f27c2d87-2e25-4f83-a7f1-2ec64b64ee87",
   "metadata": {},
   "source": [
    "blend_matrix = np.zeros((out_height, to_grid[0].shape[1], len(to_grid)))\n",
    "\n",
    "blend_matrix[:real_shift[1], :, 0] += 1\n",
    "lin_blend = np.dot(np.arange(0, 1, 1/(to_grid[0].shape[0] - real_shift[1])).reshape(-1, 1), \n",
    "                   np.ones((to_grid[0].shape[1],1)).T)\n",
    "blend_matrix[real_shift[1]: to_grid[0].shape[0], :, 0] += np.flipud(lin_blend)\n",
    "blend_matrix[real_shift[1]: to_grid[0].shape[0], :, 1] += lin_blend\n",
    "\n",
    "for en, (image, r_shift) in enumerate(list(zip(to_grid, real_shift))[:-2]):\n",
    "    blend_matrix[real_shift[en] + to_grid[en].shape[0]: real_shift[en + 2], :, en + 1] += 1\n",
    "    lin_blend = np.dot(np.arange(0, 1, 1/(to_grid[en + 1].shape[0] + real_shift[en + 1] - real_shift[en + 2])).reshape(-1, 1), \n",
    "                       np.ones((to_grid[en + 1].shape[1],1)).T)\n",
    "    blend_matrix[real_shift[en + 2]: to_grid[en + 1].shape[0] + real_shift[en + 1], :, en + 1] += np.flipud(lin_blend)\n",
    "    blend_matrix[real_shift[en + 2]: to_grid[en + 1].shape[0] + real_shift[en + 1], :, en + 2] += lin_blend\n",
    "\n",
    "blend_matrix[to_grid[en + 1].shape[0] + real_shift[en + 1]:, :, -1] += 1"
   ],
   "outputs": []
  },
  {
   "cell_type": "code",
   "execution_count": 260,
   "id": "6fc5aa5c-2bc0-484d-9652-a3e192a6294d",
   "metadata": {},
   "source": [
    "blended_full_image = np.sum(full_image * blend_matrix, axis=2) / np.sum(blend_matrix, axis=2)"
   ],
   "outputs": []
  },
  {
   "cell_type": "markdown",
   "id": "fdd73503-faed-48ea-a1c2-7f47747162e6",
   "metadata": {},
   "source": [
    "## Conclusion - Image READY"
   ]
  },
  {
   "cell_type": "code",
   "execution_count": 263,
   "id": "035da9ce-b476-4f05-8673-077d316a05c1",
   "metadata": {},
   "source": [
    "iio.imwrite(os.path.join(SRC, \"oio.png\"), blended_full_image.astype(np.uint8))"
   ],
   "outputs": []
  },
  {
   "cell_type": "markdown",
   "id": "3581e439-fc70-41bc-bc70-a8f41577d11d",
   "metadata": {},
   "source": [
    "# Rotate to diff"
   ]
  },
  {
   "cell_type": "code",
   "execution_count": 269,
   "id": "65f6898b-2f86-4c1e-b0c1-2889f547f3c7",
   "metadata": {},
   "source": [
    "edges = cv2.Canny(blended_full_image.astype(np.uint8),80,200)"
   ],
   "outputs": []
  },
  {
   "cell_type": "code",
   "execution_count": 270,
   "id": "bf56cc9a-ffb7-4ac0-a842-a303d88804cc",
   "metadata": {},
   "source": [
    "plt.figure(figsize=(15,8))\n",
    "plt.imshow(edges, cmap=\"gray\")\n",
    "plt.show()"
   ],
   "outputs": []
  },
  {
   "cell_type": "code",
   "execution_count": 285,
   "id": "efecefee-5838-4de3-aa6d-ab85fd6e3a7a",
   "metadata": {
    "ExecuteTime": {
     "end_time": "2024-01-02T08:38:54.024500Z",
     "start_time": "2024-01-02T08:38:53.362774Z"
    }
   },
   "source": [
    "lines = cv2.HoughLines(edges, 10, np.pi/1800, 1, min_theta=4/5 * np.pi, max_theta=np.pi)\n"
   ],
   "outputs": []
  },
  {
   "cell_type": "code",
   "execution_count": 286,
   "id": "ea959a20-9746-4039-9639-0cba7205d52c",
   "metadata": {
    "ExecuteTime": {
     "end_time": "2024-01-02T08:38:55.223478Z",
     "start_time": "2024-01-02T08:38:54.943963Z"
    }
   },
   "source": [
    "plt.plot(lines[:,0,1])\n",
    "plt.show()"
   ],
   "outputs": []
  },
  {
   "cell_type": "markdown",
   "id": "1268c20a-985e-4f37-98e6-267599168caf",
   "metadata": {},
   "source": [
    "### Odbočka - copak je v GPMF datech"
   ]
  },
  {
   "cell_type": "code",
   "execution_count": 106,
   "id": "401af268-cb3b-4c81-9124-24f4103f8e94",
   "metadata": {},
   "source": [
    "import gpmf\n",
    "from scipy.ndimage import gaussian_filter1d as gaussian\n",
    "from scipy.signal import butter, sosfilt"
   ],
   "outputs": []
  },
  {
   "cell_type": "code",
   "execution_count": 31,
   "id": "13917e12-e134-4a18-a372-625b87ec1a6e",
   "metadata": {},
   "source": [
    "gpmf_stream = gpmf.io.extract_gpmf_stream(os.path.join(SRC, videos[0]))"
   ],
   "outputs": []
  },
  {
   "cell_type": "code",
   "execution_count": 32,
   "id": "b32de284-ba08-422d-98ac-ce4b4324ce03",
   "metadata": {},
   "source": [
    "stream_content = []\n",
    "for s in gpmf.parse.filter_klv(gpmf_stream, \"GYRO\"):\n",
    "    content = []\n",
    "    is_gyro = False\n",
    "    for elt in s.value:\n",
    "        content.append(elt)\n",
    "        \n",
    "    stream_content.append(content)"
   ],
   "outputs": []
  },
  {
   "cell_type": "code",
   "execution_count": 33,
   "id": "334a3387-3e8c-4724-a1cd-0ee70813b83e",
   "metadata": {},
   "source": [
    "len(stream_content) * 207"
   ],
   "outputs": []
  },
  {
   "cell_type": "code",
   "execution_count": 35,
   "id": "756eda45-8f42-4ba6-8047-32e3e36cb68f",
   "metadata": {},
   "source": [
    "len(stream_content[0])"
   ],
   "outputs": []
  },
  {
   "cell_type": "code",
   "execution_count": 50,
   "id": "85b9aab7-34dc-4624-9632-185cfbecad4a",
   "metadata": {},
   "source": [
    "plt.figure(figsize=(15,5))\n",
    "ax=plt.subplot(111)\n",
    "x = gaussian([np.mean([x for x, _, _ in content]) for content in stream_content], 1)\n",
    "ax.plot(x - np.mean(x), label=\"horizontal\")\n",
    "y = gaussian([np.mean([x for _, x, _ in content]) for content in stream_content], 1)\n",
    "ax.plot(y - np.mean(y), label=\"lens axis\")\n",
    "z = gaussian([np.mean([x for _, _, x in content]) for content in stream_content], 1)\n",
    "ax.plot(z - np.mean(z), label=\"vertical\")\n",
    "plt.ylabel(\"rad/s\")\n",
    "plt.xlabel(\"video time (x)\")\n",
    "plt.legend()\n",
    "plt.show()"
   ],
   "outputs": []
  },
  {
   "cell_type": "code",
   "execution_count": 51,
   "id": "11dc6dd5-2d1b-4c15-a606-066f46e2bdee",
   "metadata": {},
   "source": [
    "from pykalman import KalmanFilter"
   ],
   "outputs": []
  },
  {
   "cell_type": "code",
   "execution_count": 89,
   "id": "152e194b-f2fb-40b6-b9dc-1b58e26097c6",
   "metadata": {},
   "source": [
    "kf = KalmanFilter(n_dim_obs=1, em_vars=['transition_covariance', 'observation_covariance', 'initial_state_mean'])"
   ],
   "outputs": []
  },
  {
   "cell_type": "code",
   "execution_count": 98,
   "id": "3a6dda7c-aae9-483f-a73c-bccbb9a58e14",
   "metadata": {},
   "source": [
    "plt.plot(np.arange(0, len(y), 10), kf.em(y, n_iter=10).smooth(y[::10])[0].reshape(-1))\n",
    "plt.plot(buttap(y))\n",
    "plt.show()"
   ],
   "outputs": []
  },
  {
   "cell_type": "code",
   "execution_count": 161,
   "id": "7212cde1-b535-47f6-ac83-83c093fba151",
   "metadata": {},
   "source": [
    "sos = butter(1, 60, 'hp', fs=1000, output='sos')\n",
    "filtered = sosfilt(sos, y)"
   ],
   "outputs": []
  },
  {
   "cell_type": "code",
   "execution_count": 162,
   "id": "57dc2eb1-3cd9-471f-bced-b40cad9bb75a",
   "metadata": {},
   "source": [
    "plt.plot(filtered)\n",
    "plt.plot(y)\n",
    "plt.show()"
   ],
   "outputs": []
  },
  {
   "cell_type": "code",
   "execution_count": null,
   "id": "c3c986d9-c415-4ed8-aacc-0afc3f69cd5a",
   "metadata": {},
   "source": [],
   "outputs": []
  }
 ],
 "metadata": {
  "kernelspec": {
   "display_name": "Python 3 (ipykernel)",
   "language": "python",
   "name": "python3"
  },
  "language_info": {
   "codemirror_mode": {
    "name": "ipython",
    "version": 3
   },
   "file_extension": ".py",
   "mimetype": "text/x-python",
   "name": "python",
   "nbconvert_exporter": "python",
   "pygments_lexer": "ipython3",
   "version": "3.10.14"
  }
 },
 "nbformat": 4,
 "nbformat_minor": 5
}
