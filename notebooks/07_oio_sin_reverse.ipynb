{
 "cells": [
  {
   "metadata": {
    "ExecuteTime": {
     "end_time": "2025-04-21T09:13:40.869104Z",
     "start_time": "2025-04-21T09:13:34.765142Z"
    }
   },
   "cell_type": "code",
   "source": [
    "import cv2\n",
    "import numpy as np\n",
    "import matplotlib.pyplot as plt\n",
    "from scipy.ndimage import gaussian_filter1d\n",
    "from scipy.optimize import curve_fit\n",
    "from scipy.signal import find_peaks"
   ],
   "id": "1418fedd1df3a486",
   "execution_count": 1,
   "outputs": []
  },
  {
   "metadata": {
    "ExecuteTime": {
     "end_time": "2025-04-21T09:17:56.579393Z",
     "start_time": "2025-04-21T09:17:56.575388Z"
    }
   },
   "cell_type": "code",
   "source": "img_path = \"/Users/fathe/Downloads/output/srp_GX010027_preprocessed-oio-0-pre_sin.png\"",
   "id": "6dbdc9991e0f22ea",
   "execution_count": 12,
   "outputs": []
  },
  {
   "metadata": {
    "ExecuteTime": {
     "end_time": "2025-04-21T09:25:00.322203Z",
     "start_time": "2025-04-21T09:24:57.713991Z"
    }
   },
   "cell_type": "code",
   "source": [
    "# Load the image\n",
    "image = cv2.imread(img_path, cv2.IMREAD_GRAYSCALE)\n",
    "# image = image[image.shape[0]//4:, :]\n",
    "image = np.hstack((image,) * 10)\n",
    "# Define the width of the stripe\n",
    "stripe_width = 20\n",
    "shift = 10\n",
    "movements = []\n",
    "\n",
    "for i in range(0, image.shape[1]-stripe_width-shift, shift):\n",
    "    # Extract vertical stripes\n",
    "    left_stripe = image[:, i:stripe_width+i]\n",
    "    right_stripe = image[:, i+shift:stripe_width+i+shift]\n",
    "    \n",
    "    # Sum pixel intensities along the x-axis\n",
    "    left_sum = np.sum(left_stripe, axis=1)\n",
    "    right_sum = np.sum(right_stripe, axis=1)\n",
    "    \n",
    "    left_sum = gaussian_filter1d(left_sum, sigma=19)\n",
    "    right_sum = gaussian_filter1d(right_sum, sigma=19)\n",
    "    \n",
    "    distance = 150\n",
    "    # Detect peaks\n",
    "    peaks_left, _ = find_peaks(left_sum, distance=distance)\n",
    "    peaks_right, _ = find_peaks(right_sum, distance=distance)\n",
    "    \n",
    "    try:\n",
    "        if peaks_left.shape[0] > peaks_right.shape[0]:\n",
    "            movement1 = np.mean(peaks_left[1:] - peaks_right)\n",
    "            movement2 = np.mean(peaks_left[:-1] - peaks_right)\n",
    "            if abs(movement1) > abs(movement2):\n",
    "                movement = movement2\n",
    "            else:\n",
    "                movement = movement1\n",
    "            \n",
    "        elif peaks_left.shape[0] < peaks_right.shape[0]:\n",
    "            movement1 = np.mean(peaks_left - peaks_right[:-1])\n",
    "            movement2 = np.mean(peaks_left - peaks_right[1:])\n",
    "            if abs(movement1) > abs(movement2):\n",
    "                movement = movement2\n",
    "            else:\n",
    "                movement = movement1\n",
    "        else: \n",
    "            movement = np.mean(peaks_left - peaks_right)\n",
    "            \n",
    "        if abs(movement) > 5 or movement is None:\n",
    "            movement = movements[-1]\n",
    "        movements.append(movement)\n",
    "    except:\n",
    "        movements.append(movements[-1])\n",
    "        # Plot the results\n",
    "        plt.figure(figsize=(10, 5))\n",
    "        plt.plot(left_sum, label=\"Left Stripe\")\n",
    "        plt.plot(right_sum, label=\"Right Stripe\")\n",
    "        plt.title(\"Summed Pixel Intensities\")\n",
    "        plt.xlabel(\"Vertical Position (pixels)\")\n",
    "        plt.ylabel(\"Summed Intensity\")\n",
    "        plt.legend()\n",
    "        plt.show()\n",
    "\n",
    "        # Display detected peaks\n",
    "        print(\"Peaks in left stripe:\", peaks_left)\n",
    "        print(\"Peaks in right stripe:\", peaks_right)"
   ],
   "id": "fa595696b91c6cae",
   "execution_count": 16,
   "outputs": []
  },
  {
   "metadata": {
    "ExecuteTime": {
     "end_time": "2025-04-21T09:25:00.334043Z",
     "start_time": "2025-04-21T09:25:00.324203Z"
    }
   },
   "cell_type": "code",
   "source": "len(movements), image.shape[1], max(movements), min(movements)",
   "id": "878b4203ebafdc99",
   "execution_count": 17,
   "outputs": []
  },
  {
   "metadata": {
    "ExecuteTime": {
     "end_time": "2025-04-21T09:25:29.907023Z",
     "start_time": "2025-04-21T09:25:29.723623Z"
    }
   },
   "cell_type": "code",
   "source": [
    "cumulative_movements = np.cumsum(movements)\n",
    "    \n",
    "# Plot cumulative movements\n",
    "plt.figure(figsize=(10, 5))\n",
    "plt.plot(cumulative_movements, marker='o', linestyle='-', color='blue', label=\"Cumulative Movement\")\n",
    "plt.title(\"Cumulative Movements Over Stripes\")\n",
    "plt.xlabel(\"Stripe Index\")\n",
    "plt.ylabel(\"Cumulative Movement\")\n",
    "plt.legend()\n",
    "plt.grid(True)\n",
    "plt.show()"
   ],
   "id": "dfe7d6d6439ca2fc",
   "execution_count": 18,
   "outputs": []
  },
  {
   "metadata": {
    "ExecuteTime": {
     "end_time": "2025-04-21T09:25:45.340964Z",
     "start_time": "2025-04-21T09:25:45.326980Z"
    }
   },
   "cell_type": "code",
   "source": [
    "# Generate x-values corresponding to movement indices\n",
    "x = np.arange(len(movements))\n",
    "\n",
    "# Linear regression to remove rotation\n",
    "coefficients = np.polyfit(x, cumulative_movements, deg=1)\n",
    "linear_trend = np.polyval(coefficients[-2:], x)"
   ],
   "id": "f6673565f75ba561",
   "execution_count": 19,
   "outputs": []
  },
  {
   "metadata": {
    "ExecuteTime": {
     "end_time": "2025-04-21T09:25:46.099526Z",
     "start_time": "2025-04-21T09:25:46.094528Z"
    }
   },
   "cell_type": "code",
   "source": "coefficients, np.arctan(coefficients[-2])",
   "id": "bb207a4ebe297c2b",
   "execution_count": 20,
   "outputs": []
  },
  {
   "metadata": {
    "ExecuteTime": {
     "end_time": "2025-04-21T09:25:46.791876Z",
     "start_time": "2025-04-21T09:25:46.787392Z"
    }
   },
   "cell_type": "code",
   "source": "detrended_movements = cumulative_movements - linear_trend",
   "id": "e383c3ad27259567",
   "execution_count": 21,
   "outputs": []
  },
  {
   "metadata": {
    "ExecuteTime": {
     "end_time": "2025-04-21T09:25:47.917033Z",
     "start_time": "2025-04-21T09:25:47.781035Z"
    }
   },
   "cell_type": "code",
   "source": [
    "# Plot to visualize detrending\n",
    "plt.figure(figsize=(10, 5))\n",
    "plt.plot(x, cumulative_movements, label=\"Original Data\")\n",
    "plt.plot(x, linear_trend, label=\"Fitted Line (Trend)\")\n",
    "plt.plot(x, detrended_movements, label=\"Detrended Data\")\n",
    "plt.legend()\n",
    "plt.xlabel(\"Stripe Index\")\n",
    "plt.ylabel(\"Movement\")\n",
    "plt.title(\"Detrending the Cumulative Movement\")\n",
    "plt.grid(True)\n",
    "plt.show()"
   ],
   "id": "8619cde0a55499ed",
   "execution_count": 22,
   "outputs": []
  },
  {
   "metadata": {
    "ExecuteTime": {
     "end_time": "2025-04-21T09:25:53.948173Z",
     "start_time": "2025-04-21T09:25:53.941311Z"
    }
   },
   "cell_type": "code",
   "source": [
    "def sinusoid(x, A, B, C, D):\n",
    "    return A * np.sin(B * x + C) + D\n",
    "\n",
    "def rotated_sinusoid(x, A, B, C, D, theta):\n",
    "    y = A * np.sin(B * x + C) + D\n",
    "    # Rotate the sinusoid using the angle theta\n",
    "    x_rot = x * np.cos(theta) - y * np.sin(theta)\n",
    "    y_rot = x * np.sin(theta) + y * np.cos(theta)\n",
    "    return y_rot"
   ],
   "id": "d43ad6711561153",
   "execution_count": 23,
   "outputs": []
  },
  {
   "metadata": {
    "ExecuteTime": {
     "end_time": "2025-04-21T09:25:56.917594Z",
     "start_time": "2025-04-21T09:25:56.913491Z"
    }
   },
   "cell_type": "code",
   "source": [
    "slope = coefficients[-2]\n",
    "theta_initial = np.arctan(slope)"
   ],
   "id": "d1a244af9812339e",
   "execution_count": 24,
   "outputs": []
  },
  {
   "metadata": {
    "ExecuteTime": {
     "end_time": "2025-04-21T09:25:57.632538Z",
     "start_time": "2025-04-21T09:25:57.627213Z"
    }
   },
   "cell_type": "code",
   "source": "theta_initial",
   "id": "28a155a899276910",
   "execution_count": 25,
   "outputs": []
  },
  {
   "metadata": {
    "ExecuteTime": {
     "end_time": "2025-04-21T09:25:58.932883Z",
     "start_time": "2025-04-21T09:25:58.792432Z"
    }
   },
   "cell_type": "code",
   "source": [
    "# Test parameters\n",
    "A = 1       # Amplitude\n",
    "B = 2 * np.pi / 100  # Frequency (a full wave in 100 points)\n",
    "C = 0       # Phase shift\n",
    "D = 0       # Vertical shift\n",
    "theta = theta_initial  # Rotation angle (30 degrees)\n",
    "\n",
    "# Create x values\n",
    "x = np.linspace(0, 200, 100)\n",
    "\n",
    "# Generate the data based on the parameters\n",
    "y = rotated_sinusoid(x, A, B, C, D, theta)\n",
    "\n",
    "# Plot the results\n",
    "plt.figure(figsize=(10, 6))\n",
    "plt.plot(x, y, label=f'Rotated Sinusoid\\nTheta={np.degrees(theta):.1f}°')\n",
    "plt.title('Rotated Sinusoidal Function')\n",
    "plt.xlabel('x')\n",
    "plt.ylabel('y')\n",
    "plt.legend()\n",
    "plt.grid(True)\n",
    "plt.show()"
   ],
   "id": "e8feadeda9829b62",
   "execution_count": 26,
   "outputs": []
  },
  {
   "metadata": {
    "ExecuteTime": {
     "end_time": "2025-04-21T09:26:08.608392Z",
     "start_time": "2025-04-21T09:26:08.604304Z"
    }
   },
   "cell_type": "code",
   "source": "movements = detrended_movements",
   "id": "8a0fda22e97792c4",
   "execution_count": 27,
   "outputs": []
  },
  {
   "metadata": {
    "ExecuteTime": {
     "end_time": "2025-04-21T09:26:09.152847Z",
     "start_time": "2025-04-21T09:26:09.147770Z"
    }
   },
   "cell_type": "code",
   "source": "np.max(movements), np.min(movements), (np.max(movements) - np.min(movements)) /2, max(np.max(movements), -np.min(movements))",
   "id": "38cb2d42f8663f25",
   "execution_count": 28,
   "outputs": []
  },
  {
   "metadata": {
    "ExecuteTime": {
     "end_time": "2025-04-21T09:26:12.578480Z",
     "start_time": "2025-04-21T09:26:12.401247Z"
    }
   },
   "cell_type": "code",
   "source": [
    "# Example: X and Cumulative Movements (you can replace this with your actual data)\n",
    "x = np.arange(len(movements))\n",
    "\n",
    "max_m = np.max(movements)\n",
    "min_m = np.min(movements)\n",
    "freq = 2*10*np.pi / len(movements)\n",
    "\n",
    "custom_rotated_sinusoid = lambda x, A, C, D, theta: rotated_sinusoid(x, A, freq, C, D, theta)\n",
    "\n",
    "# Initial guess for parameters: [Amplitude, Frequency, Phase, Vertical shift, Rotation]\n",
    "initial_guesses = [(max_m - min_m)/2, 0, 0, 0]\n",
    "\n",
    "lower_bounds = [0, -np.pi, -100, -0.1]  # Set lower bounds\n",
    "upper_bounds = [max(max_m, -min_m), np.pi, +100, 0.1]  # Set upper bounds\n",
    "\n",
    "# Fit the model\n",
    "params, _ = curve_fit(custom_rotated_sinusoid, x, movements, p0=initial_guesses, bounds=(lower_bounds, upper_bounds), method='trf', maxfev=5000)\n",
    "\n",
    "# Extract fitted parameters\n",
    "A, C, D, theta = params\n",
    "print(f\"Amplitude: {A}, Frequency: {freq}, Phase: {C}, Vertical Shift: {D}, Theta: {theta}\")\n",
    "\n",
    "# Generate fitted rotated sinusoid\n",
    "fitted_rotated_sinusoid = rotated_sinusoid(x, A, freq, C, D, theta)\n",
    "\n",
    "# Plot the results\n",
    "plt.figure(figsize=(10, 5))\n",
    "plt.plot(x, movements, label=\"Cumulative Movements\")\n",
    "plt.plot(x, fitted_rotated_sinusoid, label=\"Fitted Rotated Sinusoid\", linestyle=\"--\")\n",
    "plt.legend()\n",
    "plt.xlabel(\"Stripe Index\")\n",
    "plt.ylabel(\"Movement\")\n",
    "plt.title(\"Fitting Rotated Sinusoidal Model to Cumulative Movements\")\n",
    "plt.grid(True)\n",
    "plt.show()"
   ],
   "id": "b0b3948b26c1d437",
   "execution_count": 29,
   "outputs": []
  },
  {
   "metadata": {
    "ExecuteTime": {
     "end_time": "2024-12-18T19:54:42.775175Z",
     "start_time": "2024-12-18T19:54:42.766851Z"
    }
   },
   "cell_type": "code",
   "source": [
    "paramses = np.array([\n",
    "    [9.00040753e+01, 9.38349060e-03, 2.12396875e-01, -8.40880181e+00, 2.51195940e-03],\n",
    "    [9.38787691e+01, 9.38349060e-03, 5.51766579e-01, -7.65523834e+00, 2.28684839e-03],\n",
    "    [9.35224777e+01, 9.38349060e-03, 8.87113839e-01, -5.67271539e+00, 1.69461090e-03],\n",
    "    [9.23255982e+01, 9.38349060e-03, 1.25561529e+00, -2.77189051e+00, 8.28047751e-04],\n",
    "    [9.22624425e+01, 9.38349060e-03, 1.61712754e+00, 3.66701536e-01, -1.09544894e-04],\n",
    "    [8.83773809e+01, 9.38349060e-03, 1.92729304e+00, 2.90773949e+00, -8.68629918e-04]\n",
    "])\n"
   ],
   "id": "a19007ae8f7ece03",
   "execution_count": 3,
   "outputs": []
  },
  {
   "metadata": {
    "ExecuteTime": {
     "end_time": "2024-12-14T15:58:42.277946Z",
     "start_time": "2024-12-14T15:58:42.269128Z"
    }
   },
   "cell_type": "code",
   "source": [
    "# Separate odd and even indexed rows\n",
    "even_rows = paramses[0::2]  # Rows with even indices (0, 2, 4, ...)\n",
    "odd_rows = paramses[1::2]   # Rows with odd indices (1, 3, 5, ...)\n",
    "\n",
    "# Calculate mean along axis=0\n",
    "mean_even = np.mean(even_rows, axis=0)\n",
    "mean_odd = np.mean(odd_rows, axis=0)\n",
    "\n",
    "print(\"Mean of even rows:\", mean_even)\n",
    "print(\"Mean of odd rows:\", mean_odd)"
   ],
   "id": "8bef9050887137b1",
   "execution_count": 24,
   "outputs": []
  },
  {
   "metadata": {
    "ExecuteTime": {
     "end_time": "2024-12-18T19:54:56.066851Z",
     "start_time": "2024-12-18T19:54:56.059099Z"
    }
   },
   "cell_type": "code",
   "source": "A, B, C, D, theta = np.median(paramses, axis=0)",
   "id": "6b31ca81cf3b62b1",
   "execution_count": 4,
   "outputs": []
  },
  {
   "metadata": {
    "ExecuteTime": {
     "end_time": "2024-12-18T19:54:56.590866Z",
     "start_time": "2024-12-18T19:54:56.578948Z"
    }
   },
   "cell_type": "code",
   "source": "A, B, C, D, theta",
   "id": "c438e48547d2d78",
   "execution_count": 5,
   "outputs": []
  },
  {
   "metadata": {
    "ExecuteTime": {
     "end_time": "2024-12-18T19:55:22.484066Z",
     "start_time": "2024-12-18T19:55:22.317902Z"
    }
   },
   "cell_type": "code",
   "source": [
    "phases = np.array(paramses)[:, 4]\n",
    "coefficients = np.polyfit(np.arange(6), phases, deg=1)\n",
    "linear_trend = np.polyval(coefficients, np.arange(6))\n",
    "# Plot to visualize detrending\n",
    "plt.figure(figsize=(10, 5))\n",
    "plt.plot(np.arange(6), phases, label=\"Original Data\")\n",
    "plt.plot(np.arange(6), linear_trend, label=\"Fitted Line (Trend)\")\n",
    "plt.legend()\n",
    "plt.xlabel(\"Stripe Index\")\n",
    "plt.ylabel(\"Movement\")\n",
    "plt.title(\"Detrending the Cumulative Movement\")\n",
    "plt.grid(True)\n",
    "plt.show()"
   ],
   "id": "9a4dd38dcd1eb0f1",
   "execution_count": 8,
   "outputs": []
  },
  {
   "metadata": {
    "ExecuteTime": {
     "end_time": "2024-12-13T09:58:13.195761Z",
     "start_time": "2024-12-13T09:58:13.189310Z"
    }
   },
   "cell_type": "code",
   "source": "np.roll([1,2,3], -1)",
   "id": "662ff3b3f93c2644",
   "execution_count": 153,
   "outputs": []
  },
  {
   "metadata": {
    "ExecuteTime": {
     "end_time": "2024-12-04T18:44:42.424703Z",
     "start_time": "2024-12-04T18:44:38.875532Z"
    }
   },
   "cell_type": "code",
   "source": [
    "# Define function to remove sinusoidal distortion (column-wise)\n",
    "def remove_sinusoidal_transformation(image, params):\n",
    "    A, B, C, D, theta = params\n",
    "    \n",
    "    # Create an empty output image\n",
    "    output_image = np.zeros_like(image)\n",
    "    \n",
    "    # Track the maximum shift\n",
    "    max_shift = 0\n",
    "    \n",
    "    # Loop over each column\n",
    "    for j in range(image.shape[1]):\n",
    "        # Calculate the vertical shift for this column based on the sinusoidal function\n",
    "        shift = sinusoid(j, A, B/10, C, D)\n",
    "        max_shift = max(max_shift, abs(shift))  # Update maximum shift\n",
    "        \n",
    "        # Shift the whole column\n",
    "        # Use np.roll to shift the column by the calculated value\n",
    "        new_column = np.roll(image[:, j], int(shift))\n",
    "        \n",
    "        # Assign the shifted column back to the output image\n",
    "        output_image[:, j] = new_column\n",
    "    \n",
    "    # Crop the image to remove the wrapped-around pixels\n",
    "    if max_shift > 0:\n",
    "        output_image = output_image[int(max_shift): -int(max_shift), :]\n",
    "    \n",
    "    return output_image\n",
    "\n",
    "image = cv2.imread(img_path, cv2.IMREAD_GRAYSCALE)\n",
    "# Apply the removal\n",
    "output_image = remove_sinusoidal_transformation(image, params)\n",
    "\n",
    "# Display the original and corrected image\n",
    "plt.figure(figsize=(16, 8))\n",
    "plt.subplot(2, 1, 1)\n",
    "plt.title(\"Original Image\")\n",
    "plt.imshow(image, cmap=\"gray\")\n",
    "plt.subplot(2, 1, 2)\n",
    "plt.title(\"Corrected Image\")\n",
    "plt.imshow(output_image, cmap=\"gray\")\n",
    "plt.show()\n"
   ],
   "id": "7989827b0aa6434a",
   "execution_count": 403,
   "outputs": []
  },
  {
   "metadata": {
    "ExecuteTime": {
     "end_time": "2024-12-04T18:16:24.741240Z",
     "start_time": "2024-12-04T18:16:24.735374Z"
    }
   },
   "cell_type": "code",
   "source": "",
   "id": "a2ce2153daa35ecf",
   "execution_count": null,
   "outputs": []
  }
 ],
 "metadata": {
  "kernelspec": {
   "display_name": "Python 3",
   "language": "python",
   "name": "python3"
  },
  "language_info": {
   "codemirror_mode": {
    "name": "ipython",
    "version": 2
   },
   "file_extension": ".py",
   "mimetype": "text/x-python",
   "name": "python",
   "nbconvert_exporter": "python",
   "pygments_lexer": "ipython2",
   "version": "2.7.6"
  }
 },
 "nbformat": 4,
 "nbformat_minor": 5
}
