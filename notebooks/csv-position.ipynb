{
 "cells": [
  {
   "cell_type": "code",
   "id": "5cf874472c18aa31",
   "metadata": {
    "collapsed": true,
    "ExecuteTime": {
     "end_time": "2024-07-18T05:59:50.803704Z",
     "start_time": "2024-07-18T05:59:50.790556Z"
    }
   },
   "source": [
    "import os\n",
    "import cv2\n",
    "import numpy as np\n",
    "from matplotlib import pyplot as plt\n",
    "from tqdm.auto import tqdm"
   ],
   "execution_count": 100,
   "outputs": []
  },
  {
   "metadata": {
    "ExecuteTime": {
     "end_time": "2024-07-18T05:59:50.894061Z",
     "start_time": "2024-07-18T05:59:50.890017Z"
    }
   },
   "cell_type": "code",
   "source": [
    "SRC = '/Users/fathe/OneDrive/Documents/UK/MFF/Thesis/input'\n",
    "LANDSCAPE = 1\n",
    "VIDEO = 4"
   ],
   "id": "initial_id",
   "execution_count": 101,
   "outputs": []
  },
  {
   "metadata": {
    "ExecuteTime": {
     "end_time": "2024-07-18T05:59:51.001778Z",
     "start_time": "2024-07-18T05:59:50.996552Z"
    }
   },
   "cell_type": "code",
   "source": "videos = [file for file in os.listdir(SRC) if file.endswith(\"MP4\") and file.startswith(\"GX\")]",
   "id": "2f14def074397b31",
   "execution_count": 102,
   "outputs": []
  },
  {
   "metadata": {
    "ExecuteTime": {
     "end_time": "2024-07-18T05:59:51.027921Z",
     "start_time": "2024-07-18T05:59:51.012300Z"
    }
   },
   "cell_type": "code",
   "source": "videos",
   "id": "b25e3f3317d6fa2",
   "execution_count": 103,
   "outputs": []
  },
  {
   "metadata": {
    "ExecuteTime": {
     "end_time": "2024-07-18T05:59:51.035739Z",
     "start_time": "2024-07-18T05:59:51.027921Z"
    }
   },
   "cell_type": "code",
   "source": [
    "def getCorners(gray_frame, **feature_params):\n",
    "    return cv2.goodFeaturesToTrack(gray_frame, **feature_params)"
   ],
   "id": "b246bff3b3608050",
   "execution_count": 104,
   "outputs": []
  },
  {
   "metadata": {
    "ExecuteTime": {
     "end_time": "2024-07-18T05:59:51.076219Z",
     "start_time": "2024-07-18T05:59:51.059788Z"
    }
   },
   "cell_type": "code",
   "source": [
    "vidcap = cv2.VideoCapture(os.path.join(SRC, videos[VIDEO]))\n",
    "frame = 100"
   ],
   "id": "b67f054766642846",
   "execution_count": 105,
   "outputs": []
  },
  {
   "metadata": {
    "ExecuteTime": {
     "end_time": "2024-07-18T05:59:51.088694Z",
     "start_time": "2024-07-18T05:59:51.076219Z"
    }
   },
   "cell_type": "code",
   "source": "vidcap.get(cv2.CAP_PROP_FPS)",
   "id": "6698db7ef5921862",
   "execution_count": 106,
   "outputs": []
  },
  {
   "metadata": {
    "ExecuteTime": {
     "end_time": "2024-07-18T05:59:51.719380Z",
     "start_time": "2024-07-18T05:59:51.091214Z"
    }
   },
   "cell_type": "code",
   "source": [
    "vidcap.set(cv2.CAP_PROP_POS_FRAMES, frame)\n",
    "status0, frame0 = vidcap.read()\n",
    "status1, frame1 = vidcap.read()"
   ],
   "id": "da361a51840eb09e",
   "execution_count": 107,
   "outputs": []
  },
  {
   "metadata": {
    "ExecuteTime": {
     "end_time": "2024-07-18T05:59:51.736578Z",
     "start_time": "2024-07-18T05:59:51.721387Z"
    }
   },
   "cell_type": "code",
   "source": [
    "frame0 = cv2.cvtColor(frame0, cv2.COLOR_BGR2GRAY)\n",
    "frame1 = cv2.cvtColor(frame1, cv2.COLOR_BGR2GRAY)\n",
    "width = int(vidcap.get(cv2.CAP_PROP_FRAME_WIDTH) / 8)\n",
    "height = int(vidcap.get(cv2.CAP_PROP_FRAME_HEIGHT) / 8)\n",
    "# frame0 = cv2.resize(frame0, (width, height))\n",
    "# frame1 = cv2.resize(frame1, (width, height))"
   ],
   "id": "211fbced85ffab22",
   "execution_count": 108,
   "outputs": []
  },
  {
   "metadata": {
    "ExecuteTime": {
     "end_time": "2024-07-18T05:59:51.744801Z",
     "start_time": "2024-07-18T05:59:51.736578Z"
    }
   },
   "cell_type": "code",
   "source": "frame1.shape",
   "id": "a212f9920fec98e9",
   "execution_count": 109,
   "outputs": []
  },
  {
   "metadata": {
    "ExecuteTime": {
     "end_time": "2024-07-18T05:59:53.218390Z",
     "start_time": "2024-07-18T05:59:51.746307Z"
    }
   },
   "cell_type": "code",
   "source": [
    "plt.figure(figsize=(15,5))\n",
    "ax = plt.subplot(121)\n",
    "ax.imshow(frame0, cmap='gray')\n",
    "ax.set_title(\"0\")\n",
    "ax = plt.subplot(122)\n",
    "ax.imshow(frame1, cmap='gray')\n",
    "ax.set_title(\"1\")"
   ],
   "id": "1061604a45f9c881",
   "execution_count": 110,
   "outputs": []
  },
  {
   "metadata": {
    "ExecuteTime": {
     "end_time": "2024-07-18T05:59:53.224866Z",
     "start_time": "2024-07-18T05:59:53.218390Z"
    }
   },
   "cell_type": "code",
   "source": [
    "lk_params = dict(winSize=(15, 15),\n",
    "                     maxLevel=2,\n",
    "                     criteria=(cv2.TERM_CRITERIA_EPS | cv2.TERM_CRITERIA_COUNT, 10, 0.03))\n",
    "feature_params = dict(maxCorners=100,\n",
    "                          qualityLevel=0.3,\n",
    "                          minDistance=7,\n",
    "                          blockSize=7)"
   ],
   "id": "eabdfa8d2d6f5e24",
   "execution_count": 111,
   "outputs": []
  },
  {
   "metadata": {
    "ExecuteTime": {
     "end_time": "2024-07-18T05:59:53.358388Z",
     "start_time": "2024-07-18T05:59:53.224866Z"
    }
   },
   "cell_type": "code",
   "source": [
    "corners = getCorners(frame0, **feature_params)\n",
    "# brisk = cv2.BRISK_create()\n",
    "# kp1, des1 = brisk.detectAndCompute(frame0,None)"
   ],
   "id": "bccfde2672201806",
   "execution_count": 112,
   "outputs": []
  },
  {
   "metadata": {
    "ExecuteTime": {
     "end_time": "2024-07-18T05:59:53.364803Z",
     "start_time": "2024-07-18T05:59:53.358388Z"
    }
   },
   "cell_type": "code",
   "source": "corners.shape",
   "id": "f193a74ed661ef38",
   "execution_count": 113,
   "outputs": []
  },
  {
   "metadata": {
    "ExecuteTime": {
     "end_time": "2024-07-18T05:59:53.385770Z",
     "start_time": "2024-07-18T05:59:53.364803Z"
    }
   },
   "cell_type": "code",
   "source": "p1, st, err = cv2.calcOpticalFlowPyrLK(frame0, frame1, corners, None, **lk_params)",
   "id": "17a128d4c8c03546",
   "execution_count": 114,
   "outputs": []
  },
  {
   "metadata": {
    "ExecuteTime": {
     "end_time": "2024-07-18T05:59:53.392448Z",
     "start_time": "2024-07-18T05:59:53.386704Z"
    }
   },
   "cell_type": "code",
   "source": "corners.shape[0], np.sum(st)",
   "id": "525d3935e564fc11",
   "execution_count": 115,
   "outputs": []
  },
  {
   "metadata": {
    "ExecuteTime": {
     "end_time": "2024-07-18T05:59:54.648480Z",
     "start_time": "2024-07-18T05:59:53.392448Z"
    }
   },
   "cell_type": "code",
   "source": [
    "frame0_copy = frame0.copy()\n",
    "for corner in corners:\n",
    "    x, y = corner[0]\n",
    "    cv2.circle(frame0_copy, (int(x), int(y)), 20, (0, 255, 0), 3)\n",
    "    \n",
    "frame1_copy = frame1.copy()\n",
    "for p in p1:\n",
    "    x, y = p[0]\n",
    "    cv2.circle(frame1_copy, (int(x), int(y)), 20, (0, 255, 0), 3)\n",
    "    \n",
    "plt.figure(figsize=(15,15))\n",
    "ax = plt.subplot(121)\n",
    "ax.imshow(frame0_copy, cmap='gray')\n",
    "ax = plt.subplot(122)\n",
    "ax.imshow(frame1_copy, cmap='gray')"
   ],
   "id": "501afb3e803c712a",
   "execution_count": 116,
   "outputs": []
  },
  {
   "metadata": {
    "ExecuteTime": {
     "end_time": "2024-07-18T05:59:54.654956Z",
     "start_time": "2024-07-18T05:59:54.650004Z"
    }
   },
   "cell_type": "code",
   "source": "movement_direction = np.mean(p1-corners, axis=0)",
   "id": "a950f4bd416587b6",
   "execution_count": 117,
   "outputs": []
  },
  {
   "metadata": {
    "ExecuteTime": {
     "end_time": "2024-07-18T05:59:54.666225Z",
     "start_time": "2024-07-18T05:59:54.655975Z"
    }
   },
   "cell_type": "code",
   "source": "np.mean(err), np.std(err), np.max(err)",
   "id": "9ea33d2b2f846b7e",
   "execution_count": 118,
   "outputs": []
  },
  {
   "metadata": {
    "ExecuteTime": {
     "end_time": "2024-07-18T05:59:54.674600Z",
     "start_time": "2024-07-18T05:59:54.666225Z"
    }
   },
   "cell_type": "code",
   "source": "movement_direction",
   "id": "af2f0a01114b4ec1",
   "execution_count": 119,
   "outputs": []
  },
  {
   "metadata": {
    "ExecuteTime": {
     "end_time": "2024-07-18T06:05:22.941194Z",
     "start_time": "2024-07-18T05:59:54.674600Z"
    }
   },
   "cell_type": "code",
   "source": [
    "p0s = []\n",
    "p1s = []\n",
    "sts = []\n",
    "errs = []\n",
    "vidcap.set(cv2.CAP_PROP_POS_FRAMES, frame)\n",
    "\n",
    "feature_params = dict(maxCorners=100,\n",
    "                      qualityLevel=0.3,\n",
    "                      minDistance=7,\n",
    "                      blockSize=7)\n",
    "\n",
    "lk_params = dict(winSize=(15, 15),\n",
    "                 maxLevel=2,\n",
    "                 criteria=(cv2.TERM_CRITERIA_EPS | cv2.TERM_CRITERIA_COUNT, 10, 0.03))\n",
    "\n",
    "ret, old_frame = vidcap.read()\n",
    "old_gray = cv2.cvtColor(old_frame, cv2.COLOR_BGR2GRAY)\n",
    "\n",
    "pbar = tqdm(total=2000, desc=f\"Extraction motion direction\")\n",
    "\n",
    "while vidcap.get(cv2.CAP_PROP_POS_FRAMES) <= 2100:\n",
    "    ret, frame = vidcap.read()\n",
    "    if not ret:\n",
    "        break\n",
    "    frame_gray = cv2.cvtColor(frame, cv2.COLOR_BGR2GRAY)\n",
    "    corners = getCorners(old_gray, **feature_params)\n",
    "\n",
    "    p1, st, err = cv2.calcOpticalFlowPyrLK(old_gray, frame_gray, corners, None, **lk_params)\n",
    "    p0s.append(corners)\n",
    "    p1s.append(p1)\n",
    "    sts.append(st)\n",
    "    errs.append(err)\n",
    "\n",
    "    old_gray = frame_gray\n",
    "\n",
    "    pbar.update(1)\n",
    "\n",
    "vidcap.release()\n",
    "pbar.close()"
   ],
   "id": "8502c2bddaec4557",
   "execution_count": 120,
   "outputs": []
  },
  {
   "metadata": {
    "ExecuteTime": {
     "end_time": "2024-07-18T06:05:22.947701Z",
     "start_time": "2024-07-18T06:05:22.943230Z"
    }
   },
   "cell_type": "code",
   "source": [
    "p0 = p0s[0]\n",
    "p1 = p1s[0]\n",
    "st = sts[0]"
   ],
   "id": "8497311d6d976602",
   "execution_count": 121,
   "outputs": []
  },
  {
   "metadata": {
    "ExecuteTime": {
     "end_time": "2024-07-18T06:05:22.956519Z",
     "start_time": "2024-07-18T06:05:22.949712Z"
    }
   },
   "cell_type": "code",
   "source": [
    "p0 = p0[st == 1]\n",
    "p1 = p1[st == 1]"
   ],
   "id": "c2742df271bde19c",
   "execution_count": 122,
   "outputs": []
  },
  {
   "metadata": {
    "ExecuteTime": {
     "end_time": "2024-07-18T06:05:22.972762Z",
     "start_time": "2024-07-18T06:05:22.958529Z"
    }
   },
   "cell_type": "code",
   "source": "p0.shape, np.max(p0, axis=0)",
   "id": "1c167d69938c8f8",
   "execution_count": 123,
   "outputs": []
  },
  {
   "metadata": {
    "ExecuteTime": {
     "end_time": "2024-07-18T06:05:22.981379Z",
     "start_time": "2024-07-18T06:05:22.974783Z"
    }
   },
   "cell_type": "code",
   "source": "p0[p0[:, LANDSCAPE-1] > 2000]",
   "id": "4a7fadf78369bc1b",
   "execution_count": 124,
   "outputs": []
  },
  {
   "metadata": {
    "ExecuteTime": {
     "end_time": "2024-07-18T06:05:22.989588Z",
     "start_time": "2024-07-18T06:05:22.983395Z"
    }
   },
   "cell_type": "code",
   "source": "frame1.shape[LANDSCAPE]/3",
   "id": "5a092bad1d0c4ee",
   "execution_count": 125,
   "outputs": []
  },
  {
   "metadata": {
    "ExecuteTime": {
     "end_time": "2024-07-18T06:05:23.345253Z",
     "start_time": "2024-07-18T06:05:22.991604Z"
    }
   },
   "cell_type": "code",
   "source": [
    "upper_moves = []\n",
    "center_moves = []\n",
    "lower_moves = []\n",
    "total_moves = []\n",
    "\n",
    "for p0, p1, st in zip(p0s, p1s, sts):\n",
    "    p0 = p0[st == 1]\n",
    "    p1 = p1[st == 1]\n",
    "    upper_points_p0 = p0[p0[:, LANDSCAPE-1] <= np.max(frame1.shape)/3]\n",
    "    upper_points_p1 = p1[p0[:, LANDSCAPE-1] <= np.max(frame1.shape)/3]\n",
    "    center_points_p0 = p0[(np.max(frame1.shape) / 3 < p0[:, LANDSCAPE-1]) & (p0[:, LANDSCAPE-1] <= 2 * np.max(frame1.shape) / 3)]\n",
    "    center_points_p1 = p1[(np.max(frame1.shape) / 3 < p0[:, LANDSCAPE-1]) & (p0[:, LANDSCAPE-1] <= 2 * np.max(frame1.shape) / 3)]\n",
    "    lower_points_p0 = p0[2*np.max(frame1.shape)/3 < p0[:, LANDSCAPE-1]]\n",
    "    lower_points_p1 = p1[2*np.max(frame1.shape)/3 < p0[:, LANDSCAPE-1]]\n",
    "    \n",
    "    upper_move = np.mean(upper_points_p1 - upper_points_p0, axis=0)\n",
    "    upper_moves.append(np.hstack((upper_move, upper_points_p0.shape[0])))\n",
    "    center_move = np.mean(center_points_p1 - center_points_p0, axis=0)\n",
    "    center_moves.append(np.hstack((center_move, center_points_p0.shape[0])))\n",
    "    lower_move = np.mean(lower_points_p1 - lower_points_p0, axis=0)\n",
    "    lower_moves.append(np.hstack((lower_move, lower_points_p0.shape[0])))\n",
    "    total_move = np.mean(p1-p0, axis=0)\n",
    "    total_moves.append(np.hstack((total_move, p0.shape[0])))"
   ],
   "id": "6da2a72dac70d512",
   "execution_count": 126,
   "outputs": []
  },
  {
   "metadata": {
    "ExecuteTime": {
     "end_time": "2024-07-18T06:05:23.364163Z",
     "start_time": "2024-07-18T06:05:23.346196Z"
    }
   },
   "cell_type": "code",
   "source": [
    "total_moves = np.asarray(total_moves)\n",
    "np.mean(total_moves[total_moves[:, 2] > 0], axis=0), np.median(total_moves[total_moves[:, 2] > 0], axis=0), np.std(total_moves[total_moves[:, 2] > 0], axis=0), np.argmax(total_moves[total_moves[:, 2] > 0], axis=0), np.argmin(total_moves[total_moves[:, 2] > 0], axis=0)"
   ],
   "id": "e94cede01760346a",
   "execution_count": 127,
   "outputs": []
  },
  {
   "metadata": {
    "ExecuteTime": {
     "end_time": "2024-07-18T06:23:16.904002Z",
     "start_time": "2024-07-18T06:23:16.897574Z"
    }
   },
   "cell_type": "code",
   "source": "total_moves[total_moves[:, 2] > 0][80]",
   "id": "74ba5bf62cf9dbb1",
   "execution_count": 140,
   "outputs": []
  },
  {
   "metadata": {
    "ExecuteTime": {
     "end_time": "2024-07-18T06:23:17.364395Z",
     "start_time": "2024-07-18T06:23:17.357106Z"
    }
   },
   "cell_type": "code",
   "source": "total_moves[total_moves[:, 2] > 0][1154]",
   "id": "f00ff27e05273cda",
   "execution_count": 141,
   "outputs": []
  },
  {
   "metadata": {
    "ExecuteTime": {
     "end_time": "2024-07-18T06:05:23.392124Z",
     "start_time": "2024-07-18T06:05:23.382344Z"
    }
   },
   "cell_type": "code",
   "source": [
    "upper_moves = np.asarray(upper_moves)\n",
    "np.mean(upper_moves[upper_moves[:, 2] > 0], axis=0), np.median(upper_moves[upper_moves[:, 2] > 0], axis=0), np.std(upper_moves[upper_moves[:, 2] > 0], axis=0), np.argmax(upper_moves[upper_moves[:, 2] > 0], axis=0), np.argmin(upper_moves[upper_moves[:, 2] > 0], axis=0)"
   ],
   "id": "1a68b341ebf19c67",
   "execution_count": 130,
   "outputs": []
  },
  {
   "metadata": {
    "ExecuteTime": {
     "end_time": "2024-07-18T06:05:23.399436Z",
     "start_time": "2024-07-18T06:05:23.393138Z"
    }
   },
   "cell_type": "code",
   "source": "upper_moves[upper_moves[:, 2] > 0][1823]",
   "id": "443fec46f00c4bb3",
   "execution_count": 131,
   "outputs": []
  },
  {
   "metadata": {
    "ExecuteTime": {
     "end_time": "2024-07-18T06:05:23.409906Z",
     "start_time": "2024-07-18T06:05:23.400596Z"
    }
   },
   "cell_type": "code",
   "source": "upper_moves[upper_moves[:, 2] > 0][730]",
   "id": "afbee54f36627a4e",
   "execution_count": 132,
   "outputs": []
  },
  {
   "metadata": {
    "ExecuteTime": {
     "end_time": "2024-07-18T06:05:23.420553Z",
     "start_time": "2024-07-18T06:05:23.410916Z"
    }
   },
   "cell_type": "code",
   "source": [
    "center_moves = np.asarray(center_moves)\n",
    "np.mean(center_moves[center_moves[:, 2] > 0], axis=0), np.median(center_moves[center_moves[:, 2] > 0], axis=0), np.std(center_moves[center_moves[:, 2] > 0], axis=0), np.argmax(center_moves[center_moves[:, 2] > 0], axis=0), np.argmin(center_moves[center_moves[:, 2] > 0], axis=0)"
   ],
   "id": "4792039f7f4847de",
   "execution_count": 133,
   "outputs": []
  },
  {
   "metadata": {
    "ExecuteTime": {
     "end_time": "2024-07-18T06:05:23.427249Z",
     "start_time": "2024-07-18T06:05:23.421570Z"
    }
   },
   "cell_type": "code",
   "source": "center_moves[center_moves[:, 2] > 0][1485]",
   "id": "24d58f14ad4b2ac1",
   "execution_count": 134,
   "outputs": []
  },
  {
   "metadata": {
    "ExecuteTime": {
     "end_time": "2024-07-18T06:05:23.435270Z",
     "start_time": "2024-07-18T06:05:23.427249Z"
    }
   },
   "cell_type": "code",
   "source": "center_moves[center_moves[:, 2] > 0][1395]",
   "id": "8594efb376db1f90",
   "execution_count": 135,
   "outputs": []
  },
  {
   "metadata": {
    "ExecuteTime": {
     "end_time": "2024-07-18T06:05:23.445063Z",
     "start_time": "2024-07-18T06:05:23.436559Z"
    }
   },
   "cell_type": "code",
   "source": [
    "lower_moves = np.asarray(lower_moves)\n",
    "np.mean(lower_moves[lower_moves[:, 2] > 0], axis=0), np.median(lower_moves[lower_moves[:, 2] > 0], axis=0), np.std(lower_moves[lower_moves[:, 2] > 0], axis=0), np.argmax(lower_moves[lower_moves[:, 2] > 0], axis=0), np.argmin(lower_moves[lower_moves[:, 2] > 0], axis=0)"
   ],
   "id": "82c2a80784106760",
   "execution_count": 136,
   "outputs": []
  },
  {
   "metadata": {
    "ExecuteTime": {
     "end_time": "2024-07-18T06:05:23.451357Z",
     "start_time": "2024-07-18T06:05:23.446088Z"
    }
   },
   "cell_type": "code",
   "source": "lower_moves[lower_moves[:, 2] > 0][1086]",
   "id": "b32f71d5d6ca7f78",
   "execution_count": 137,
   "outputs": []
  },
  {
   "metadata": {
    "ExecuteTime": {
     "end_time": "2024-07-18T06:05:23.460098Z",
     "start_time": "2024-07-18T06:05:23.452375Z"
    }
   },
   "cell_type": "code",
   "source": "lower_moves[lower_moves[:, 2] > 0][343]",
   "id": "3fdb928bc2b4d8e6",
   "execution_count": 138,
   "outputs": []
  },
  {
   "metadata": {
    "ExecuteTime": {
     "end_time": "2024-07-18T06:05:23.469690Z",
     "start_time": "2024-07-18T06:05:23.461109Z"
    }
   },
   "cell_type": "code",
   "source": [
    "np.save(os.path.join(SRC, videos[VIDEO]).replace(\".MP4\", \"-upper_moves.npy\"), upper_moves)\n",
    "np.save(os.path.join(SRC, videos[VIDEO]).replace(\".MP4\", \"-center_moves.npy\"), center_moves)\n",
    "np.save(os.path.join(SRC, videos[VIDEO]).replace(\".MP4\", \"-lower_moves.npy\"), lower_moves)\n",
    "np.save(os.path.join(SRC, videos[VIDEO]).replace(\".MP4\", \"-total_moves.npy\"), total_moves)"
   ],
   "id": "8b9aea2914c07a94",
   "execution_count": 139,
   "outputs": []
  }
 ],
 "metadata": {
  "kernelspec": {
   "display_name": "Python 3",
   "language": "python",
   "name": "python3"
  },
  "language_info": {
   "codemirror_mode": {
    "name": "ipython",
    "version": 2
   },
   "file_extension": ".py",
   "mimetype": "text/x-python",
   "name": "python",
   "nbconvert_exporter": "python",
   "pygments_lexer": "ipython2",
   "version": "2.7.6"
  }
 },
 "nbformat": 4,
 "nbformat_minor": 5
}
