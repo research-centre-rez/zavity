{
 "cells": [
  {
   "cell_type": "code",
   "id": "44df2ab70591b331",
   "metadata": {
    "collapsed": true,
    "ExecuteTime": {
     "end_time": "2024-07-31T07:40:01.244884Z",
     "start_time": "2024-07-31T07:40:01.239908Z"
    }
   },
   "source": [
    "import os\n",
    "from stl import mesh\n",
    "from mpl_toolkits import mplot3d\n",
    "from matplotlib import pyplot"
   ],
   "execution_count": 54,
   "outputs": []
  },
  {
   "metadata": {
    "ExecuteTime": {
     "end_time": "2024-07-31T07:40:01.258363Z",
     "start_time": "2024-07-31T07:40:01.254900Z"
    }
   },
   "cell_type": "code",
   "source": "SRC = '/Users/fathe/OneDrive/Documents/UK/MFF/Thesis/input'",
   "id": "70bb2f973f10b692",
   "execution_count": 55,
   "outputs": []
  },
  {
   "metadata": {
    "ExecuteTime": {
     "end_time": "2024-07-31T07:40:01.293328Z",
     "start_time": "2024-07-31T07:40:01.287920Z"
    }
   },
   "cell_type": "code",
   "source": "folders = [file for file in os.listdir(SRC) if file.startswith(\"H_\")]",
   "id": "3de059076a91a283",
   "execution_count": 56,
   "outputs": []
  },
  {
   "metadata": {
    "ExecuteTime": {
     "end_time": "2024-07-31T07:40:01.301422Z",
     "start_time": "2024-07-31T07:40:01.295352Z"
    }
   },
   "cell_type": "code",
   "source": [
    "scans = []\n",
    "for folder in folders:\n",
    "    scans.append(os.path.join(folder,[file for file in os.listdir(os.path.join(SRC, folder)) if file.endswith(\".stl\")][0]))"
   ],
   "id": "631331fdf0045bc3",
   "execution_count": 57,
   "outputs": []
  },
  {
   "metadata": {
    "ExecuteTime": {
     "end_time": "2024-07-31T07:40:01.310906Z",
     "start_time": "2024-07-31T07:40:01.303431Z"
    }
   },
   "cell_type": "code",
   "source": "scans",
   "id": "57b22f70ab682257",
   "execution_count": 58,
   "outputs": []
  },
  {
   "metadata": {
    "ExecuteTime": {
     "end_time": "2024-07-31T07:40:01.672013Z",
     "start_time": "2024-07-31T07:40:01.312910Z"
    }
   },
   "cell_type": "code",
   "source": "mesh = mesh.Mesh.from_file(os.path.join(SRC, scans[0]))",
   "id": "4201d5c9bda538de",
   "execution_count": 59,
   "outputs": []
  },
  {
   "metadata": {
    "ExecuteTime": {
     "end_time": "2024-07-31T07:40:01.680183Z",
     "start_time": "2024-07-31T07:40:01.673108Z"
    }
   },
   "cell_type": "code",
   "source": "mesh.v0[0], mesh.v1[0], mesh.v2[0]",
   "id": "50920dcbb019233",
   "execution_count": 60,
   "outputs": []
  },
  {
   "metadata": {
    "ExecuteTime": {
     "end_time": "2024-07-31T07:40:01.689251Z",
     "start_time": "2024-07-31T07:40:01.682237Z"
    }
   },
   "cell_type": "code",
   "source": "mesh.points[0]",
   "id": "9bd0676062feaa09",
   "execution_count": 61,
   "outputs": []
  },
  {
   "metadata": {
    "ExecuteTime": {
     "end_time": "2024-07-31T07:40:01.697943Z",
     "start_time": "2024-07-31T07:40:01.690269Z"
    }
   },
   "cell_type": "code",
   "source": "mesh.data[0]",
   "id": "b6035fe449cc06e6",
   "execution_count": 62,
   "outputs": []
  },
  {
   "metadata": {
    "ExecuteTime": {
     "end_time": "2024-07-31T07:40:01.827277Z",
     "start_time": "2024-07-31T07:40:01.698952Z"
    }
   },
   "cell_type": "code",
   "source": [
    "# Create a new plot\n",
    "figure = pyplot.figure()\n",
    "axes = figure.add_subplot(projection='3d')\n",
    "\n",
    "# Load the STL files and add the vectors to the plot\n",
    "your_mesh = mesh.Mesh.from_file(os.path.join(SRC, scans[0]))\n",
    "axes.add_collection3d(mplot3d.art3d.Poly3DCollection(your_mesh.vectors))\n",
    "\n",
    "# Auto scale to the mesh size\n",
    "scale = your_mesh.points.flatten()\n",
    "axes.auto_scale_xyz(scale, scale, scale)\n",
    "\n",
    "# Show the plot to the screen\n",
    "pyplot.show()"
   ],
   "id": "initial_id",
   "execution_count": 63,
   "outputs": []
  },
  {
   "metadata": {
    "ExecuteTime": {
     "end_time": "2024-07-31T07:56:09.535513Z",
     "start_time": "2024-07-31T07:56:09.447762Z"
    }
   },
   "cell_type": "code",
   "source": [
    "from stl import mesh\n",
    "import math\n",
    "import numpy\n",
    "\n",
    "# Create 3 faces of a cube\n",
    "data = numpy.zeros(6, dtype=mesh.Mesh.dtype)\n",
    "\n",
    "# Top of the cube\n",
    "data['vectors'][0] = numpy.array([[0, 1, 1],\n",
    "                                  [1, 0, 1],\n",
    "                                  [0, 0, 1]])\n",
    "data['vectors'][1] = numpy.array([[1, 0, 1],\n",
    "                                  [0, 1, 1],\n",
    "                                  [1, 1, 1]])\n",
    "# Front face\n",
    "data['vectors'][2] = numpy.array([[1, 0, 0],\n",
    "                                  [1, 0, 1],\n",
    "                                  [1, 1, 0]])\n",
    "data['vectors'][3] = numpy.array([[1, 1, 1],\n",
    "                                  [1, 0, 1],\n",
    "                                  [1, 1, 0]])\n",
    "# Left face\n",
    "data['vectors'][4] = numpy.array([[0, 0, 0],\n",
    "                                  [1, 0, 0],\n",
    "                                  [1, 0, 1]])\n",
    "data['vectors'][5] = numpy.array([[0, 0, 0],\n",
    "                                  [0, 0, 1],\n",
    "                                  [1, 0, 1]])\n",
    "\n",
    "# Since the cube faces are from 0 to 1 we can move it to the middle by\n",
    "# substracting .5\n",
    "data['vectors'] -= .5\n",
    "\n",
    "cube_back = mesh.Mesh(data.copy())\n",
    "cube_front = mesh.Mesh(data.copy())\n",
    "\n",
    "# Rotate 90 degrees over the X axis followed by the Y axis followed by the\n",
    "# X axis\n",
    "cube_back.rotate([0.5, 0.0, 0.0], math.radians(90))\n",
    "cube_back.rotate([0.0, 0.5, 0.0], math.radians(90))\n",
    "cube_back.rotate([0.5, 0.0, 0.0], math.radians(90))\n",
    "\n",
    "cube = mesh.Mesh(numpy.concatenate([\n",
    "    cube_back.data.copy(),\n",
    "    cube_front.data.copy(),\n",
    "]))\n",
    "\n",
    "# Optionally render the rotated cube faces\n",
    "from matplotlib import pyplot\n",
    "from mpl_toolkits import mplot3d\n",
    "\n",
    "# Create a new plot\n",
    "figure = pyplot.figure()\n",
    "axes = figure.add_subplot(projection='3d')\n",
    "\n",
    "# Render the cube\n",
    "axes.add_collection3d(mplot3d.art3d.Poly3DCollection(cube.vectors))\n",
    "\n",
    "# Auto scale to the mesh size\n",
    "scale = cube_back.points.flatten()\n",
    "axes.auto_scale_xyz(scale, scale, scale)\n",
    "\n",
    "# Show the plot to the screen\n",
    "pyplot.show()"
   ],
   "id": "9b0de380b68fa852",
   "execution_count": 91,
   "outputs": []
  },
  {
   "metadata": {},
   "cell_type": "code",
   "source": "",
   "id": "188fe87cc2054f50",
   "execution_count": null,
   "outputs": []
  }
 ],
 "metadata": {
  "kernelspec": {
   "display_name": "Python 3",
   "language": "python",
   "name": "python3"
  },
  "language_info": {
   "codemirror_mode": {
    "name": "ipython",
    "version": 2
   },
   "file_extension": ".py",
   "mimetype": "text/x-python",
   "name": "python",
   "nbconvert_exporter": "python",
   "pygments_lexer": "ipython2",
   "version": "2.7.6"
  }
 },
 "nbformat": 4,
 "nbformat_minor": 5
}
