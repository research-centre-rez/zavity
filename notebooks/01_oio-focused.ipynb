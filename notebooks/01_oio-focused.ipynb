{
 "cells": [
  {
   "cell_type": "markdown",
   "source": [
    "# Improved One Image Overview for screw-thread\n",
    "\n",
    "Algorithm is based on draft. Purpose of this notebook:\n",
    "- clean the previous notebook (move all to python files)\n",
    "- select different part of raw frame for blending"
   ],
   "metadata": {
    "collapsed": false
   },
   "id": "435c2335ca9d39f8"
  },
  {
   "cell_type": "code",
   "source": [
    "%cd .."
   ],
   "metadata": {
    "collapsed": false,
    "ExecuteTime": {
     "end_time": "2024-01-08T10:48:50.885825Z",
     "start_time": "2024-01-08T10:48:50.779109Z"
    }
   },
   "id": "eb3c17e2c847aed",
   "execution_count": 2,
   "outputs": []
  },
  {
   "cell_type": "code",
   "source": [
    "import os\n",
    "\n",
    "import cv2\n",
    "import imageio.v3 as iio\n",
    "import numpy as np\n",
    "\n",
    "import src.pipelines.oio_building_pipeline as oio_builder\n",
    "from src.config import *\n",
    "from src.steps.video_frame_lightness import VideoLightness\n",
    "import matplotlib.pyplot as plt\n",
    "from scipy.interpolate import RegularGridInterpolator\n",
    "from scipy.optimize import minimize"
   ],
   "metadata": {
    "collapsed": false,
    "ExecuteTime": {
     "end_time": "2024-01-08T10:48:53.497394Z",
     "start_time": "2024-01-08T10:48:51.832709Z"
    }
   },
   "id": "b9712e98ee94d115",
   "execution_count": 3,
   "outputs": []
  },
  {
   "cell_type": "code",
   "execution_count": 4,
   "id": "c3f67374-b45c-4b71-97f3-8936995f4fbf",
   "metadata": {
    "ExecuteTime": {
     "end_time": "2024-01-08T10:48:54.886593Z",
     "start_time": "2024-01-08T10:48:54.869551Z"
    }
   },
   "source": [
    "# processed folder\n",
    "SRC = '/Users/gimli/cvr/data/zavity/Cely_sken_3_110proc'"
   ],
   "outputs": []
  },
  {
   "cell_type": "code",
   "source": [
    "video_file_path = os.path.join(SRC, \"GX010968.MP4\")\n",
    "lightness = VideoLightness(video_file_path)\n",
    "lightness.process()\n",
    "\n",
    "vidcap = cv2.VideoCapture(video_file_path)\n",
    "\n",
    "rows = []\n",
    "for mn, mx in lightness.rows_frame_no_start_end():\n",
    "    start = mn + (mx - mn) // 2 - FRAMES_PER_360_DEG // 2\n",
    "    end = start + FRAMES_PER_360_DEG\n",
    "    \n",
    "    row = oio_builder.construct_row(vidcap, start, end)\n",
    "    rows.append(row)\n",
    "    iio.imwrite(video_file_path.replace(\".MP4\", f\"-oio-{start}-{end}.png\"), row.astype(np.uint8))"
   ],
   "metadata": {
    "collapsed": false,
    "ExecuteTime": {
     "end_time": "2024-01-08T10:49:03.959361Z",
     "start_time": "2024-01-08T10:48:56.110224Z"
    }
   },
   "id": "724fdf36c5c69410",
   "execution_count": 5,
   "outputs": []
  },
  {
   "cell_type": "markdown",
   "id": "aa139ba2-f23f-4350-970b-2e03bfeb963d",
   "metadata": {},
   "source": [
    "## Load images"
   ]
  },
  {
   "cell_type": "code",
   "execution_count": 6,
   "id": "4cd3f6d4-534f-40c0-bd83-ef24395a2eda",
   "metadata": {
    "ExecuteTime": {
     "end_time": "2024-01-08T10:49:11.724212Z",
     "start_time": "2024-01-08T10:49:07.194450Z"
    }
   },
   "source": [
    "rows_images = []\n",
    "for filename in sorted(os.listdir(SRC)):\n",
    "    if \"GX010968-oio-\" in filename and \"png\" in filename:\n",
    "        rows_images.append(iio.imread(os.path.join(SRC, filename)))"
   ],
   "outputs": []
  },
  {
   "cell_type": "code",
   "execution_count": 1,
   "id": "f6869e7a-50ac-493d-a71b-a9270a5e2bdd",
   "metadata": {
    "ExecuteTime": {
     "end_time": "2024-01-08T10:48:45.128378Z",
     "start_time": "2024-01-08T10:48:45.120263Z"
    }
   },
   "source": [
    "# registration by mutual information\n",
    "def mutual_information(imgA, imgB, bins=15):\n",
    "    # taken from https://matthew-brett.github.io/teaching/mutual_information.html    \n",
    "    hist_2d, x_edges, y_edges = np.histogram2d(\n",
    "         imgA.ravel(),\n",
    "         imgB.ravel(),\n",
    "         bins=bins\n",
    "    )\n",
    "    pxy = hist_2d / float(np.sum(hist_2d))\n",
    "    px = np.sum(pxy, axis=1) # marginal for x over y\n",
    "    py = np.sum(pxy, axis=0) # marginal for y over x\n",
    "    px_py = px[:, None] * py[None, :] # Broadcast to multiply marginals\n",
    "    \n",
    "    # Now we can do the calculation using the pxy, px_py 2D arrays\n",
    "    nzs = pxy > 0 # Only non-zero pxy values contribute to the sum\n",
    "    return np.sum(pxy[nzs] * np.log(pxy[nzs] / px_py[nzs]))\n",
    "\n",
    "def extract_images_and_compute_mi(shift, imgA, imgB, seed_position):    \n",
    "    x = np.arange(seed_position[1, 0] + shift[0], seed_position[1, 0] + shift[0] + 399.5)\n",
    "    y = np.arange(seed_position[1, 1] + shift[1], seed_position[1, 1] + shift[1] + 599.5)    \n",
    "    xg, yg = np.meshgrid(x, y)\n",
    "    interp = RegularGridInterpolator((np.arange(imgB.shape[0]), np.arange(imgB.shape[1])), imgB)\n",
    "    return -mutual_information(\n",
    "        imgA[seed_position[0, 0]: seed_position[0, 0] + 400, \n",
    "             seed_position[0, 1]: seed_position[0, 1] + 600].T,         \n",
    "        interp((xg, yg))\n",
    "    )\n",
    "\n",
    "def to_minimize(x):\n",
    "    return extract_images_and_compute_mi(shift=x, imgA=imgA, imgB=imgB, seed_position=seed_position)\n",
    "\n",
    "def show_images(imgA, imgB, seed_position, shift):\n",
    "    plt.figure(figsize=(15,5))\n",
    "    ax = plt.subplot(131)\n",
    "    ax.imshow(imgA[seed_position[0, 0]: seed_position[0, 0] + 400, \n",
    "                   seed_position[0, 1]: seed_position[0, 1] + 600].T, cmap=\"gray\")\n",
    "    ax.set_title(\"Fixed\")\n",
    "\n",
    "    x = np.arange(seed_position[1, 0] + shift[0], seed_position[1, 0] + shift[0] + 399.5)\n",
    "    y = np.arange(seed_position[1, 1] + shift[1], seed_position[1, 1] + shift[1] + 599.5)    \n",
    "    xg, yg = np.meshgrid(x, y)\n",
    "    interp = RegularGridInterpolator((np.arange(imgB.shape[0]), np.arange(imgB.shape[1])), imgB)\n",
    "    \n",
    "    ax = plt.subplot(132)\n",
    "    ax.imshow(interp((xg, yg)), cmap=\"gray\")\n",
    "    ax.set_title(\"Moved\")\n",
    "\n",
    "    ax = plt.subplot(133)\n",
    "    ax.imshow(imgA[seed_position[0, 0]: seed_position[0, 0] + 400, \n",
    "                   seed_position[0, 1]: seed_position[0, 1] + 600].T + interp((xg, yg)), cmap=\"gray\")\n",
    "    ax.set_title(\"Blend\")\n",
    "    plt.show()\n",
    "               "
   ],
   "outputs": []
  },
  {
   "cell_type": "code",
   "execution_count": 9,
   "id": "87ae1432-d9ea-4f99-a831-4d96959f2ef6",
   "metadata": {
    "ExecuteTime": {
     "end_time": "2024-01-04T07:11:22.718864Z",
     "start_time": "2024-01-04T07:11:22.670065Z"
    }
   },
   "source": [
    "physics = {\n",
    "    \"roll\":  np.round(rows_images[0].shape[1] * 0.1).astype(int) + 40,\n",
    "    \"scan_shift\": 2160 // 2 + 30,\n",
    "    \"screw_thread_distance\": 400,\n",
    "    \"first_frame\": [1500, 300]\n",
    "}"
   ],
   "outputs": []
  },
  {
   "cell_type": "code",
   "source": [
    "plt.figure(figsize=(15,5))\n",
    "plt.imshow(rows_images[0][1500:1900,300:700], cmap=\"gray\", )\n",
    "plt.show()"
   ],
   "metadata": {
    "collapsed": false,
    "ExecuteTime": {
     "end_time": "2024-01-08T11:37:56.244645Z",
     "start_time": "2024-01-08T11:37:55.486589Z"
    }
   },
   "id": "21036dd8d272589c",
   "execution_count": 13,
   "outputs": []
  },
  {
   "cell_type": "code",
   "execution_count": null,
   "id": "d98e4c03-c55c-4db0-a415-2a0e49481f08",
   "metadata": {
    "ExecuteTime": {
     "start_time": "2024-01-04T07:12:38.202202Z"
    }
   },
   "source": [
    "first_frame = physics[\"first_frame\"]\n",
    "scan_shift = physics[\"scan_shift\"]\n",
    "roll = physics[\"roll\"]\n",
    "\n",
    "seed_position = np.array([first_frame, [first_frame[0] - scan_shift, first_frame[1] - roll]]).astype(int)\n",
    "imgA = rows_images[0]\n",
    "imgB = rows_images[1]\n",
    "s1 = minimize(to_minimize, x0=np.array([0, 0]), method='COBYLA', bounds=[(-10, +10),(-10, 10)])"
   ],
   "outputs": []
  },
  {
   "cell_type": "code",
   "execution_count": 13,
   "id": "2d9ef2ec-232f-47b0-8c3d-550fdbaf1542",
   "metadata": {
    "ExecuteTime": {
     "end_time": "2024-01-04T07:11:48.760076Z",
     "start_time": "2024-01-04T07:11:48.612237Z"
    }
   },
   "source": [
    "s1"
   ],
   "outputs": []
  },
  {
   "cell_type": "code",
   "execution_count": 19,
   "id": "4dc3d805-c0f2-4264-a9a3-35b4d00574a1",
   "metadata": {
    "ExecuteTime": {
     "end_time": "2024-01-04T07:05:47.797311Z",
     "start_time": "2024-01-04T07:05:47.393452Z"
    }
   },
   "source": [
    "show_images(imgA, imgB, seed_position, s1.x)"
   ],
   "outputs": []
  },
  {
   "cell_type": "code",
   "execution_count": 10,
   "id": "c4887237-9bd1-4e07-8706-6fba68e28576",
   "metadata": {},
   "source": [
    "screw_thread_distance = physics[\"screw_thread_distance\"]\n",
    "seed_position = np.array([[first_frame[0] - scan_shift + 2 * screw_thread_distance, first_frame[1] - roll],\n",
    "                          [first_frame[0] - 2 * scan_shift + 2 * screw_thread_distance, first_frame[1] - 2 * roll]]).astype(int)\n",
    "imgA = rows_images[1]\n",
    "imgB = rows_images[2]\n",
    "s2 = minimize(to_minimize, x0=[0,30], method='COBYLA', bounds=[(-10, 10),(-10, 40)])"
   ],
   "outputs": []
  },
  {
   "cell_type": "code",
   "execution_count": 11,
   "id": "eea489dd-c8cd-4c09-807a-542228266235",
   "metadata": {},
   "source": [
    "s2"
   ],
   "outputs": []
  },
  {
   "cell_type": "code",
   "execution_count": 12,
   "id": "16fc48df-9b7e-4aed-a12b-606a6c34bc52",
   "metadata": {},
   "source": [
    "show_images(imgA, imgB, seed_position, s2.x)"
   ],
   "outputs": []
  },
  {
   "cell_type": "code",
   "execution_count": 18,
   "id": "ac0861d5-5914-4f58-b76f-4491f845edc2",
   "metadata": {},
   "source": [
    "[[first_frame[0] - 2 * scan_shift + 5 * screw_thread_distance, first_frame[1] - 2 * roll], [first_frame[0] - 3 * scan_shift + 5 * screw_thread_distance, first_frame[1] - 3 * roll]]"
   ],
   "outputs": []
  },
  {
   "cell_type": "code",
   "execution_count": 60,
   "id": "f3980792-05a6-4213-9876-e6e44da9abd7",
   "metadata": {},
   "source": [
    "seed_position = np.array([[first_frame[0] - 2 * scan_shift + 5 * screw_thread_distance, first_frame[1] - 2 * roll],\n",
    "                          [first_frame[0] - 3 * scan_shift + 5 * screw_thread_distance, first_frame[1] - 3 * roll]]).astype(int)\n",
    "imgA = rows_images[2]\n",
    "imgB = rows_images[3]\n",
    "s3 = minimize(to_minimize, x0=[0, 0], method='Powell', bounds=[(-10, 10),(-10, 40)])"
   ],
   "outputs": []
  },
  {
   "cell_type": "code",
   "execution_count": 61,
   "id": "5614fa1c-25e2-400e-830c-01fc6b244102",
   "metadata": {},
   "source": [
    "s3"
   ],
   "outputs": []
  },
  {
   "cell_type": "code",
   "execution_count": 62,
   "id": "a17bd37f-04ed-40ed-af27-33a23dd89ac5",
   "metadata": {},
   "source": [
    "show_images(imgA, imgB, seed_position, s3.x)"
   ],
   "outputs": []
  },
  {
   "cell_type": "code",
   "execution_count": 55,
   "id": "e51a6587-55f1-4b60-b345-90452c08fea3",
   "metadata": {},
   "source": [
    "[[first_frame[0] - 3 * scan_shift + 9 * screw_thread_distance, first_frame[1] - 3 * roll],\n",
    "                          [first_frame[0] - 4 * scan_shift + 9 * screw_thread_distance, first_frame[1] - 4 * roll]]"
   ],
   "outputs": []
  },
  {
   "cell_type": "code",
   "execution_count": 57,
   "id": "62b33ff2-703f-4e32-a67a-6ccc26861f60",
   "metadata": {},
   "source": [
    "seed_position = np.array([[first_frame[0] - 3 * scan_shift + 8 * screw_thread_distance, first_frame[1] - 3 * roll],\n",
    "                          [first_frame[0] - 4 * scan_shift + 8 * screw_thread_distance, first_frame[1] - 4 * roll]]).astype(int)\n",
    "imgA = rows_images[3]\n",
    "imgB = rows_images[4]\n",
    "s4 = minimize(to_minimize, x0=[0, 0], method='Powell', bounds=[(-10, 10),(-10, 40)])"
   ],
   "outputs": []
  },
  {
   "cell_type": "code",
   "execution_count": 58,
   "id": "5320c81e-bccc-464f-8899-c4594acc5345",
   "metadata": {},
   "source": [
    "s4"
   ],
   "outputs": []
  },
  {
   "cell_type": "code",
   "execution_count": 59,
   "id": "faa001e0-5385-4fa5-8aee-a65f34f3e396",
   "metadata": {},
   "source": [
    "show_images(imgA, imgB, seed_position, s4.x)"
   ],
   "outputs": []
  },
  {
   "cell_type": "code",
   "execution_count": 67,
   "id": "f27b5ce8-06e6-4e5e-98c5-b92d56d4c8d4",
   "metadata": {},
   "source": [
    "[[first_frame[0] - 4 * scan_shift + 11 * screw_thread_distance, first_frame[1] - 4 * roll],\n",
    " [first_frame[0] - 5 * scan_shift + 11 * screw_thread_distance, first_frame[1] - 5 * roll]]"
   ],
   "outputs": []
  },
  {
   "cell_type": "code",
   "execution_count": 76,
   "id": "dab0ee2f-b874-4bb0-8041-eff0f405aa8a",
   "metadata": {},
   "source": [
    "seed_position = np.array([[first_frame[0] - 4 * scan_shift + 11 * screw_thread_distance, first_frame[1] - 4 * roll],\n",
    "                          [first_frame[0] - 5 * scan_shift + 11 * screw_thread_distance, first_frame[1] - 5 * roll]]).astype(int)\n",
    "imgA = rows_images[4]\n",
    "imgB = rows_images[5]\n",
    "s5 = minimize(to_minimize, x0=[0, 0], method='Powell', bounds=[(-10, 10),(-10, 40)])"
   ],
   "outputs": []
  },
  {
   "cell_type": "code",
   "execution_count": 77,
   "id": "84bc330c-54ad-4ede-b7d9-de1bece36ee5",
   "metadata": {},
   "source": [
    "s5"
   ],
   "outputs": []
  },
  {
   "cell_type": "code",
   "execution_count": 78,
   "id": "e483b217-fc25-4526-bbbb-a138ede32bc2",
   "metadata": {},
   "source": [
    "show_images(imgA, imgB, seed_position, s5.x)"
   ],
   "outputs": []
  },
  {
   "cell_type": "code",
   "execution_count": 71,
   "id": "70ae82b6-8906-4b62-aecb-81908ea7782d",
   "metadata": {},
   "source": [
    "[[first_frame[0] - 5 * scan_shift + 13 * screw_thread_distance, first_frame[1] - 5 * roll],\n",
    " [first_frame[0] - 6 * scan_shift + 13 * screw_thread_distance, first_frame[1] - 6 * roll]]"
   ],
   "outputs": []
  },
  {
   "cell_type": "code",
   "execution_count": 73,
   "id": "73701c9b-5c8a-45e8-b19b-81b2ebcfd631",
   "metadata": {},
   "source": [
    "seed_position = np.array([[first_frame[0] - 5 * scan_shift + 13 * screw_thread_distance, first_frame[1] - 5 * roll],\n",
    "                          [first_frame[0] - 6 * scan_shift + 13 * screw_thread_distance, first_frame[1] - 6 * roll]]).astype(int)\n",
    "imgA = rows_images[5]\n",
    "imgB = rows_images[6]\n",
    "s6 = minimize(to_minimize, x0=[0, 0], method='Powell', bounds=[(-10, 10),(-10, 40)])"
   ],
   "outputs": []
  },
  {
   "cell_type": "code",
   "execution_count": 74,
   "id": "2b95eea1-8b20-4bd6-9757-c8aff38355a0",
   "metadata": {},
   "source": [
    "s6"
   ],
   "outputs": []
  },
  {
   "cell_type": "code",
   "execution_count": 75,
   "id": "65c0314e-af5f-4ec4-82b8-76d1aa646bf0",
   "metadata": {},
   "source": [
    "show_images(imgA, imgB, seed_position, s6.x)"
   ],
   "outputs": []
  },
  {
   "cell_type": "code",
   "execution_count": 84,
   "id": "5db88628-0813-4224-9cb3-03d4075c362d",
   "metadata": {},
   "source": [
    "shift_fixes = np.array([s1.x, s2.x, s3.x, s4.x, s5.x, s6.x])"
   ],
   "outputs": []
  },
  {
   "cell_type": "markdown",
   "id": "cee403b9-72de-423e-a99b-3a0513c6f0c1",
   "metadata": {},
   "source": [
    "## Merge\n",
    "\n",
    "- sesbírat posun per row\n",
    "- aggregovats `sn.x`\n",
    "- provést roll každé otočky + interpolaci\n",
    "- vyrobit váhovou matici pro překryv\n",
    "- vynásobit / flatnout"
   ]
  },
  {
   "cell_type": "code",
   "execution_count": 81,
   "id": "287dd0ea-1231-45e0-8123-9ec5314b21b9",
   "metadata": {},
   "source": [
    "shift_seed = []\n",
    "shift_seed.append(np.array([first_frame, [first_frame[0] - scan_shift, first_frame[1] - roll]]).astype(int))\n",
    "shift_seed.append(np.array([[first_frame[0] - scan_shift + 2 * screw_thread_distance, first_frame[1] - roll],\n",
    "                            [first_frame[0] - 2 * scan_shift + 2 * screw_thread_distance, first_frame[1] - 2 * roll]]).astype(int))\n",
    "shift_seed.append(np.array([[first_frame[0] - 2 * scan_shift + 5 * screw_thread_distance, first_frame[1] - 2 * roll],\n",
    "                            [first_frame[0] - 3 * scan_shift + 5 * screw_thread_distance, first_frame[1] - 3 * roll]]).astype(int))\n",
    "shift_seed.append(np.array([[first_frame[0] - 3 * scan_shift + 8 * screw_thread_distance, first_frame[1] - 3 * roll],\n",
    "                            [first_frame[0] - 4 * scan_shift + 8 * screw_thread_distance, first_frame[1] - 4 * roll]]).astype(int))\n",
    "shift_seed.append(np.array([[first_frame[0] - 4 * scan_shift + 11 * screw_thread_distance, first_frame[1] - 4 * roll],\n",
    "                            [first_frame[0] - 5 * scan_shift + 11 * screw_thread_distance, first_frame[1] - 5 * roll]]).astype(int))\n",
    "shift_seed.append(np.array([[first_frame[0] - 5 * scan_shift + 13 * screw_thread_distance, first_frame[1] - 5 * roll],\n",
    "                            [first_frame[0] - 6 * scan_shift + 13 * screw_thread_distance, first_frame[1] - 6 * roll]]).astype(int))"
   ],
   "outputs": []
  },
  {
   "cell_type": "code",
   "execution_count": 87,
   "id": "f8319bf9-11f5-45a6-b6df-55d3646c4824",
   "metadata": {},
   "source": [
    "per_row_shift = np.array([seed[0, :] - seed[1, :] - fix for seed, fix in zip(shift_seed, shift_fixes)])"
   ],
   "outputs": []
  },
  {
   "cell_type": "code",
   "execution_count": 89,
   "id": "aa1392d1-4d63-4d0a-a069-124ffdca31dd",
   "metadata": {},
   "source": [
    "per_row_shift"
   ],
   "outputs": []
  },
  {
   "cell_type": "code",
   "execution_count": 112,
   "id": "0c831302-da9b-4c47-afeb-0662bd4cdbf6",
   "metadata": {},
   "source": [
    "def real_roll(array, shift, axis=0):    \n",
    "        double_image = np.concatenate([array, array], axis=1)\n",
    "    interp = RegularGridInterpolator(\n",
    "        (np.arange(double_image.shape[0]), np.arange(double_image.shape[1])), \n",
    "        double_image\n",
    "    )\n",
    "    if shift > 0:\n",
    "        y = np.arange(shift, shift + array.shape[1] - 0.5, 1)\n",
    "    else:\n",
    "        y = np.arange(shift + array.shape[1], 2 * array.shape[1] + shift - 0.5, 1)    \n",
    "    x = np.arange(array.shape[0])    \n",
    "    xg, yg = np.meshgrid(x, y)    \n",
    "    return interp((xg, yg)).T"
   ],
   "outputs": []
  },
  {
   "cell_type": "code",
   "execution_count": 114,
   "id": "23e943ac-8878-48ab-8420-2c4662149f1b",
   "metadata": {},
   "source": [
    "# Test of the real roll function\n",
    "plt.figure(figsize=(15,4))\n",
    "ax = plt.subplot(211)\n",
    "ax.imshow(real_roll(rows_images[1], per_row_shift[0,1]), cmap=\"gray\")\n",
    "ax.set_title(\"Rolled\")\n",
    "ax = plt.subplot(212)\n",
    "ax.imshow(rows_images[1], cmap=\"gray\")\n",
    "ax.set_title(\"Original row 1\")\n",
    "plt.show()"
   ],
   "outputs": []
  },
  {
   "cell_type": "code",
   "execution_count": 119,
   "id": "5dbad42e-ac42-4340-9cb3-57f7b54f3d3e",
   "metadata": {},
   "source": [
    "rows_images[0].shape"
   ],
   "outputs": []
  },
  {
   "cell_type": "code",
   "execution_count": 170,
   "id": "c3c71148-e353-4e09-92c2-bee6cdec2224",
   "metadata": {},
   "source": [
    "rolled = []\n",
    "# Roll all rows as required and plot them\n",
    "plt.figure(figsize=(15,14))\n",
    "ax = plt.subplot(7, 1, 1)\n",
    "ax.imshow(rows_images[0], cmap=\"gray\")\n",
    "rolled.append(rows_images[0])\n",
    "for en, row_shift in enumerate(np.cumsum(-per_row_shift[:,1])):\n",
    "    ax = plt.subplot(7, 1, en+2)\n",
    "    rolled.append(real_roll(rows_images[en + 1], row_shift % rows_images[en + 1].shape[1]))\n",
    "    ax.imshow(rolled[-1], cmap=\"gray\")\n",
    "    ax.set_title(f\"Row {en + 1}, shift: {row_shift % rows_images[en + 1].shape[1]}\")\n",
    "plt.show()"
   ],
   "outputs": []
  },
  {
   "cell_type": "code",
   "execution_count": 171,
   "id": "3b7eb11a-4758-4a78-9173-431382c7148f",
   "metadata": {},
   "source": [
    "# merge rows"
   ],
   "outputs": []
  },
  {
   "cell_type": "code",
   "execution_count": 179,
   "id": "373e0cd2-2037-467a-a739-15c9932572d1",
   "metadata": {},
   "source": [
    "to_grid = [rolled[0]]\n",
    "real_shift = [0]\n",
    "for image, shift in tqdm(zip(rolled[1:], np.cumsum(per_row_shift[:,0])), total=per_row_shift.shape[0]):\n",
    "    interp = RegularGridInterpolator(\n",
    "        (np.arange(image.shape[0]), np.arange(image.shape[1])), \n",
    "        image\n",
    "    )\n",
    "    x = np.arange(image.shape[0] - 1)\n",
    "    y = np.arange(image.shape[1])\n",
    "    xg, yg = np.meshgrid(x,y)\n",
    "    to_grid.append(interp((xg, yg)).T)\n",
    "    real_shift.append(int(shift // 1))\n"
   ],
   "outputs": []
  },
  {
   "cell_type": "code",
   "execution_count": 194,
   "id": "3d716539-c6bf-4f9a-b1e8-85290c78ccaf",
   "metadata": {},
   "source": [
    "out_height = rolled[0].shape[0] + np.max(real_shift)"
   ],
   "outputs": []
  },
  {
   "cell_type": "code",
   "execution_count": 195,
   "id": "04d85721-a443-41b0-b168-fefd8b1c7dde",
   "metadata": {},
   "source": [
    "full_image = np.zeros((out_height, rolled[0].shape[1], len(rolled)))\n",
    "for en, (image, r_shift) in enumerate(zip(to_grid, real_shift)):\n",
    "    full_image[r_shift: r_shift + image.shape[0], :, en] = image"
   ],
   "outputs": []
  },
  {
   "cell_type": "code",
   "execution_count": 248,
   "id": "f27c2d87-2e25-4f83-a7f1-2ec64b64ee87",
   "metadata": {},
   "source": [
    "blend_matrix = np.zeros((out_height, to_grid[0].shape[1], len(to_grid)))\n",
    "\n",
    "blend_matrix[:real_shift[1], :, 0] += 1\n",
    "lin_blend = np.dot(np.arange(0, 1, 1/(to_grid[0].shape[0] - real_shift[1])).reshape(-1, 1), \n",
    "                   np.ones((to_grid[0].shape[1],1)).T)\n",
    "blend_matrix[real_shift[1]: to_grid[0].shape[0], :, 0] += np.flipud(lin_blend)\n",
    "blend_matrix[real_shift[1]: to_grid[0].shape[0], :, 1] += lin_blend\n",
    "\n",
    "for en, (image, r_shift) in enumerate(list(zip(to_grid, real_shift))[:-2]):\n",
    "    blend_matrix[real_shift[en] + to_grid[en].shape[0]: real_shift[en + 2], :, en + 1] += 1\n",
    "    lin_blend = np.dot(np.arange(0, 1, 1/(to_grid[en + 1].shape[0] + real_shift[en + 1] - real_shift[en + 2])).reshape(-1, 1), \n",
    "                       np.ones((to_grid[en + 1].shape[1],1)).T)\n",
    "    blend_matrix[real_shift[en + 2]: to_grid[en + 1].shape[0] + real_shift[en + 1], :, en + 1] += np.flipud(lin_blend)\n",
    "    blend_matrix[real_shift[en + 2]: to_grid[en + 1].shape[0] + real_shift[en + 1], :, en + 2] += lin_blend\n",
    "\n",
    "blend_matrix[to_grid[en + 1].shape[0] + real_shift[en + 1]:, :, -1] += 1"
   ],
   "outputs": []
  },
  {
   "cell_type": "code",
   "execution_count": 260,
   "id": "6fc5aa5c-2bc0-484d-9652-a3e192a6294d",
   "metadata": {},
   "source": [
    "blended_full_image = np.sum(full_image * blend_matrix, axis=2) / np.sum(blend_matrix, axis=2)"
   ],
   "outputs": []
  },
  {
   "cell_type": "markdown",
   "id": "fdd73503-faed-48ea-a1c2-7f47747162e6",
   "metadata": {},
   "source": [
    "## Conclusion - Image READY"
   ]
  },
  {
   "cell_type": "code",
   "execution_count": 263,
   "id": "035da9ce-b476-4f05-8673-077d316a05c1",
   "metadata": {},
   "source": [
    "iio.imwrite(os.path.join(SRC, \"oio.png\"), blended_full_image.astype(np.uint8))"
   ],
   "outputs": []
  },
  {
   "cell_type": "markdown",
   "id": "3581e439-fc70-41bc-bc70-a8f41577d11d",
   "metadata": {},
   "source": [
    "# Rotate to diff"
   ]
  },
  {
   "cell_type": "code",
   "execution_count": 269,
   "id": "65f6898b-2f86-4c1e-b0c1-2889f547f3c7",
   "metadata": {},
   "source": [
    "edges = cv2.Canny(blended_full_image.astype(np.uint8),80,200)"
   ],
   "outputs": []
  },
  {
   "cell_type": "code",
   "execution_count": 270,
   "id": "bf56cc9a-ffb7-4ac0-a842-a303d88804cc",
   "metadata": {},
   "source": [
    "plt.figure(figsize=(15,8))\n",
    "plt.imshow(edges, cmap=\"gray\")\n",
    "plt.show()"
   ],
   "outputs": []
  },
  {
   "cell_type": "code",
   "execution_count": 285,
   "id": "efecefee-5838-4de3-aa6d-ab85fd6e3a7a",
   "metadata": {
    "ExecuteTime": {
     "end_time": "2024-01-02T08:38:54.024500Z",
     "start_time": "2024-01-02T08:38:53.362774Z"
    }
   },
   "source": [
    "lines = cv2.HoughLines(edges, 10, np.pi/1800, 1, min_theta=4/5 * np.pi, max_theta=np.pi)\n"
   ],
   "outputs": []
  },
  {
   "cell_type": "code",
   "execution_count": 286,
   "id": "ea959a20-9746-4039-9639-0cba7205d52c",
   "metadata": {
    "ExecuteTime": {
     "end_time": "2024-01-02T08:38:55.223478Z",
     "start_time": "2024-01-02T08:38:54.943963Z"
    }
   },
   "source": [
    "plt.plot(lines[:,0,1])\n",
    "plt.show()"
   ],
   "outputs": []
  },
  {
   "cell_type": "markdown",
   "id": "1268c20a-985e-4f37-98e6-267599168caf",
   "metadata": {},
   "source": [
    "### Odbočka - copak je v GPMF datech"
   ]
  },
  {
   "cell_type": "code",
   "execution_count": 106,
   "id": "401af268-cb3b-4c81-9124-24f4103f8e94",
   "metadata": {},
   "source": [
    "import gpmf\n",
    "from scipy.ndimage import gaussian_filter1d as gaussian\n",
    "from scipy.signal import butter, sosfilt"
   ],
   "outputs": []
  },
  {
   "cell_type": "code",
   "execution_count": 31,
   "id": "13917e12-e134-4a18-a372-625b87ec1a6e",
   "metadata": {},
   "source": [
    "gpmf_stream = gpmf.io.extract_gpmf_stream(os.path.join(SRC, videos[0]))"
   ],
   "outputs": []
  },
  {
   "cell_type": "code",
   "execution_count": 32,
   "id": "b32de284-ba08-422d-98ac-ce4b4324ce03",
   "metadata": {},
   "source": [
    "stream_content = []\n",
    "for s in gpmf.parse.filter_klv(gpmf_stream, \"GYRO\"):\n",
    "    content = []\n",
    "    is_gyro = False\n",
    "    for elt in s.value:\n",
    "        content.append(elt)\n",
    "        \n",
    "    stream_content.append(content)"
   ],
   "outputs": []
  },
  {
   "cell_type": "code",
   "execution_count": 33,
   "id": "334a3387-3e8c-4724-a1cd-0ee70813b83e",
   "metadata": {},
   "source": [
    "len(stream_content) * 207"
   ],
   "outputs": []
  },
  {
   "cell_type": "code",
   "execution_count": 35,
   "id": "756eda45-8f42-4ba6-8047-32e3e36cb68f",
   "metadata": {},
   "source": [
    "len(stream_content[0])"
   ],
   "outputs": []
  },
  {
   "cell_type": "code",
   "execution_count": 50,
   "id": "85b9aab7-34dc-4624-9632-185cfbecad4a",
   "metadata": {},
   "source": [
    "plt.figure(figsize=(15,5))\n",
    "ax=plt.subplot(111)\n",
    "x = gaussian([np.mean([x for x, _, _ in content]) for content in stream_content], 1)\n",
    "ax.plot(x - np.mean(x), label=\"horizontal\")\n",
    "y = gaussian([np.mean([x for _, x, _ in content]) for content in stream_content], 1)\n",
    "ax.plot(y - np.mean(y), label=\"lens axis\")\n",
    "z = gaussian([np.mean([x for _, _, x in content]) for content in stream_content], 1)\n",
    "ax.plot(z - np.mean(z), label=\"vertical\")\n",
    "plt.ylabel(\"rad/s\")\n",
    "plt.xlabel(\"video time (x)\")\n",
    "plt.legend()\n",
    "plt.show()"
   ],
   "outputs": []
  },
  {
   "cell_type": "code",
   "execution_count": 51,
   "id": "11dc6dd5-2d1b-4c15-a606-066f46e2bdee",
   "metadata": {},
   "source": [
    "from pykalman import KalmanFilter"
   ],
   "outputs": []
  },
  {
   "cell_type": "code",
   "execution_count": 89,
   "id": "152e194b-f2fb-40b6-b9dc-1b58e26097c6",
   "metadata": {},
   "source": [
    "kf = KalmanFilter(n_dim_obs=1, em_vars=['transition_covariance', 'observation_covariance', 'initial_state_mean'])"
   ],
   "outputs": []
  },
  {
   "cell_type": "code",
   "execution_count": 98,
   "id": "3a6dda7c-aae9-483f-a73c-bccbb9a58e14",
   "metadata": {},
   "source": [
    "plt.plot(np.arange(0, len(y), 10), kf.em(y, n_iter=10).smooth(y[::10])[0].reshape(-1))\n",
    "plt.plot(buttap(y))\n",
    "plt.show()"
   ],
   "outputs": []
  },
  {
   "cell_type": "code",
   "execution_count": 161,
   "id": "7212cde1-b535-47f6-ac83-83c093fba151",
   "metadata": {},
   "source": [
    "sos = butter(1, 60, 'hp', fs=1000, output='sos')\n",
    "filtered = sosfilt(sos, y)"
   ],
   "outputs": []
  },
  {
   "cell_type": "code",
   "execution_count": 162,
   "id": "57dc2eb1-3cd9-471f-bced-b40cad9bb75a",
   "metadata": {},
   "source": [
    "plt.plot(filtered)\n",
    "plt.plot(y)\n",
    "plt.show()"
   ],
   "outputs": []
  },
  {
   "cell_type": "code",
   "execution_count": null,
   "id": "c3c986d9-c415-4ed8-aacc-0afc3f69cd5a",
   "metadata": {},
   "source": [],
   "outputs": []
  }
 ],
 "metadata": {
  "kernelspec": {
   "display_name": "Python 3 (ipykernel)",
   "language": "python",
   "name": "python3"
  },
  "language_info": {
   "codemirror_mode": {
    "name": "ipython",
    "version": 3
   },
   "file_extension": ".py",
   "mimetype": "text/x-python",
   "name": "python",
   "nbconvert_exporter": "python",
   "pygments_lexer": "ipython3",
   "version": "3.9.10"
  }
 },
 "nbformat": 4,
 "nbformat_minor": 5
}
