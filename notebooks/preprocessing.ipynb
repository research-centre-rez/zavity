{
 "cells": [
  {
   "cell_type": "code",
   "id": "initial_id",
   "metadata": {
    "collapsed": true,
    "ExecuteTime": {
     "end_time": "2024-07-22T13:54:04.339294Z",
     "start_time": "2024-07-22T13:54:03.342351Z"
    }
   },
   "source": [
    "import os\n",
    "import pandas as pd\n",
    "import numpy as np\n",
    "from matplotlib import pyplot as plt"
   ],
   "execution_count": 1,
   "outputs": []
  },
  {
   "metadata": {
    "ExecuteTime": {
     "end_time": "2024-07-22T13:54:04.347363Z",
     "start_time": "2024-07-22T13:54:04.342303Z"
    }
   },
   "cell_type": "code",
   "source": [
    "SRC = '/Users/fathe/OneDrive/Documents/UK/MFF/Thesis/input'\n",
    "videos = [file for file in os.listdir(SRC) if file.endswith(\"MP4\") and file.startswith(\"GX\")]\n",
    "axis_horizontal = \"y_shift\"\n",
    "axis_horizontal_diff = \"y_shift_diff\"\n",
    "axis_vertical = \"x_shift\"\n",
    "axis_vertical_diff = \"x_shift_diff\""
   ],
   "id": "885b5a0329968c2",
   "execution_count": 2,
   "outputs": []
  },
  {
   "metadata": {
    "ExecuteTime": {
     "end_time": "2024-07-22T13:54:04.358003Z",
     "start_time": "2024-07-22T13:54:04.348382Z"
    }
   },
   "cell_type": "code",
   "source": "video = videos[0]",
   "id": "1570e826e3fd96af",
   "execution_count": 3,
   "outputs": []
  },
  {
   "metadata": {
    "ExecuteTime": {
     "end_time": "2024-07-22T13:54:04.369045Z",
     "start_time": "2024-07-22T13:54:04.359011Z"
    }
   },
   "cell_type": "code",
   "source": "csvs = [file for file in os.listdir(SRC) if file.endswith(\"csv\") and file.startswith(video.removesuffix('.MP4'))]",
   "id": "64956a97705c05a4",
   "execution_count": 4,
   "outputs": []
  },
  {
   "metadata": {
    "ExecuteTime": {
     "end_time": "2024-07-22T13:54:11.285092Z",
     "start_time": "2024-07-22T13:54:11.277060Z"
    }
   },
   "cell_type": "code",
   "source": "csvs",
   "id": "d39ae8df8babd46e",
   "execution_count": 5,
   "outputs": []
  },
  {
   "metadata": {
    "ExecuteTime": {
     "end_time": "2024-07-22T13:54:33.144263Z",
     "start_time": "2024-07-22T13:54:33.062570Z"
    }
   },
   "cell_type": "code",
   "source": [
    "dfs = []\n",
    "for csv in csvs:\n",
    "    df = pd.read_csv(os.path.join(SRC, csv))\n",
    "    dfs.append(df)"
   ],
   "id": "c44c8069653f85b9",
   "execution_count": 6,
   "outputs": []
  },
  {
   "metadata": {
    "ExecuteTime": {
     "end_time": "2024-07-22T13:57:01.992243Z",
     "start_time": "2024-07-22T13:57:01.980675Z"
    }
   },
   "cell_type": "code",
   "source": [
    "intervals_horizontal = np.load(os.path.join(SRC, video).replace(\".MP4\", \"-intervals.npy\"))\n",
    "intervals_vertical = []\n",
    "mask_horizontal = pd.Series(False, index=dfs[0].index)\n",
    "mask_vertical = pd.Series(False, index=dfs[0].index)\n",
    "end_last = None\n",
    "for start, end in intervals_horizontal:\n",
    "    mask_horizontal |= (dfs[0]['frame_ID'] >= start) & (dfs[0]['frame_ID'] <= end)\n",
    "    \n",
    "    if end_last is not None:\n",
    "        mask_vertical |= (dfs[0]['frame_ID'] >= end_last) & (dfs[0]['frame_ID'] <= start)\n",
    "        intervals_vertical.append((end_last, start))\n",
    "    end_last = end"
   ],
   "id": "9c16925f86efa06f",
   "execution_count": 8,
   "outputs": []
  },
  {
   "metadata": {
    "ExecuteTime": {
     "end_time": "2024-07-22T13:57:03.057782Z",
     "start_time": "2024-07-22T13:57:02.507260Z"
    }
   },
   "cell_type": "code",
   "source": [
    "for df, csv in zip(dfs, csvs):\n",
    "    df.loc[mask_horizontal, axis_vertical_diff] = 0\n",
    "    df.loc[mask_vertical, axis_horizontal_diff] = 0\n",
    "    df.to_csv(os.path.join(SRC, csv).replace('.csv', '-preprocessed.csv'), index=False)"
   ],
   "id": "833c2dba5daf6e44",
   "execution_count": 9,
   "outputs": []
  },
  {
   "metadata": {},
   "cell_type": "code",
   "execution_count": null,
   "source": "",
   "id": "f5d892054d412649",
   "outputs": []
  }
 ],
 "metadata": {
  "kernelspec": {
   "display_name": "Python 3",
   "language": "python",
   "name": "python3"
  },
  "language_info": {
   "codemirror_mode": {
    "name": "ipython",
    "version": 2
   },
   "file_extension": ".py",
   "mimetype": "text/x-python",
   "name": "python",
   "nbconvert_exporter": "python",
   "pygments_lexer": "ipython2",
   "version": "2.7.6"
  }
 },
 "nbformat": 4,
 "nbformat_minor": 5
}
