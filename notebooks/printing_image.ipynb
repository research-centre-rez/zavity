{
 "cells": [
  {
   "metadata": {
    "ExecuteTime": {
     "end_time": "2024-08-13T05:54:42.640498Z",
     "start_time": "2024-08-13T05:54:42.553996Z"
    }
   },
   "cell_type": "code",
   "source": [
    "import os\n",
    "import cv2\n",
    "import pandas as pd\n",
    "import numpy as np\n",
    "from matplotlib import pyplot as plt\n",
    "from tqdm.auto import tqdm"
   ],
   "id": "aac6d2a81f2606e4",
   "execution_count": 16,
   "outputs": []
  },
  {
   "cell_type": "code",
   "id": "initial_id",
   "metadata": {
    "collapsed": true,
    "ExecuteTime": {
     "end_time": "2024-08-13T05:48:24.701812Z",
     "start_time": "2024-08-13T05:48:24.696924Z"
    }
   },
   "source": [
    "SRC = '/Users/fathe/OneDrive/Documents/UK/MFF/Thesis/input'\n",
    "videos = [file for file in os.listdir(SRC) if file.endswith(\"MP4\") and file.startswith(\"GX\")]"
   ],
   "execution_count": 2,
   "outputs": []
  },
  {
   "metadata": {
    "ExecuteTime": {
     "end_time": "2024-08-13T05:48:59.060855Z",
     "start_time": "2024-08-13T05:48:59.056663Z"
    }
   },
   "cell_type": "code",
   "source": "video = videos[-2]",
   "id": "ef9a64a8810ba39f",
   "execution_count": 4,
   "outputs": []
  },
  {
   "metadata": {
    "ExecuteTime": {
     "end_time": "2024-08-13T05:49:04.281409Z",
     "start_time": "2024-08-13T05:49:04.275172Z"
    }
   },
   "cell_type": "code",
   "source": "video",
   "id": "606a94ccbe198fce",
   "execution_count": 6,
   "outputs": []
  },
  {
   "metadata": {
    "ExecuteTime": {
     "end_time": "2024-08-13T05:49:05.723143Z",
     "start_time": "2024-08-13T05:49:05.718303Z"
    }
   },
   "cell_type": "code",
   "source": "csvs = [file for file in os.listdir(SRC) if file.endswith(\"intervals-errfilter.csv\") and file.startswith(video.removesuffix('.MP4'))]",
   "id": "f91a977740e51a4e",
   "execution_count": 7,
   "outputs": []
  },
  {
   "metadata": {
    "ExecuteTime": {
     "end_time": "2024-08-13T05:49:18.330484Z",
     "start_time": "2024-08-13T05:49:18.324429Z"
    }
   },
   "cell_type": "code",
   "source": "csvs",
   "id": "ddf3c58908a9df",
   "execution_count": 8,
   "outputs": []
  },
  {
   "metadata": {
    "ExecuteTime": {
     "end_time": "2024-08-13T05:51:00.060404Z",
     "start_time": "2024-08-13T05:51:00.056036Z"
    }
   },
   "cell_type": "code",
   "source": "csv = csvs[1]",
   "id": "81a529918c22d80c",
   "execution_count": 9,
   "outputs": []
  },
  {
   "metadata": {
    "ExecuteTime": {
     "end_time": "2024-08-13T05:51:00.313343Z",
     "start_time": "2024-08-13T05:51:00.307941Z"
    }
   },
   "cell_type": "code",
   "source": "csv",
   "id": "2b5cfb194322315c",
   "execution_count": 10,
   "outputs": []
  },
  {
   "metadata": {
    "ExecuteTime": {
     "end_time": "2024-08-13T05:51:59.164470Z",
     "start_time": "2024-08-13T05:51:59.131684Z"
    }
   },
   "cell_type": "code",
   "source": "df = pd.read_csv(os.path.join(SRC, csv))",
   "id": "da9b068de80ecc1",
   "execution_count": 11,
   "outputs": []
  },
  {
   "metadata": {
    "ExecuteTime": {
     "end_time": "2024-08-13T16:46:41.461286Z",
     "start_time": "2024-08-13T16:46:41.450743Z"
    }
   },
   "cell_type": "code",
   "source": "df",
   "id": "4c1b66142e545caa",
   "execution_count": 86,
   "outputs": []
  },
  {
   "metadata": {
    "ExecuteTime": {
     "end_time": "2024-08-13T16:56:00.117052Z",
     "start_time": "2024-08-13T16:56:00.062040Z"
    }
   },
   "cell_type": "code",
   "source": [
    "vidcap = cv2.VideoCapture(os.path.join(SRC, video))\n",
    "image = np.zeros((28196+21, 1424+2160), dtype=np.float32)\n",
    "gaussian_kernel  = cv2.getGaussianKernel(ksize=21, sigma=5)"
   ],
   "id": "174b9a85b7fd387",
   "execution_count": 91,
   "outputs": []
  },
  {
   "metadata": {
    "ExecuteTime": {
     "end_time": "2024-08-13T08:53:49.746425Z",
     "start_time": "2024-08-13T08:53:49.740714Z"
    }
   },
   "cell_type": "code",
   "source": "gaussian_kernel[:, :, np.newaxis].shape",
   "id": "3a719f99181b6709",
   "execution_count": 38,
   "outputs": []
  },
  {
   "metadata": {
    "ExecuteTime": {
     "end_time": "2024-08-13T08:42:59.837911Z",
     "start_time": "2024-08-13T08:42:59.832355Z"
    }
   },
   "cell_type": "code",
   "source": "vidcap.get(cv2.CAP_PROP_FRAME_WIDTH), vidcap.get(cv2.CAP_PROP_FRAME_HEIGHT)",
   "id": "17a42c616efc75d0",
   "execution_count": 25,
   "outputs": []
  },
  {
   "metadata": {
    "ExecuteTime": {
     "end_time": "2024-08-13T17:08:16.863579Z",
     "start_time": "2024-08-13T16:56:01.271646Z"
    }
   },
   "cell_type": "code",
   "source": [
    "pbar = tqdm(total=vidcap.get(cv2.CAP_PROP_FRAME_COUNT), desc=f\"Printing image from video\")\n",
    "for index, (frame_n, x_shift, y_shift) in df.iterrows():\n",
    "    ret, frame = vidcap.read()\n",
    "    frame = cv2.cvtColor(frame, cv2.COLOR_BGR2GRAY)\n",
    "    cropped_frame = frame[1800:1821, :]\n",
    "    cropped_frame = cropped_frame.astype(np.float32)\n",
    "    weighted_frame = cropped_frame * gaussian_kernel\n",
    "    \n",
    "    # Add the weighted frame to the image at the specified position\n",
    "    x_start = int(-x_shift)\n",
    "    y_start = int(-y_shift)\n",
    "\n",
    "    # Ensure the region is within image boundaries\n",
    "    x_end = x_start + weighted_frame.shape[1]\n",
    "    y_end = y_start + weighted_frame.shape[0]\n",
    "\n",
    "    print(y_start, y_end, x_start, x_end)\n",
    "    image[y_start:y_end, x_start:x_end] += weighted_frame\n",
    "    \n",
    "    pbar.update(1)\n",
    "    "
   ],
   "id": "983915828af8cb84",
   "execution_count": null,
   "outputs": []
  },
  {
   "metadata": {
    "ExecuteTime": {
     "end_time": "2024-08-13T17:13:14.362588Z",
     "start_time": "2024-08-13T17:13:14.356980Z"
    }
   },
   "cell_type": "code",
   "source": "image.shape[0]/10, image.shape[1]/10",
   "id": "5805a3f4e62cee6d",
   "execution_count": 97,
   "outputs": []
  },
  {
   "metadata": {
    "ExecuteTime": {
     "end_time": "2024-08-13T17:13:52.485548Z",
     "start_time": "2024-08-13T17:13:30.475606Z"
    }
   },
   "cell_type": "code",
   "source": [
    "cv2.normalize(image, image, 0, 255, cv2.NORM_MINMAX)\n",
    "\n",
    "image = cv2.resize(image, (int(image.shape[0]/10), int(image.shape[1]/10)))\n",
    "cv2.imshow('Cropped Frame', image)\n",
    "cv2.waitKey(0)\n",
    "cv2.destroyAllWindows()\n",
    "pbar.close()"
   ],
   "id": "cd502c5624d35e",
   "execution_count": 98,
   "outputs": []
  },
  {
   "metadata": {
    "ExecuteTime": {
     "end_time": "2024-08-13T17:10:24.449361Z",
     "start_time": "2024-08-13T17:10:24.221018Z"
    }
   },
   "cell_type": "code",
   "source": "cv2.imwrite('test.png', image)",
   "id": "67d9b30954730c49",
   "execution_count": 95,
   "outputs": []
  },
  {
   "metadata": {
    "ExecuteTime": {
     "end_time": "2024-08-13T16:17:03.675823Z",
     "start_time": "2024-08-13T16:17:03.669646Z"
    }
   },
   "cell_type": "code",
   "source": "weighted_frame",
   "id": "a28aa59230d021c",
   "execution_count": 66,
   "outputs": []
  },
  {
   "metadata": {
    "ExecuteTime": {
     "end_time": "2024-08-13T16:20:12.057753Z",
     "start_time": "2024-08-13T16:20:12.051744Z"
    }
   },
   "cell_type": "code",
   "source": "frame",
   "id": "d5dd98299e17930e",
   "execution_count": 71,
   "outputs": []
  },
  {
   "metadata": {
    "ExecuteTime": {
     "end_time": "2024-08-13T08:54:52.711005Z",
     "start_time": "2024-08-13T08:54:52.701944Z"
    }
   },
   "cell_type": "code",
   "source": "cropped_frame * gaussian_kernel[:, :, np.newaxis]",
   "id": "196f71a895257a30",
   "execution_count": 41,
   "outputs": []
  },
  {
   "metadata": {
    "ExecuteTime": {
     "end_time": "2024-08-13T09:01:08.227851Z",
     "start_time": "2024-08-13T09:01:08.222264Z"
    }
   },
   "cell_type": "code",
   "source": "np.array([[1, 1, 1], [2, 2, 2], [3, 3, 3]])",
   "id": "f0e41f4c922a02a6",
   "execution_count": 57,
   "outputs": []
  },
  {
   "metadata": {
    "ExecuteTime": {
     "end_time": "2024-08-13T09:01:33.652219Z",
     "start_time": "2024-08-13T09:01:33.643711Z"
    }
   },
   "cell_type": "code",
   "source": "np.array([[1, 1, 1], [2, 2, 2], [3, 3, 3]]) * cv2.getGaussianKernel(3, 1) ",
   "id": "a0c88146362f8ebb",
   "execution_count": 59,
   "outputs": []
  },
  {
   "metadata": {
    "ExecuteTime": {
     "end_time": "2024-08-13T08:59:57.422161Z",
     "start_time": "2024-08-13T08:59:57.416430Z"
    }
   },
   "cell_type": "code",
   "source": "cv2.getGaussianKernel(3, 1) ",
   "id": "6d3562fbaf4ef28d",
   "execution_count": 53,
   "outputs": []
  },
  {
   "metadata": {},
   "cell_type": "code",
   "execution_count": null,
   "source": "",
   "id": "79e3a7bd8a2e0669",
   "outputs": []
  }
 ],
 "metadata": {
  "kernelspec": {
   "display_name": "Python 3",
   "language": "python",
   "name": "python3"
  },
  "language_info": {
   "codemirror_mode": {
    "name": "ipython",
    "version": 2
   },
   "file_extension": ".py",
   "mimetype": "text/x-python",
   "name": "python",
   "nbconvert_exporter": "python",
   "pygments_lexer": "ipython2",
   "version": "2.7.6"
  }
 },
 "nbformat": 4,
 "nbformat_minor": 5
}
